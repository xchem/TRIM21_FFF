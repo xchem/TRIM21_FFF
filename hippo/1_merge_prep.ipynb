{
 "cells": [
  {
   "cell_type": "markdown",
   "id": "2647d525-7b2a-450f-bfdf-372bb714fc68",
   "metadata": {},
   "source": [
    "# FFF HIPPO notebook 1: merge prep"
   ]
  },
  {
   "cell_type": "code",
   "execution_count": 1,
   "id": "2219f460-cee0-4c10-8a51-5d8b6d3201bd",
   "metadata": {},
   "outputs": [],
   "source": [
    "%load_ext autoreload\n",
    "%autoreload 2\n",
    "import hippo\n",
    "from os import environ, system\n",
    "from pathlib import Path\n",
    "import json\n",
    "from mrich import print\n",
    "import mrich\n",
    "import shutil\n",
    "import molparse as mp"
   ]
  },
  {
   "cell_type": "markdown",
   "id": "2a66de41-9717-4596-b59e-51314d1f4620",
   "metadata": {},
   "source": [
    "## Get BulkDock HIPPO database"
   ]
  },
  {
   "cell_type": "code",
   "execution_count": 2,
   "id": "459f31a9-ffa0-48b4-812c-ad4348980cd9",
   "metadata": {},
   "outputs": [],
   "source": [
    "target_name = \"TRIM21\""
   ]
  },
  {
   "cell_type": "code",
   "execution_count": 3,
   "id": "567a1c07-ae3c-4dcf-9e54-8ad222e0e493",
   "metadata": {},
   "outputs": [
    {
     "data": {
      "text/html": [
       "<pre style=\"white-space:pre;overflow-x:auto;line-height:normal;font-family:Menlo,'DejaVu Sans Mono',consolas,'Courier New',monospace;margin:0px\"><span style=\"font-weight: bold\"> Creating HIPPO animal</span>\n",
       "</pre>\n"
      ],
      "text/plain": [
       "\u001b[1m Creating HIPPO animal\u001b[0m\n"
      ]
     },
     "metadata": {},
     "output_type": "display_data"
    },
    {
     "data": {
      "text/html": [
       "<pre style=\"white-space:pre;overflow-x:auto;line-height:normal;font-family:Menlo,'DejaVu Sans Mono',consolas,'Courier New',monospace;margin:0px\"><span style=\"color: #008080; text-decoration-color: #008080; font-weight: bold\">name</span> = <span style=\"color: #00d7af; text-decoration-color: #00d7af\">TRIM21</span>\n",
       "</pre>\n"
      ],
      "text/plain": [
       "\u001b[1;36mname\u001b[0m = \u001b[38;5;43mTRIM21\u001b[0m\n"
      ]
     },
     "metadata": {},
     "output_type": "display_data"
    },
    {
     "data": {
      "text/html": [
       "<pre style=\"white-space:pre;overflow-x:auto;line-height:normal;font-family:Menlo,'DejaVu Sans Mono',consolas,'Courier New',monospace;margin:0px\"><span style=\"color: #008080; text-decoration-color: #008080; font-weight: bold\">db_path</span> = <span style=\"color: #d7af00; text-decoration-color: #d7af00\">/opt/xchem-fragalysis-2/maxwin/BulkDock/TARGETS/TRIM21/TRIM21.sqlite</span>\n",
       "</pre>\n"
      ],
      "text/plain": [
       "\u001b[1;36mdb_path\u001b[0m = \u001b[38;5;178m/opt/xchem-fragalysis-2/maxwin/BulkDock/TARGETS/TRIM21/TRIM21.sqlite\u001b[0m\n"
      ]
     },
     "metadata": {},
     "output_type": "display_data"
    },
    {
     "data": {
      "text/html": [
       "<pre style=\"white-space:pre;overflow-x:auto;line-height:normal;font-family:Menlo,'DejaVu Sans Mono',consolas,'Courier New',monospace;margin:0px\"><span style=\"color: #808080; text-decoration-color: #808080\">DEBUG: hippo.Database.__init__()</span>\n",
       "</pre>\n"
      ],
      "text/plain": [
       "\u001b[90mDEBUG: hippo.Database.__init__()\u001b[0m\n"
      ]
     },
     "metadata": {},
     "output_type": "display_data"
    },
    {
     "data": {
      "text/html": [
       "<pre style=\"white-space:pre;overflow-x:auto;line-height:normal;font-family:Menlo,'DejaVu Sans Mono',consolas,'Courier New',monospace;margin:0px\"><span style=\"color: #808080; text-decoration-color: #808080\">DEBUG: Database.path = /opt/xchem-fragalysis-2/maxwin/BulkDock/TARGETS/TRIM21/TRIM21.sqlite</span>\n",
       "</pre>\n"
      ],
      "text/plain": [
       "\u001b[90mDEBUG: Database.path = /opt/xchem-fragalysis-2/maxwin/BulkDock/TARGETS/TRIM21/TRIM21.sqlite\u001b[0m\n"
      ]
     },
     "metadata": {},
     "output_type": "display_data"
    },
    {
     "data": {
      "text/html": [
       "<pre style=\"white-space:pre;overflow-x:auto;line-height:normal;font-family:Menlo,'DejaVu Sans Mono',consolas,'Courier New',monospace;margin:0px\"><span style=\"color: #808080; text-decoration-color: #808080\">DEBUG: hippo.Database.connect()</span>\n",
       "</pre>\n"
      ],
      "text/plain": [
       "\u001b[90mDEBUG: hippo.Database.connect()\u001b[0m\n"
      ]
     },
     "metadata": {},
     "output_type": "display_data"
    },
    {
     "data": {
      "text/html": [
       "<pre style=\"white-space:pre;overflow-x:auto;line-height:normal;font-family:Menlo,'DejaVu Sans Mono',consolas,'Courier New',monospace;margin:0px\"><span style=\"color: #808080; text-decoration-color: #808080\">DEBUG: sqlite3.version='2.6.0'</span>\n",
       "</pre>\n"
      ],
      "text/plain": [
       "\u001b[90mDEBUG: sqlite3.version='2.6.0'\u001b[0m\n"
      ]
     },
     "metadata": {},
     "output_type": "display_data"
    },
    {
     "data": {
      "text/html": [
       "<pre style=\"white-space:pre;overflow-x:auto;line-height:normal;font-family:Menlo,'DejaVu Sans Mono',consolas,'Courier New',monospace;margin:0px\"><span style=\"background-color: #008000; font-weight: bold\"> Success </span><span style=\"color: #008000; text-decoration-color: #008000; font-weight: bold\"> Database connected @</span><span style=\"color: #d7af00; text-decoration-color: #d7af00; font-weight: bold\"> /opt/xchem-fragalysis-2/maxwin/BulkDock/TARGETS/TRIM21/TRIM21.sqlite!</span>\n",
       "</pre>\n"
      ],
      "text/plain": [
       "\u001b[1;7;32m Success \u001b[0m\u001b[1;32m Database connected @\u001b[0m\u001b[1;38;5;178m /opt/xchem-fragalysis-2/maxwin/BulkDock/TARGETS/TRIM21/TRIM21.sqlite!\u001b[0m\n"
      ]
     },
     "metadata": {},
     "output_type": "display_data"
    },
    {
     "data": {
      "text/html": [
       "<pre style=\"white-space:pre;overflow-x:auto;line-height:normal;font-family:Menlo,'DejaVu Sans Mono',consolas,'Courier New',monospace;margin:0px\"><span style=\"background-color: #008000; font-weight: bold\"> Success </span><span style=\"color: #008000; text-decoration-color: #008000; font-weight: bold\"> Initialised animal</span><span style=\"color: #008080; text-decoration-color: #008080; font-weight: bold\"> HIPPO(\"TRIM21\")!</span>\n",
       "</pre>\n"
      ],
      "text/plain": [
       "\u001b[1;7;32m Success \u001b[0m\u001b[1;32m Initialised animal\u001b[0m\u001b[1;36m HIPPO(\"TRIM21\")!\u001b[0m\n"
      ]
     },
     "metadata": {},
     "output_type": "display_data"
    }
   ],
   "source": [
    "animal = hippo.HIPPO(target_name, Path(environ[\"BULK\"])/\"TARGETS\"/target_name/f\"{target_name}.sqlite\")"
   ]
  },
  {
   "cell_type": "markdown",
   "id": "4e56bff2-81ef-4e06-9e6c-3a5f01c06557",
   "metadata": {},
   "source": [
    "## Define merging hypotheses"
   ]
  },
  {
   "cell_type": "code",
   "execution_count": 7,
   "id": "77c29376-6d03-40c6-8d82-a41e96241a12",
   "metadata": {},
   "outputs": [
    {
     "data": {
      "text/html": [
       "<pre style=\"white-space:pre;overflow-x:auto;line-height:normal;font-family:Menlo,'DejaVu Sans Mono',consolas,'Courier New',monospace;margin:0px\">Tagged poses tagged <span style=\"color: #008000; text-decoration-color: #008000\">\"hits\"</span>: <span style=\"font-weight: bold\">{</span>P × <span style=\"color: #008080; text-decoration-color: #008080; font-weight: bold\">83</span><span style=\"font-weight: bold\">}</span> w/ <span style=\"color: #008000; text-decoration-color: #008000\">\"iter1_hits\"</span>\n",
       "</pre>\n"
      ],
      "text/plain": [
       "Tagged poses tagged \u001b[32m\"hits\"\u001b[0m: \u001b[1m{\u001b[0mP × \u001b[1;36m83\u001b[0m\u001b[1m}\u001b[0m w/ \u001b[32m\"iter1_hits\"\u001b[0m\n"
      ]
     },
     "metadata": {},
     "output_type": "display_data"
    }
   ],
   "source": [
    "hits = animal.poses(tag=\"hits\")\n",
    "hits.add_tag(\"iter1_hits\")"
   ]
  },
  {
   "cell_type": "code",
   "execution_count": 8,
   "id": "04bba1aa-bd5a-49f6-9f32-aa8b75a2f1ed",
   "metadata": {},
   "outputs": [
    {
     "data": {
      "text/plain": [
       "{'BAD count',\n",
       " 'GOOD count',\n",
       " 'MEDIOCRE count',\n",
       " 'Main status',\n",
       " '[Other] upload_1 2025-03-17',\n",
       " 'hits',\n",
       " 'iter1_hits'}"
      ]
     },
     "execution_count": 8,
     "metadata": {},
     "output_type": "execute_result"
    }
   ],
   "source": [
    "animal.tags.unique"
   ]
  },
  {
   "cell_type": "code",
   "execution_count": 9,
   "id": "76b287d7-38ba-4f3c-a792-80a9eb22dcee",
   "metadata": {},
   "outputs": [],
   "source": [
    "merging_hypotheses = {\n",
    "    # nickname: tag,\n",
    "    \"iter1\" : \"iter1_hits\",\n",
    "}\n",
    "\n",
    "json.dump(merging_hypotheses, open(\"merging_hypotheses.json\", \"wt\"))"
   ]
  },
  {
   "cell_type": "code",
   "execution_count": 10,
   "id": "166d35e4-0a9c-4573-be28-f2858cabbe92",
   "metadata": {},
   "outputs": [
    {
     "data": {
      "text/plain": [
       "0"
      ]
     },
     "execution_count": 10,
     "metadata": {},
     "output_type": "execute_result"
    }
   ],
   "source": [
    "# rename things in the README for convenience\n",
    "system(f\"sed -i 's/TARGET_NAME/{target_name}/g' ../README.md\")\n",
    "system(f\"sed -i 's/HYPOTHESIS_NICKNAME/{list(merging_hypotheses.keys())[0]}/g' ../README.md\")"
   ]
  },
  {
   "cell_type": "markdown",
   "id": "2fe6f3a6-9125-41ac-b0c4-fb5128308570",
   "metadata": {},
   "source": [
    "## Knitwork & Fragmenstein inputs\n",
    "\n",
    "### Create input SDFs & CSVs"
   ]
  },
  {
   "cell_type": "code",
   "execution_count": 13,
   "id": "2cc75013-8170-40a0-8e10-8d704ec7c155",
   "metadata": {},
   "outputs": [
    {
     "data": {
      "text/html": [
       "<pre style=\"white-space:pre;overflow-x:auto;line-height:normal;font-family:Menlo,'DejaVu Sans Mono',consolas,'Courier New',monospace;margin:0px\">╭───────╮\n",
       "│ iter1 │\n",
       "╰───────╯\n",
       "</pre>\n"
      ],
      "text/plain": [
       "╭───────╮\n",
       "│ iter1 │\n",
       "╰───────╯\n"
      ]
     },
     "metadata": {},
     "output_type": "display_data"
    },
    {
     "data": {
      "text/html": [
       "<pre style=\"white-space:pre;overflow-x:auto;line-height:normal;font-family:Menlo,'DejaVu Sans Mono',consolas,'Courier New',monospace;margin:0px\"><span style=\"color: #008080; text-decoration-color: #008080; font-weight: bold\">poses</span> = <span style=\"font-weight: bold; text-decoration: underline\">poses tagged \"iter1_hits\": {P × 83}</span>\n",
       "</pre>\n"
      ],
      "text/plain": [
       "\u001b[1;36mposes\u001b[0m = \u001b[1;4mposes tagged \"iter1_hits\": {P × 83}\u001b[0m\n"
      ]
     },
     "metadata": {},
     "output_type": "display_data"
    },
    {
     "data": {
      "text/html": [
       "<pre style=\"white-space:pre;overflow-x:auto;line-height:normal;font-family:Menlo,'DejaVu Sans Mono',consolas,'Courier New',monospace;margin:0px\"><span style=\"color: #008080; text-decoration-color: #008080; font-weight: bold\">out_path</span> = <span style=\"color: #d7af00; text-decoration-color: #d7af00\">/opt/xchem-fragalysis-2/maxwin/TRIM21_FFF/knitwork/iter1/iter1_input.csv</span>\n",
       "</pre>\n"
      ],
      "text/plain": [
       "\u001b[1;36mout_path\u001b[0m = \u001b[38;5;178m/opt/xchem-fragalysis-2/maxwin/TRIM21_FFF/knitwork/iter1/iter1_input.csv\u001b[0m\n"
      ]
     },
     "metadata": {},
     "output_type": "display_data"
    },
    {
     "data": {
      "text/html": [
       "<pre style=\"white-space:pre;overflow-x:auto;line-height:normal;font-family:Menlo,'DejaVu Sans Mono',consolas,'Courier New',monospace;margin:0px\"><span style=\"color: #008080; text-decoration-color: #008080; font-weight: bold\">path_root</span> = <span style=\"color: #d7af00; text-decoration-color: #d7af00\">/opt/xchem-fragalysis-2/maxwin/TRIM21_FFF/knitwork/iter1</span>\n",
       "</pre>\n"
      ],
      "text/plain": [
       "\u001b[1;36mpath_root\u001b[0m = \u001b[38;5;178m/opt/xchem-fragalysis-2/maxwin/TRIM21_FFF/knitwork/iter1\u001b[0m\n"
      ]
     },
     "metadata": {},
     "output_type": "display_data"
    },
    {
     "data": {
      "text/html": [
       "<pre style=\"white-space:pre;overflow-x:auto;line-height:normal;font-family:Menlo,'DejaVu Sans Mono',consolas,'Courier New',monospace;margin:0px\"><span style=\"color: #008080; text-decoration-color: #008080; font-weight: bold\">aligned_files_dir</span> = ..<span style=\"color: #800080; text-decoration-color: #800080\">/</span><span style=\"color: #ff00ff; text-decoration-color: #ff00ff\">aligned_files</span>\n",
       "</pre>\n"
      ],
      "text/plain": [
       "\u001b[1;36maligned_files_dir\u001b[0m = ..\u001b[35m/\u001b[0m\u001b[95maligned_files\u001b[0m\n"
      ]
     },
     "metadata": {},
     "output_type": "display_data"
    },
    {
     "data": {
      "text/html": [
       "<pre style=\"white-space:pre;overflow-x:auto;line-height:normal;font-family:Menlo,'DejaVu Sans Mono',consolas,'Courier New',monospace;margin:0px\"><span style=\"background-color: #d7af00; font-weight: bold\"> DISK </span> Writing <span style=\"color: #d7af00; text-decoration-color: #d7af00\">/opt/xchem-fragalysis-2/maxwin/TRIM21_FFF/knitwork/iter1/iter1_input.csv</span>...\n",
       "</pre>\n"
      ],
      "text/plain": [
       "\u001b[1;7;38;5;178m DISK \u001b[0m Writing \u001b[38;5;178m/opt/xchem-fragalysis-2/maxwin/TRIM21_FFF/knitwork/iter1/iter1_input.csv\u001b[0m...\n"
      ]
     },
     "metadata": {},
     "output_type": "display_data"
    },
    {
     "data": {
      "application/vnd.jupyter.widget-view+json": {
       "model_id": "9c2375dc5bd547bdac6fa5e1716c0fd3",
       "version_major": 2,
       "version_minor": 0
      },
      "text/plain": [
       "Output()"
      ]
     },
     "metadata": {},
     "output_type": "display_data"
    },
    {
     "data": {
      "text/html": [
       "<pre style=\"white-space:pre;overflow-x:auto;line-height:normal;font-family:Menlo,'DejaVu Sans Mono',consolas,'Courier New',monospace;margin:0px\"></pre>\n"
      ],
      "text/plain": []
     },
     "metadata": {},
     "output_type": "display_data"
    },
    {
     "data": {
      "text/html": [
       "<pre style=\"white-space:pre;overflow-x:auto;line-height:normal;font-family:Menlo,'DejaVu Sans Mono',consolas,'Courier New',monospace;margin:0px\"><span style=\"background-color: #d7af00; font-weight: bold\"> DISK </span> Writing <span style=\"color: #d7af00; text-decoration-color: #d7af00\">../knitwork/iter1/iter1_hits.sdf</span>...\n",
       "</pre>\n"
      ],
      "text/plain": [
       "\u001b[1;7;38;5;178m DISK \u001b[0m Writing \u001b[38;5;178m../knitwork/iter1/iter1_hits.sdf\u001b[0m...\n"
      ]
     },
     "metadata": {},
     "output_type": "display_data"
    },
    {
     "data": {
      "text/html": [
       "<pre style=\"white-space:pre;overflow-x:auto;line-height:normal;font-family:Menlo,'DejaVu Sans Mono',consolas,'Courier New',monospace;margin:0px\"><span style=\"color: #008080; text-decoration-color: #008080; font-weight: bold\">ref_pose</span> = <span style=\"font-weight: bold; text-decoration: underline\">C1-&gt;P1: \"m0145a\"</span>\n",
       "</pre>\n"
      ],
      "text/plain": [
       "\u001b[1;36mref_pose\u001b[0m = \u001b[1;4mC1->P1: \"m0145a\"\u001b[0m\n"
      ]
     },
     "metadata": {},
     "output_type": "display_data"
    }
   ],
   "source": [
    "for nickname, tag in merging_hypotheses.items():\n",
    "    \n",
    "    poses = animal.poses(tag=tag)\n",
    "    mrich.h3(nickname)\n",
    "    mrich.var(\"poses\", poses)\n",
    "\n",
    "    # knitwork\n",
    "    out_dir = Path(f\"../knitwork/{nickname}\")\n",
    "    out_dir.mkdir(parents=True, exist_ok=True)\n",
    "    poses.to_knitwork(out_dir / f\"{nickname}_input.csv\", path_root=out_dir, aligned_files_dir=\"../aligned_files\")\n",
    "\n",
    "    # # fragmenstein\n",
    "    poses.write_sdf(out_dir / f\"{nickname}_hits.sdf\")\n",
    "    Path(f\"../fragmenstein/{nickname}\").mkdir(parents=True, exist_ok=True)\n",
    "    shutil.copy(out_dir / f\"{nickname}_hits.sdf\", Path(f\"../fragmenstein/{nickname}\") / f\"{nickname}_hits.sdf\")\n",
    "\n",
    "    ref_pose = poses[0]\n",
    "    mrich.var(\"ref_pose\", ref_pose)\n",
    "    shutil.copy(ref_pose.apo_path, Path(f\"../fragmenstein/{nickname}\"))"
   ]
  },
  {
   "cell_type": "markdown",
   "id": "e54d68c1-9022-40ac-88a6-a3b514915270",
   "metadata": {},
   "source": [
    "### Create protonated PDBs for Knitwork"
   ]
  },
  {
   "cell_type": "code",
   "execution_count": 14,
   "id": "74c4e219-7ba4-41cd-b1ce-aa13e46196e7",
   "metadata": {},
   "outputs": [
    {
     "data": {
      "application/vnd.jupyter.widget-view+json": {
       "model_id": "91c2d4e22210434e8487f384e560d5ce",
       "version_major": 2,
       "version_minor": 0
      },
      "text/plain": [
       "Output()"
      ]
     },
     "metadata": {},
     "output_type": "display_data"
    },
    {
     "data": {
      "text/html": [
       "<pre style=\"white-space:pre;overflow-x:auto;line-height:normal;font-family:Menlo,'DejaVu Sans Mono',consolas,'Courier New',monospace;margin:0px\"><span style=\"background-color: #ff8700; font-weight: bold\"> Warning </span><span style=\"color: #ff8700; text-decoration-color: #ff8700\"> fixer.missingAtoms={&lt;Residue 184 (LEU) of chain 0&gt;: [&lt;Atom 3 (CG) of chain 0 residue 0 (LEU)&gt;, &lt;Atom 4 </span>\n",
       "<span style=\"color: #ff8700; text-decoration-color: #ff8700\">(CD1) of chain 0 residue 0 (LEU)&gt;, &lt;Atom 5 (CD2) of chain 0 residue 0 (LEU)&gt;]}!</span>\n",
       "</pre>\n"
      ],
      "text/plain": [
       "\u001b[1;7;38;5;208m Warning \u001b[0m\u001b[38;5;208m fixer.missingAtoms={<Residue 184 (LEU) of chain 0>: [<Atom 3 (CG) of chain 0 residue 0 (LEU)>, <Atom 4 \u001b[0m\n",
       "\u001b[38;5;208m(CD1) of chain 0 residue 0 (LEU)>, <Atom 5 (CD2) of chain 0 residue 0 (LEU)>]}!\u001b[0m\n"
      ]
     },
     "metadata": {},
     "output_type": "display_data"
    },
    {
     "data": {
      "text/html": [
       "<pre style=\"white-space:pre;overflow-x:auto;line-height:normal;font-family:Menlo,'DejaVu Sans Mono',consolas,'Courier New',monospace;margin:0px\">fixer.<span style=\"color: #808000; text-decoration-color: #808000\">missingTerminals</span>=<span style=\"font-weight: bold\">{&lt;</span><span style=\"color: #ff00ff; text-decoration-color: #ff00ff; font-weight: bold\">Residue</span><span style=\"color: #000000; text-decoration-color: #000000\"> </span><span style=\"color: #008080; text-decoration-color: #008080; font-weight: bold\">184</span><span style=\"color: #000000; text-decoration-color: #000000\"> </span><span style=\"color: #000000; text-decoration-color: #000000; font-weight: bold\">(</span><span style=\"color: #000000; text-decoration-color: #000000\">LEU</span><span style=\"color: #000000; text-decoration-color: #000000; font-weight: bold\">)</span><span style=\"color: #000000; text-decoration-color: #000000\"> of chain </span><span style=\"color: #008080; text-decoration-color: #008080; font-weight: bold\">0</span><span style=\"font-weight: bold\">&gt;</span>: <span style=\"font-weight: bold\">[</span><span style=\"color: #008000; text-decoration-color: #008000\">'OXT'</span><span style=\"font-weight: bold\">]}</span>\n",
       "</pre>\n"
      ],
      "text/plain": [
       "fixer.\u001b[33mmissingTerminals\u001b[0m=\u001b[1m{\u001b[0m\u001b[1m<\u001b[0m\u001b[1;95mResidue\u001b[0m\u001b[39m \u001b[0m\u001b[1;36m184\u001b[0m\u001b[39m \u001b[0m\u001b[1;39m(\u001b[0m\u001b[39mLEU\u001b[0m\u001b[1;39m)\u001b[0m\u001b[39m of chain \u001b[0m\u001b[1;36m0\u001b[0m\u001b[1m>\u001b[0m: \u001b[1m[\u001b[0m\u001b[32m'OXT'\u001b[0m\u001b[1m]\u001b[0m\u001b[1m}\u001b[0m\n"
      ]
     },
     "metadata": {},
     "output_type": "display_data"
    },
    {
     "data": {
      "text/html": [
       "<pre style=\"white-space:pre;overflow-x:auto;line-height:normal;font-family:Menlo,'DejaVu Sans Mono',consolas,'Courier New',monospace;margin:0px\"><span style=\"background-color: #d7af00; font-weight: bold\"> DISK </span> Writing <span style=\"color: #d7af00; text-decoration-color: #d7af00\">../aligned_files/m0145a/m0145a_apo-desolv-Hs.pdb</span>...\n",
       "</pre>\n"
      ],
      "text/plain": [
       "\u001b[1;7;38;5;178m DISK \u001b[0m Writing \u001b[38;5;178m../aligned_files/m0145a/m0145a_apo-desolv-Hs.pdb\u001b[0m...\n"
      ]
     },
     "metadata": {},
     "output_type": "display_data"
    },
    {
     "data": {
      "text/html": [
       "<pre style=\"white-space:pre;overflow-x:auto;line-height:normal;font-family:Menlo,'DejaVu Sans Mono',consolas,'Courier New',monospace;margin:0px\"><span style=\"background-color: #ff8700; font-weight: bold\"> Warning </span><span style=\"color: #ff8700; text-decoration-color: #ff8700\"> fixer.missingAtoms={&lt;Residue 184 (LEU) of chain 0&gt;: [&lt;Atom 3 (CG) of chain 0 residue 0 (LEU)&gt;, &lt;Atom 4 </span>\n",
       "<span style=\"color: #ff8700; text-decoration-color: #ff8700\">(CD1) of chain 0 residue 0 (LEU)&gt;, &lt;Atom 5 (CD2) of chain 0 residue 0 (LEU)&gt;]}!</span>\n",
       "</pre>\n"
      ],
      "text/plain": [
       "\u001b[1;7;38;5;208m Warning \u001b[0m\u001b[38;5;208m fixer.missingAtoms={<Residue 184 (LEU) of chain 0>: [<Atom 3 (CG) of chain 0 residue 0 (LEU)>, <Atom 4 \u001b[0m\n",
       "\u001b[38;5;208m(CD1) of chain 0 residue 0 (LEU)>, <Atom 5 (CD2) of chain 0 residue 0 (LEU)>]}!\u001b[0m\n"
      ]
     },
     "metadata": {},
     "output_type": "display_data"
    },
    {
     "data": {
      "text/html": [
       "<pre style=\"white-space:pre;overflow-x:auto;line-height:normal;font-family:Menlo,'DejaVu Sans Mono',consolas,'Courier New',monospace;margin:0px\">fixer.<span style=\"color: #808000; text-decoration-color: #808000\">missingTerminals</span>=<span style=\"font-weight: bold\">{&lt;</span><span style=\"color: #ff00ff; text-decoration-color: #ff00ff; font-weight: bold\">Residue</span><span style=\"color: #000000; text-decoration-color: #000000\"> </span><span style=\"color: #008080; text-decoration-color: #008080; font-weight: bold\">184</span><span style=\"color: #000000; text-decoration-color: #000000\"> </span><span style=\"color: #000000; text-decoration-color: #000000; font-weight: bold\">(</span><span style=\"color: #000000; text-decoration-color: #000000\">LEU</span><span style=\"color: #000000; text-decoration-color: #000000; font-weight: bold\">)</span><span style=\"color: #000000; text-decoration-color: #000000\"> of chain </span><span style=\"color: #008080; text-decoration-color: #008080; font-weight: bold\">0</span><span style=\"font-weight: bold\">&gt;</span>: <span style=\"font-weight: bold\">[</span><span style=\"color: #008000; text-decoration-color: #008000\">'OXT'</span><span style=\"font-weight: bold\">]}</span>\n",
       "</pre>\n"
      ],
      "text/plain": [
       "fixer.\u001b[33mmissingTerminals\u001b[0m=\u001b[1m{\u001b[0m\u001b[1m<\u001b[0m\u001b[1;95mResidue\u001b[0m\u001b[39m \u001b[0m\u001b[1;36m184\u001b[0m\u001b[39m \u001b[0m\u001b[1;39m(\u001b[0m\u001b[39mLEU\u001b[0m\u001b[1;39m)\u001b[0m\u001b[39m of chain \u001b[0m\u001b[1;36m0\u001b[0m\u001b[1m>\u001b[0m: \u001b[1m[\u001b[0m\u001b[32m'OXT'\u001b[0m\u001b[1m]\u001b[0m\u001b[1m}\u001b[0m\n"
      ]
     },
     "metadata": {},
     "output_type": "display_data"
    },
    {
     "data": {
      "text/html": [
       "<pre style=\"white-space:pre;overflow-x:auto;line-height:normal;font-family:Menlo,'DejaVu Sans Mono',consolas,'Courier New',monospace;margin:0px\"><span style=\"background-color: #d7af00; font-weight: bold\"> DISK </span> Writing <span style=\"color: #d7af00; text-decoration-color: #d7af00\">../aligned_files/m0031a/m0031a_apo-desolv-Hs.pdb</span>...\n",
       "</pre>\n"
      ],
      "text/plain": [
       "\u001b[1;7;38;5;178m DISK \u001b[0m Writing \u001b[38;5;178m../aligned_files/m0031a/m0031a_apo-desolv-Hs.pdb\u001b[0m...\n"
      ]
     },
     "metadata": {},
     "output_type": "display_data"
    },
    {
     "data": {
      "text/html": [
       "<pre style=\"white-space:pre;overflow-x:auto;line-height:normal;font-family:Menlo,'DejaVu Sans Mono',consolas,'Courier New',monospace;margin:0px\"><span style=\"background-color: #ff8700; font-weight: bold\"> Warning </span><span style=\"color: #ff8700; text-decoration-color: #ff8700\"> fixer.missingAtoms={&lt;Residue 184 (LEU) of chain 0&gt;: [&lt;Atom 3 (CG) of chain 0 residue 0 (LEU)&gt;, &lt;Atom 4 </span>\n",
       "<span style=\"color: #ff8700; text-decoration-color: #ff8700\">(CD1) of chain 0 residue 0 (LEU)&gt;, &lt;Atom 5 (CD2) of chain 0 residue 0 (LEU)&gt;]}!</span>\n",
       "</pre>\n"
      ],
      "text/plain": [
       "\u001b[1;7;38;5;208m Warning \u001b[0m\u001b[38;5;208m fixer.missingAtoms={<Residue 184 (LEU) of chain 0>: [<Atom 3 (CG) of chain 0 residue 0 (LEU)>, <Atom 4 \u001b[0m\n",
       "\u001b[38;5;208m(CD1) of chain 0 residue 0 (LEU)>, <Atom 5 (CD2) of chain 0 residue 0 (LEU)>]}!\u001b[0m\n"
      ]
     },
     "metadata": {},
     "output_type": "display_data"
    },
    {
     "data": {
      "text/html": [
       "<pre style=\"white-space:pre;overflow-x:auto;line-height:normal;font-family:Menlo,'DejaVu Sans Mono',consolas,'Courier New',monospace;margin:0px\">fixer.<span style=\"color: #808000; text-decoration-color: #808000\">missingTerminals</span>=<span style=\"font-weight: bold\">{&lt;</span><span style=\"color: #ff00ff; text-decoration-color: #ff00ff; font-weight: bold\">Residue</span><span style=\"color: #000000; text-decoration-color: #000000\"> </span><span style=\"color: #008080; text-decoration-color: #008080; font-weight: bold\">184</span><span style=\"color: #000000; text-decoration-color: #000000\"> </span><span style=\"color: #000000; text-decoration-color: #000000; font-weight: bold\">(</span><span style=\"color: #000000; text-decoration-color: #000000\">LEU</span><span style=\"color: #000000; text-decoration-color: #000000; font-weight: bold\">)</span><span style=\"color: #000000; text-decoration-color: #000000\"> of chain </span><span style=\"color: #008080; text-decoration-color: #008080; font-weight: bold\">0</span><span style=\"font-weight: bold\">&gt;</span>: <span style=\"font-weight: bold\">[</span><span style=\"color: #008000; text-decoration-color: #008000\">'OXT'</span><span style=\"font-weight: bold\">]}</span>\n",
       "</pre>\n"
      ],
      "text/plain": [
       "fixer.\u001b[33mmissingTerminals\u001b[0m=\u001b[1m{\u001b[0m\u001b[1m<\u001b[0m\u001b[1;95mResidue\u001b[0m\u001b[39m \u001b[0m\u001b[1;36m184\u001b[0m\u001b[39m \u001b[0m\u001b[1;39m(\u001b[0m\u001b[39mLEU\u001b[0m\u001b[1;39m)\u001b[0m\u001b[39m of chain \u001b[0m\u001b[1;36m0\u001b[0m\u001b[1m>\u001b[0m: \u001b[1m[\u001b[0m\u001b[32m'OXT'\u001b[0m\u001b[1m]\u001b[0m\u001b[1m}\u001b[0m\n"
      ]
     },
     "metadata": {},
     "output_type": "display_data"
    },
    {
     "data": {
      "text/html": [
       "<pre style=\"white-space:pre;overflow-x:auto;line-height:normal;font-family:Menlo,'DejaVu Sans Mono',consolas,'Courier New',monospace;margin:0px\"><span style=\"background-color: #d7af00; font-weight: bold\"> DISK </span> Writing <span style=\"color: #d7af00; text-decoration-color: #d7af00\">../aligned_files/m0037a/m0037a_apo-desolv-Hs.pdb</span>...\n",
       "</pre>\n"
      ],
      "text/plain": [
       "\u001b[1;7;38;5;178m DISK \u001b[0m Writing \u001b[38;5;178m../aligned_files/m0037a/m0037a_apo-desolv-Hs.pdb\u001b[0m...\n"
      ]
     },
     "metadata": {},
     "output_type": "display_data"
    },
    {
     "data": {
      "text/html": [
       "<pre style=\"white-space:pre;overflow-x:auto;line-height:normal;font-family:Menlo,'DejaVu Sans Mono',consolas,'Courier New',monospace;margin:0px\"><span style=\"background-color: #ff8700; font-weight: bold\"> Warning </span><span style=\"color: #ff8700; text-decoration-color: #ff8700\"> fixer.missingAtoms={&lt;Residue 184 (LEU) of chain 0&gt;: [&lt;Atom 3 (CG) of chain 0 residue 0 (LEU)&gt;, &lt;Atom 4 </span>\n",
       "<span style=\"color: #ff8700; text-decoration-color: #ff8700\">(CD1) of chain 0 residue 0 (LEU)&gt;, &lt;Atom 5 (CD2) of chain 0 residue 0 (LEU)&gt;]}!</span>\n",
       "</pre>\n"
      ],
      "text/plain": [
       "\u001b[1;7;38;5;208m Warning \u001b[0m\u001b[38;5;208m fixer.missingAtoms={<Residue 184 (LEU) of chain 0>: [<Atom 3 (CG) of chain 0 residue 0 (LEU)>, <Atom 4 \u001b[0m\n",
       "\u001b[38;5;208m(CD1) of chain 0 residue 0 (LEU)>, <Atom 5 (CD2) of chain 0 residue 0 (LEU)>]}!\u001b[0m\n"
      ]
     },
     "metadata": {},
     "output_type": "display_data"
    },
    {
     "data": {
      "text/html": [
       "<pre style=\"white-space:pre;overflow-x:auto;line-height:normal;font-family:Menlo,'DejaVu Sans Mono',consolas,'Courier New',monospace;margin:0px\">fixer.<span style=\"color: #808000; text-decoration-color: #808000\">missingTerminals</span>=<span style=\"font-weight: bold\">{&lt;</span><span style=\"color: #ff00ff; text-decoration-color: #ff00ff; font-weight: bold\">Residue</span><span style=\"color: #000000; text-decoration-color: #000000\"> </span><span style=\"color: #008080; text-decoration-color: #008080; font-weight: bold\">184</span><span style=\"color: #000000; text-decoration-color: #000000\"> </span><span style=\"color: #000000; text-decoration-color: #000000; font-weight: bold\">(</span><span style=\"color: #000000; text-decoration-color: #000000\">LEU</span><span style=\"color: #000000; text-decoration-color: #000000; font-weight: bold\">)</span><span style=\"color: #000000; text-decoration-color: #000000\"> of chain </span><span style=\"color: #008080; text-decoration-color: #008080; font-weight: bold\">0</span><span style=\"font-weight: bold\">&gt;</span>: <span style=\"font-weight: bold\">[</span><span style=\"color: #008000; text-decoration-color: #008000\">'OXT'</span><span style=\"font-weight: bold\">]}</span>\n",
       "</pre>\n"
      ],
      "text/plain": [
       "fixer.\u001b[33mmissingTerminals\u001b[0m=\u001b[1m{\u001b[0m\u001b[1m<\u001b[0m\u001b[1;95mResidue\u001b[0m\u001b[39m \u001b[0m\u001b[1;36m184\u001b[0m\u001b[39m \u001b[0m\u001b[1;39m(\u001b[0m\u001b[39mLEU\u001b[0m\u001b[1;39m)\u001b[0m\u001b[39m of chain \u001b[0m\u001b[1;36m0\u001b[0m\u001b[1m>\u001b[0m: \u001b[1m[\u001b[0m\u001b[32m'OXT'\u001b[0m\u001b[1m]\u001b[0m\u001b[1m}\u001b[0m\n"
      ]
     },
     "metadata": {},
     "output_type": "display_data"
    },
    {
     "data": {
      "text/html": [
       "<pre style=\"white-space:pre;overflow-x:auto;line-height:normal;font-family:Menlo,'DejaVu Sans Mono',consolas,'Courier New',monospace;margin:0px\"><span style=\"background-color: #d7af00; font-weight: bold\"> DISK </span> Writing <span style=\"color: #d7af00; text-decoration-color: #d7af00\">../aligned_files/m0043a/m0043a_apo-desolv-Hs.pdb</span>...\n",
       "</pre>\n"
      ],
      "text/plain": [
       "\u001b[1;7;38;5;178m DISK \u001b[0m Writing \u001b[38;5;178m../aligned_files/m0043a/m0043a_apo-desolv-Hs.pdb\u001b[0m...\n"
      ]
     },
     "metadata": {},
     "output_type": "display_data"
    },
    {
     "data": {
      "text/html": [
       "<pre style=\"white-space:pre;overflow-x:auto;line-height:normal;font-family:Menlo,'DejaVu Sans Mono',consolas,'Courier New',monospace;margin:0px\"><span style=\"background-color: #ff8700; font-weight: bold\"> Warning </span><span style=\"color: #ff8700; text-decoration-color: #ff8700\"> fixer.missingAtoms={&lt;Residue 184 (LEU) of chain 0&gt;: [&lt;Atom 3 (CG) of chain 0 residue 0 (LEU)&gt;, &lt;Atom 4 </span>\n",
       "<span style=\"color: #ff8700; text-decoration-color: #ff8700\">(CD1) of chain 0 residue 0 (LEU)&gt;, &lt;Atom 5 (CD2) of chain 0 residue 0 (LEU)&gt;]}!</span>\n",
       "</pre>\n"
      ],
      "text/plain": [
       "\u001b[1;7;38;5;208m Warning \u001b[0m\u001b[38;5;208m fixer.missingAtoms={<Residue 184 (LEU) of chain 0>: [<Atom 3 (CG) of chain 0 residue 0 (LEU)>, <Atom 4 \u001b[0m\n",
       "\u001b[38;5;208m(CD1) of chain 0 residue 0 (LEU)>, <Atom 5 (CD2) of chain 0 residue 0 (LEU)>]}!\u001b[0m\n"
      ]
     },
     "metadata": {},
     "output_type": "display_data"
    },
    {
     "data": {
      "text/html": [
       "<pre style=\"white-space:pre;overflow-x:auto;line-height:normal;font-family:Menlo,'DejaVu Sans Mono',consolas,'Courier New',monospace;margin:0px\">fixer.<span style=\"color: #808000; text-decoration-color: #808000\">missingTerminals</span>=<span style=\"font-weight: bold\">{&lt;</span><span style=\"color: #ff00ff; text-decoration-color: #ff00ff; font-weight: bold\">Residue</span><span style=\"color: #000000; text-decoration-color: #000000\"> </span><span style=\"color: #008080; text-decoration-color: #008080; font-weight: bold\">184</span><span style=\"color: #000000; text-decoration-color: #000000\"> </span><span style=\"color: #000000; text-decoration-color: #000000; font-weight: bold\">(</span><span style=\"color: #000000; text-decoration-color: #000000\">LEU</span><span style=\"color: #000000; text-decoration-color: #000000; font-weight: bold\">)</span><span style=\"color: #000000; text-decoration-color: #000000\"> of chain </span><span style=\"color: #008080; text-decoration-color: #008080; font-weight: bold\">0</span><span style=\"font-weight: bold\">&gt;</span>: <span style=\"font-weight: bold\">[</span><span style=\"color: #008000; text-decoration-color: #008000\">'OXT'</span><span style=\"font-weight: bold\">]}</span>\n",
       "</pre>\n"
      ],
      "text/plain": [
       "fixer.\u001b[33mmissingTerminals\u001b[0m=\u001b[1m{\u001b[0m\u001b[1m<\u001b[0m\u001b[1;95mResidue\u001b[0m\u001b[39m \u001b[0m\u001b[1;36m184\u001b[0m\u001b[39m \u001b[0m\u001b[1;39m(\u001b[0m\u001b[39mLEU\u001b[0m\u001b[1;39m)\u001b[0m\u001b[39m of chain \u001b[0m\u001b[1;36m0\u001b[0m\u001b[1m>\u001b[0m: \u001b[1m[\u001b[0m\u001b[32m'OXT'\u001b[0m\u001b[1m]\u001b[0m\u001b[1m}\u001b[0m\n"
      ]
     },
     "metadata": {},
     "output_type": "display_data"
    },
    {
     "data": {
      "text/html": [
       "<pre style=\"white-space:pre;overflow-x:auto;line-height:normal;font-family:Menlo,'DejaVu Sans Mono',consolas,'Courier New',monospace;margin:0px\"><span style=\"background-color: #d7af00; font-weight: bold\"> DISK </span> Writing <span style=\"color: #d7af00; text-decoration-color: #d7af00\">../aligned_files/m0046a/m0046a_apo-desolv-Hs.pdb</span>...\n",
       "</pre>\n"
      ],
      "text/plain": [
       "\u001b[1;7;38;5;178m DISK \u001b[0m Writing \u001b[38;5;178m../aligned_files/m0046a/m0046a_apo-desolv-Hs.pdb\u001b[0m...\n"
      ]
     },
     "metadata": {},
     "output_type": "display_data"
    },
    {
     "data": {
      "text/html": [
       "<pre style=\"white-space:pre;overflow-x:auto;line-height:normal;font-family:Menlo,'DejaVu Sans Mono',consolas,'Courier New',monospace;margin:0px\"><span style=\"background-color: #ff8700; font-weight: bold\"> Warning </span><span style=\"color: #ff8700; text-decoration-color: #ff8700\"> fixer.missingAtoms={&lt;Residue 184 (LEU) of chain 0&gt;: [&lt;Atom 3 (CG) of chain 0 residue 0 (LEU)&gt;, &lt;Atom 4 </span>\n",
       "<span style=\"color: #ff8700; text-decoration-color: #ff8700\">(CD1) of chain 0 residue 0 (LEU)&gt;, &lt;Atom 5 (CD2) of chain 0 residue 0 (LEU)&gt;]}!</span>\n",
       "</pre>\n"
      ],
      "text/plain": [
       "\u001b[1;7;38;5;208m Warning \u001b[0m\u001b[38;5;208m fixer.missingAtoms={<Residue 184 (LEU) of chain 0>: [<Atom 3 (CG) of chain 0 residue 0 (LEU)>, <Atom 4 \u001b[0m\n",
       "\u001b[38;5;208m(CD1) of chain 0 residue 0 (LEU)>, <Atom 5 (CD2) of chain 0 residue 0 (LEU)>]}!\u001b[0m\n"
      ]
     },
     "metadata": {},
     "output_type": "display_data"
    },
    {
     "data": {
      "text/html": [
       "<pre style=\"white-space:pre;overflow-x:auto;line-height:normal;font-family:Menlo,'DejaVu Sans Mono',consolas,'Courier New',monospace;margin:0px\">fixer.<span style=\"color: #808000; text-decoration-color: #808000\">missingTerminals</span>=<span style=\"font-weight: bold\">{&lt;</span><span style=\"color: #ff00ff; text-decoration-color: #ff00ff; font-weight: bold\">Residue</span><span style=\"color: #000000; text-decoration-color: #000000\"> </span><span style=\"color: #008080; text-decoration-color: #008080; font-weight: bold\">184</span><span style=\"color: #000000; text-decoration-color: #000000\"> </span><span style=\"color: #000000; text-decoration-color: #000000; font-weight: bold\">(</span><span style=\"color: #000000; text-decoration-color: #000000\">LEU</span><span style=\"color: #000000; text-decoration-color: #000000; font-weight: bold\">)</span><span style=\"color: #000000; text-decoration-color: #000000\"> of chain </span><span style=\"color: #008080; text-decoration-color: #008080; font-weight: bold\">0</span><span style=\"font-weight: bold\">&gt;</span>: <span style=\"font-weight: bold\">[</span><span style=\"color: #008000; text-decoration-color: #008000\">'OXT'</span><span style=\"font-weight: bold\">]}</span>\n",
       "</pre>\n"
      ],
      "text/plain": [
       "fixer.\u001b[33mmissingTerminals\u001b[0m=\u001b[1m{\u001b[0m\u001b[1m<\u001b[0m\u001b[1;95mResidue\u001b[0m\u001b[39m \u001b[0m\u001b[1;36m184\u001b[0m\u001b[39m \u001b[0m\u001b[1;39m(\u001b[0m\u001b[39mLEU\u001b[0m\u001b[1;39m)\u001b[0m\u001b[39m of chain \u001b[0m\u001b[1;36m0\u001b[0m\u001b[1m>\u001b[0m: \u001b[1m[\u001b[0m\u001b[32m'OXT'\u001b[0m\u001b[1m]\u001b[0m\u001b[1m}\u001b[0m\n"
      ]
     },
     "metadata": {},
     "output_type": "display_data"
    },
    {
     "data": {
      "text/html": [
       "<pre style=\"white-space:pre;overflow-x:auto;line-height:normal;font-family:Menlo,'DejaVu Sans Mono',consolas,'Courier New',monospace;margin:0px\"><span style=\"background-color: #d7af00; font-weight: bold\"> DISK </span> Writing <span style=\"color: #d7af00; text-decoration-color: #d7af00\">../aligned_files/m0099a/m0099a_apo-desolv-Hs.pdb</span>...\n",
       "</pre>\n"
      ],
      "text/plain": [
       "\u001b[1;7;38;5;178m DISK \u001b[0m Writing \u001b[38;5;178m../aligned_files/m0099a/m0099a_apo-desolv-Hs.pdb\u001b[0m...\n"
      ]
     },
     "metadata": {},
     "output_type": "display_data"
    },
    {
     "data": {
      "text/html": [
       "<pre style=\"white-space:pre;overflow-x:auto;line-height:normal;font-family:Menlo,'DejaVu Sans Mono',consolas,'Courier New',monospace;margin:0px\"><span style=\"background-color: #ff8700; font-weight: bold\"> Warning </span><span style=\"color: #ff8700; text-decoration-color: #ff8700\"> fixer.missingAtoms={&lt;Residue 184 (LEU) of chain 0&gt;: [&lt;Atom 3 (CG) of chain 0 residue 0 (LEU)&gt;, &lt;Atom 4 </span>\n",
       "<span style=\"color: #ff8700; text-decoration-color: #ff8700\">(CD1) of chain 0 residue 0 (LEU)&gt;, &lt;Atom 5 (CD2) of chain 0 residue 0 (LEU)&gt;]}!</span>\n",
       "</pre>\n"
      ],
      "text/plain": [
       "\u001b[1;7;38;5;208m Warning \u001b[0m\u001b[38;5;208m fixer.missingAtoms={<Residue 184 (LEU) of chain 0>: [<Atom 3 (CG) of chain 0 residue 0 (LEU)>, <Atom 4 \u001b[0m\n",
       "\u001b[38;5;208m(CD1) of chain 0 residue 0 (LEU)>, <Atom 5 (CD2) of chain 0 residue 0 (LEU)>]}!\u001b[0m\n"
      ]
     },
     "metadata": {},
     "output_type": "display_data"
    },
    {
     "data": {
      "text/html": [
       "<pre style=\"white-space:pre;overflow-x:auto;line-height:normal;font-family:Menlo,'DejaVu Sans Mono',consolas,'Courier New',monospace;margin:0px\">fixer.<span style=\"color: #808000; text-decoration-color: #808000\">missingTerminals</span>=<span style=\"font-weight: bold\">{&lt;</span><span style=\"color: #ff00ff; text-decoration-color: #ff00ff; font-weight: bold\">Residue</span><span style=\"color: #000000; text-decoration-color: #000000\"> </span><span style=\"color: #008080; text-decoration-color: #008080; font-weight: bold\">184</span><span style=\"color: #000000; text-decoration-color: #000000\"> </span><span style=\"color: #000000; text-decoration-color: #000000; font-weight: bold\">(</span><span style=\"color: #000000; text-decoration-color: #000000\">LEU</span><span style=\"color: #000000; text-decoration-color: #000000; font-weight: bold\">)</span><span style=\"color: #000000; text-decoration-color: #000000\"> of chain </span><span style=\"color: #008080; text-decoration-color: #008080; font-weight: bold\">0</span><span style=\"font-weight: bold\">&gt;</span>: <span style=\"font-weight: bold\">[</span><span style=\"color: #008000; text-decoration-color: #008000\">'OXT'</span><span style=\"font-weight: bold\">]}</span>\n",
       "</pre>\n"
      ],
      "text/plain": [
       "fixer.\u001b[33mmissingTerminals\u001b[0m=\u001b[1m{\u001b[0m\u001b[1m<\u001b[0m\u001b[1;95mResidue\u001b[0m\u001b[39m \u001b[0m\u001b[1;36m184\u001b[0m\u001b[39m \u001b[0m\u001b[1;39m(\u001b[0m\u001b[39mLEU\u001b[0m\u001b[1;39m)\u001b[0m\u001b[39m of chain \u001b[0m\u001b[1;36m0\u001b[0m\u001b[1m>\u001b[0m: \u001b[1m[\u001b[0m\u001b[32m'OXT'\u001b[0m\u001b[1m]\u001b[0m\u001b[1m}\u001b[0m\n"
      ]
     },
     "metadata": {},
     "output_type": "display_data"
    },
    {
     "data": {
      "text/html": [
       "<pre style=\"white-space:pre;overflow-x:auto;line-height:normal;font-family:Menlo,'DejaVu Sans Mono',consolas,'Courier New',monospace;margin:0px\"><span style=\"background-color: #d7af00; font-weight: bold\"> DISK </span> Writing <span style=\"color: #d7af00; text-decoration-color: #d7af00\">../aligned_files/m0102a/m0102a_apo-desolv-Hs.pdb</span>...\n",
       "</pre>\n"
      ],
      "text/plain": [
       "\u001b[1;7;38;5;178m DISK \u001b[0m Writing \u001b[38;5;178m../aligned_files/m0102a/m0102a_apo-desolv-Hs.pdb\u001b[0m...\n"
      ]
     },
     "metadata": {},
     "output_type": "display_data"
    },
    {
     "data": {
      "text/html": [
       "<pre style=\"white-space:pre;overflow-x:auto;line-height:normal;font-family:Menlo,'DejaVu Sans Mono',consolas,'Courier New',monospace;margin:0px\"><span style=\"background-color: #ff8700; font-weight: bold\"> Warning </span><span style=\"color: #ff8700; text-decoration-color: #ff8700\"> fixer.missingAtoms={&lt;Residue 184 (LEU) of chain 0&gt;: [&lt;Atom 3 (CG) of chain 0 residue 0 (LEU)&gt;, &lt;Atom 4 </span>\n",
       "<span style=\"color: #ff8700; text-decoration-color: #ff8700\">(CD1) of chain 0 residue 0 (LEU)&gt;, &lt;Atom 5 (CD2) of chain 0 residue 0 (LEU)&gt;]}!</span>\n",
       "</pre>\n"
      ],
      "text/plain": [
       "\u001b[1;7;38;5;208m Warning \u001b[0m\u001b[38;5;208m fixer.missingAtoms={<Residue 184 (LEU) of chain 0>: [<Atom 3 (CG) of chain 0 residue 0 (LEU)>, <Atom 4 \u001b[0m\n",
       "\u001b[38;5;208m(CD1) of chain 0 residue 0 (LEU)>, <Atom 5 (CD2) of chain 0 residue 0 (LEU)>]}!\u001b[0m\n"
      ]
     },
     "metadata": {},
     "output_type": "display_data"
    },
    {
     "data": {
      "text/html": [
       "<pre style=\"white-space:pre;overflow-x:auto;line-height:normal;font-family:Menlo,'DejaVu Sans Mono',consolas,'Courier New',monospace;margin:0px\">fixer.<span style=\"color: #808000; text-decoration-color: #808000\">missingTerminals</span>=<span style=\"font-weight: bold\">{&lt;</span><span style=\"color: #ff00ff; text-decoration-color: #ff00ff; font-weight: bold\">Residue</span><span style=\"color: #000000; text-decoration-color: #000000\"> </span><span style=\"color: #008080; text-decoration-color: #008080; font-weight: bold\">184</span><span style=\"color: #000000; text-decoration-color: #000000\"> </span><span style=\"color: #000000; text-decoration-color: #000000; font-weight: bold\">(</span><span style=\"color: #000000; text-decoration-color: #000000\">LEU</span><span style=\"color: #000000; text-decoration-color: #000000; font-weight: bold\">)</span><span style=\"color: #000000; text-decoration-color: #000000\"> of chain </span><span style=\"color: #008080; text-decoration-color: #008080; font-weight: bold\">0</span><span style=\"font-weight: bold\">&gt;</span>: <span style=\"font-weight: bold\">[</span><span style=\"color: #008000; text-decoration-color: #008000\">'OXT'</span><span style=\"font-weight: bold\">]}</span>\n",
       "</pre>\n"
      ],
      "text/plain": [
       "fixer.\u001b[33mmissingTerminals\u001b[0m=\u001b[1m{\u001b[0m\u001b[1m<\u001b[0m\u001b[1;95mResidue\u001b[0m\u001b[39m \u001b[0m\u001b[1;36m184\u001b[0m\u001b[39m \u001b[0m\u001b[1;39m(\u001b[0m\u001b[39mLEU\u001b[0m\u001b[1;39m)\u001b[0m\u001b[39m of chain \u001b[0m\u001b[1;36m0\u001b[0m\u001b[1m>\u001b[0m: \u001b[1m[\u001b[0m\u001b[32m'OXT'\u001b[0m\u001b[1m]\u001b[0m\u001b[1m}\u001b[0m\n"
      ]
     },
     "metadata": {},
     "output_type": "display_data"
    },
    {
     "data": {
      "text/html": [
       "<pre style=\"white-space:pre;overflow-x:auto;line-height:normal;font-family:Menlo,'DejaVu Sans Mono',consolas,'Courier New',monospace;margin:0px\"><span style=\"background-color: #d7af00; font-weight: bold\"> DISK </span> Writing <span style=\"color: #d7af00; text-decoration-color: #d7af00\">../aligned_files/m0140a/m0140a_apo-desolv-Hs.pdb</span>...\n",
       "</pre>\n"
      ],
      "text/plain": [
       "\u001b[1;7;38;5;178m DISK \u001b[0m Writing \u001b[38;5;178m../aligned_files/m0140a/m0140a_apo-desolv-Hs.pdb\u001b[0m...\n"
      ]
     },
     "metadata": {},
     "output_type": "display_data"
    },
    {
     "data": {
      "text/html": [
       "<pre style=\"white-space:pre;overflow-x:auto;line-height:normal;font-family:Menlo,'DejaVu Sans Mono',consolas,'Courier New',monospace;margin:0px\"><span style=\"background-color: #ff8700; font-weight: bold\"> Warning </span><span style=\"color: #ff8700; text-decoration-color: #ff8700\"> fixer.missingAtoms={&lt;Residue 184 (LEU) of chain 0&gt;: [&lt;Atom 3 (CG) of chain 0 residue 0 (LEU)&gt;, &lt;Atom 4 </span>\n",
       "<span style=\"color: #ff8700; text-decoration-color: #ff8700\">(CD1) of chain 0 residue 0 (LEU)&gt;, &lt;Atom 5 (CD2) of chain 0 residue 0 (LEU)&gt;]}!</span>\n",
       "</pre>\n"
      ],
      "text/plain": [
       "\u001b[1;7;38;5;208m Warning \u001b[0m\u001b[38;5;208m fixer.missingAtoms={<Residue 184 (LEU) of chain 0>: [<Atom 3 (CG) of chain 0 residue 0 (LEU)>, <Atom 4 \u001b[0m\n",
       "\u001b[38;5;208m(CD1) of chain 0 residue 0 (LEU)>, <Atom 5 (CD2) of chain 0 residue 0 (LEU)>]}!\u001b[0m\n"
      ]
     },
     "metadata": {},
     "output_type": "display_data"
    },
    {
     "data": {
      "text/html": [
       "<pre style=\"white-space:pre;overflow-x:auto;line-height:normal;font-family:Menlo,'DejaVu Sans Mono',consolas,'Courier New',monospace;margin:0px\">fixer.<span style=\"color: #808000; text-decoration-color: #808000\">missingTerminals</span>=<span style=\"font-weight: bold\">{&lt;</span><span style=\"color: #ff00ff; text-decoration-color: #ff00ff; font-weight: bold\">Residue</span><span style=\"color: #000000; text-decoration-color: #000000\"> </span><span style=\"color: #008080; text-decoration-color: #008080; font-weight: bold\">184</span><span style=\"color: #000000; text-decoration-color: #000000\"> </span><span style=\"color: #000000; text-decoration-color: #000000; font-weight: bold\">(</span><span style=\"color: #000000; text-decoration-color: #000000\">LEU</span><span style=\"color: #000000; text-decoration-color: #000000; font-weight: bold\">)</span><span style=\"color: #000000; text-decoration-color: #000000\"> of chain </span><span style=\"color: #008080; text-decoration-color: #008080; font-weight: bold\">0</span><span style=\"font-weight: bold\">&gt;</span>: <span style=\"font-weight: bold\">[</span><span style=\"color: #008000; text-decoration-color: #008000\">'OXT'</span><span style=\"font-weight: bold\">]}</span>\n",
       "</pre>\n"
      ],
      "text/plain": [
       "fixer.\u001b[33mmissingTerminals\u001b[0m=\u001b[1m{\u001b[0m\u001b[1m<\u001b[0m\u001b[1;95mResidue\u001b[0m\u001b[39m \u001b[0m\u001b[1;36m184\u001b[0m\u001b[39m \u001b[0m\u001b[1;39m(\u001b[0m\u001b[39mLEU\u001b[0m\u001b[1;39m)\u001b[0m\u001b[39m of chain \u001b[0m\u001b[1;36m0\u001b[0m\u001b[1m>\u001b[0m: \u001b[1m[\u001b[0m\u001b[32m'OXT'\u001b[0m\u001b[1m]\u001b[0m\u001b[1m}\u001b[0m\n"
      ]
     },
     "metadata": {},
     "output_type": "display_data"
    },
    {
     "data": {
      "text/html": [
       "<pre style=\"white-space:pre;overflow-x:auto;line-height:normal;font-family:Menlo,'DejaVu Sans Mono',consolas,'Courier New',monospace;margin:0px\"><span style=\"background-color: #d7af00; font-weight: bold\"> DISK </span> Writing <span style=\"color: #d7af00; text-decoration-color: #d7af00\">../aligned_files/m0176a/m0176a_apo-desolv-Hs.pdb</span>...\n",
       "</pre>\n"
      ],
      "text/plain": [
       "\u001b[1;7;38;5;178m DISK \u001b[0m Writing \u001b[38;5;178m../aligned_files/m0176a/m0176a_apo-desolv-Hs.pdb\u001b[0m...\n"
      ]
     },
     "metadata": {},
     "output_type": "display_data"
    },
    {
     "data": {
      "text/html": [
       "<pre style=\"white-space:pre;overflow-x:auto;line-height:normal;font-family:Menlo,'DejaVu Sans Mono',consolas,'Courier New',monospace;margin:0px\"><span style=\"background-color: #ff8700; font-weight: bold\"> Warning </span><span style=\"color: #ff8700; text-decoration-color: #ff8700\"> fixer.missingAtoms={&lt;Residue 184 (LEU) of chain 0&gt;: [&lt;Atom 3 (CG) of chain 0 residue 0 (LEU)&gt;, &lt;Atom 4 </span>\n",
       "<span style=\"color: #ff8700; text-decoration-color: #ff8700\">(CD1) of chain 0 residue 0 (LEU)&gt;, &lt;Atom 5 (CD2) of chain 0 residue 0 (LEU)&gt;]}!</span>\n",
       "</pre>\n"
      ],
      "text/plain": [
       "\u001b[1;7;38;5;208m Warning \u001b[0m\u001b[38;5;208m fixer.missingAtoms={<Residue 184 (LEU) of chain 0>: [<Atom 3 (CG) of chain 0 residue 0 (LEU)>, <Atom 4 \u001b[0m\n",
       "\u001b[38;5;208m(CD1) of chain 0 residue 0 (LEU)>, <Atom 5 (CD2) of chain 0 residue 0 (LEU)>]}!\u001b[0m\n"
      ]
     },
     "metadata": {},
     "output_type": "display_data"
    },
    {
     "data": {
      "text/html": [
       "<pre style=\"white-space:pre;overflow-x:auto;line-height:normal;font-family:Menlo,'DejaVu Sans Mono',consolas,'Courier New',monospace;margin:0px\">fixer.<span style=\"color: #808000; text-decoration-color: #808000\">missingTerminals</span>=<span style=\"font-weight: bold\">{&lt;</span><span style=\"color: #ff00ff; text-decoration-color: #ff00ff; font-weight: bold\">Residue</span><span style=\"color: #000000; text-decoration-color: #000000\"> </span><span style=\"color: #008080; text-decoration-color: #008080; font-weight: bold\">184</span><span style=\"color: #000000; text-decoration-color: #000000\"> </span><span style=\"color: #000000; text-decoration-color: #000000; font-weight: bold\">(</span><span style=\"color: #000000; text-decoration-color: #000000\">LEU</span><span style=\"color: #000000; text-decoration-color: #000000; font-weight: bold\">)</span><span style=\"color: #000000; text-decoration-color: #000000\"> of chain </span><span style=\"color: #008080; text-decoration-color: #008080; font-weight: bold\">0</span><span style=\"font-weight: bold\">&gt;</span>: <span style=\"font-weight: bold\">[</span><span style=\"color: #008000; text-decoration-color: #008000\">'OXT'</span><span style=\"font-weight: bold\">]}</span>\n",
       "</pre>\n"
      ],
      "text/plain": [
       "fixer.\u001b[33mmissingTerminals\u001b[0m=\u001b[1m{\u001b[0m\u001b[1m<\u001b[0m\u001b[1;95mResidue\u001b[0m\u001b[39m \u001b[0m\u001b[1;36m184\u001b[0m\u001b[39m \u001b[0m\u001b[1;39m(\u001b[0m\u001b[39mLEU\u001b[0m\u001b[1;39m)\u001b[0m\u001b[39m of chain \u001b[0m\u001b[1;36m0\u001b[0m\u001b[1m>\u001b[0m: \u001b[1m[\u001b[0m\u001b[32m'OXT'\u001b[0m\u001b[1m]\u001b[0m\u001b[1m}\u001b[0m\n"
      ]
     },
     "metadata": {},
     "output_type": "display_data"
    },
    {
     "data": {
      "text/html": [
       "<pre style=\"white-space:pre;overflow-x:auto;line-height:normal;font-family:Menlo,'DejaVu Sans Mono',consolas,'Courier New',monospace;margin:0px\"><span style=\"background-color: #d7af00; font-weight: bold\"> DISK </span> Writing <span style=\"color: #d7af00; text-decoration-color: #d7af00\">../aligned_files/m0194a/m0194a_apo-desolv-Hs.pdb</span>...\n",
       "</pre>\n"
      ],
      "text/plain": [
       "\u001b[1;7;38;5;178m DISK \u001b[0m Writing \u001b[38;5;178m../aligned_files/m0194a/m0194a_apo-desolv-Hs.pdb\u001b[0m...\n"
      ]
     },
     "metadata": {},
     "output_type": "display_data"
    },
    {
     "data": {
      "text/html": [
       "<pre style=\"white-space:pre;overflow-x:auto;line-height:normal;font-family:Menlo,'DejaVu Sans Mono',consolas,'Courier New',monospace;margin:0px\"><span style=\"background-color: #ff8700; font-weight: bold\"> Warning </span><span style=\"color: #ff8700; text-decoration-color: #ff8700\"> fixer.missingAtoms={&lt;Residue 184 (LEU) of chain 0&gt;: [&lt;Atom 3 (CG) of chain 0 residue 0 (LEU)&gt;, &lt;Atom 4 </span>\n",
       "<span style=\"color: #ff8700; text-decoration-color: #ff8700\">(CD1) of chain 0 residue 0 (LEU)&gt;, &lt;Atom 5 (CD2) of chain 0 residue 0 (LEU)&gt;]}!</span>\n",
       "</pre>\n"
      ],
      "text/plain": [
       "\u001b[1;7;38;5;208m Warning \u001b[0m\u001b[38;5;208m fixer.missingAtoms={<Residue 184 (LEU) of chain 0>: [<Atom 3 (CG) of chain 0 residue 0 (LEU)>, <Atom 4 \u001b[0m\n",
       "\u001b[38;5;208m(CD1) of chain 0 residue 0 (LEU)>, <Atom 5 (CD2) of chain 0 residue 0 (LEU)>]}!\u001b[0m\n"
      ]
     },
     "metadata": {},
     "output_type": "display_data"
    },
    {
     "data": {
      "text/html": [
       "<pre style=\"white-space:pre;overflow-x:auto;line-height:normal;font-family:Menlo,'DejaVu Sans Mono',consolas,'Courier New',monospace;margin:0px\">fixer.<span style=\"color: #808000; text-decoration-color: #808000\">missingTerminals</span>=<span style=\"font-weight: bold\">{&lt;</span><span style=\"color: #ff00ff; text-decoration-color: #ff00ff; font-weight: bold\">Residue</span><span style=\"color: #000000; text-decoration-color: #000000\"> </span><span style=\"color: #008080; text-decoration-color: #008080; font-weight: bold\">184</span><span style=\"color: #000000; text-decoration-color: #000000\"> </span><span style=\"color: #000000; text-decoration-color: #000000; font-weight: bold\">(</span><span style=\"color: #000000; text-decoration-color: #000000\">LEU</span><span style=\"color: #000000; text-decoration-color: #000000; font-weight: bold\">)</span><span style=\"color: #000000; text-decoration-color: #000000\"> of chain </span><span style=\"color: #008080; text-decoration-color: #008080; font-weight: bold\">0</span><span style=\"font-weight: bold\">&gt;</span>: <span style=\"font-weight: bold\">[</span><span style=\"color: #008000; text-decoration-color: #008000\">'OXT'</span><span style=\"font-weight: bold\">]}</span>\n",
       "</pre>\n"
      ],
      "text/plain": [
       "fixer.\u001b[33mmissingTerminals\u001b[0m=\u001b[1m{\u001b[0m\u001b[1m<\u001b[0m\u001b[1;95mResidue\u001b[0m\u001b[39m \u001b[0m\u001b[1;36m184\u001b[0m\u001b[39m \u001b[0m\u001b[1;39m(\u001b[0m\u001b[39mLEU\u001b[0m\u001b[1;39m)\u001b[0m\u001b[39m of chain \u001b[0m\u001b[1;36m0\u001b[0m\u001b[1m>\u001b[0m: \u001b[1m[\u001b[0m\u001b[32m'OXT'\u001b[0m\u001b[1m]\u001b[0m\u001b[1m}\u001b[0m\n"
      ]
     },
     "metadata": {},
     "output_type": "display_data"
    },
    {
     "data": {
      "text/html": [
       "<pre style=\"white-space:pre;overflow-x:auto;line-height:normal;font-family:Menlo,'DejaVu Sans Mono',consolas,'Courier New',monospace;margin:0px\"><span style=\"background-color: #d7af00; font-weight: bold\"> DISK </span> Writing <span style=\"color: #d7af00; text-decoration-color: #d7af00\">../aligned_files/m0194b/m0194b_apo-desolv-Hs.pdb</span>...\n",
       "</pre>\n"
      ],
      "text/plain": [
       "\u001b[1;7;38;5;178m DISK \u001b[0m Writing \u001b[38;5;178m../aligned_files/m0194b/m0194b_apo-desolv-Hs.pdb\u001b[0m...\n"
      ]
     },
     "metadata": {},
     "output_type": "display_data"
    },
    {
     "data": {
      "text/html": [
       "<pre style=\"white-space:pre;overflow-x:auto;line-height:normal;font-family:Menlo,'DejaVu Sans Mono',consolas,'Courier New',monospace;margin:0px\"><span style=\"background-color: #ff8700; font-weight: bold\"> Warning </span><span style=\"color: #ff8700; text-decoration-color: #ff8700\"> fixer.missingAtoms={&lt;Residue 184 (LEU) of chain 0&gt;: [&lt;Atom 3 (CG) of chain 0 residue 0 (LEU)&gt;, &lt;Atom 4 </span>\n",
       "<span style=\"color: #ff8700; text-decoration-color: #ff8700\">(CD1) of chain 0 residue 0 (LEU)&gt;, &lt;Atom 5 (CD2) of chain 0 residue 0 (LEU)&gt;]}!</span>\n",
       "</pre>\n"
      ],
      "text/plain": [
       "\u001b[1;7;38;5;208m Warning \u001b[0m\u001b[38;5;208m fixer.missingAtoms={<Residue 184 (LEU) of chain 0>: [<Atom 3 (CG) of chain 0 residue 0 (LEU)>, <Atom 4 \u001b[0m\n",
       "\u001b[38;5;208m(CD1) of chain 0 residue 0 (LEU)>, <Atom 5 (CD2) of chain 0 residue 0 (LEU)>]}!\u001b[0m\n"
      ]
     },
     "metadata": {},
     "output_type": "display_data"
    },
    {
     "data": {
      "text/html": [
       "<pre style=\"white-space:pre;overflow-x:auto;line-height:normal;font-family:Menlo,'DejaVu Sans Mono',consolas,'Courier New',monospace;margin:0px\">fixer.<span style=\"color: #808000; text-decoration-color: #808000\">missingTerminals</span>=<span style=\"font-weight: bold\">{&lt;</span><span style=\"color: #ff00ff; text-decoration-color: #ff00ff; font-weight: bold\">Residue</span><span style=\"color: #000000; text-decoration-color: #000000\"> </span><span style=\"color: #008080; text-decoration-color: #008080; font-weight: bold\">184</span><span style=\"color: #000000; text-decoration-color: #000000\"> </span><span style=\"color: #000000; text-decoration-color: #000000; font-weight: bold\">(</span><span style=\"color: #000000; text-decoration-color: #000000\">LEU</span><span style=\"color: #000000; text-decoration-color: #000000; font-weight: bold\">)</span><span style=\"color: #000000; text-decoration-color: #000000\"> of chain </span><span style=\"color: #008080; text-decoration-color: #008080; font-weight: bold\">0</span><span style=\"font-weight: bold\">&gt;</span>: <span style=\"font-weight: bold\">[</span><span style=\"color: #008000; text-decoration-color: #008000\">'OXT'</span><span style=\"font-weight: bold\">]}</span>\n",
       "</pre>\n"
      ],
      "text/plain": [
       "fixer.\u001b[33mmissingTerminals\u001b[0m=\u001b[1m{\u001b[0m\u001b[1m<\u001b[0m\u001b[1;95mResidue\u001b[0m\u001b[39m \u001b[0m\u001b[1;36m184\u001b[0m\u001b[39m \u001b[0m\u001b[1;39m(\u001b[0m\u001b[39mLEU\u001b[0m\u001b[1;39m)\u001b[0m\u001b[39m of chain \u001b[0m\u001b[1;36m0\u001b[0m\u001b[1m>\u001b[0m: \u001b[1m[\u001b[0m\u001b[32m'OXT'\u001b[0m\u001b[1m]\u001b[0m\u001b[1m}\u001b[0m\n"
      ]
     },
     "metadata": {},
     "output_type": "display_data"
    },
    {
     "data": {
      "text/html": [
       "<pre style=\"white-space:pre;overflow-x:auto;line-height:normal;font-family:Menlo,'DejaVu Sans Mono',consolas,'Courier New',monospace;margin:0px\"><span style=\"background-color: #d7af00; font-weight: bold\"> DISK </span> Writing <span style=\"color: #d7af00; text-decoration-color: #d7af00\">../aligned_files/m0199a/m0199a_apo-desolv-Hs.pdb</span>...\n",
       "</pre>\n"
      ],
      "text/plain": [
       "\u001b[1;7;38;5;178m DISK \u001b[0m Writing \u001b[38;5;178m../aligned_files/m0199a/m0199a_apo-desolv-Hs.pdb\u001b[0m...\n"
      ]
     },
     "metadata": {},
     "output_type": "display_data"
    },
    {
     "data": {
      "text/html": [
       "<pre style=\"white-space:pre;overflow-x:auto;line-height:normal;font-family:Menlo,'DejaVu Sans Mono',consolas,'Courier New',monospace;margin:0px\"><span style=\"background-color: #ff8700; font-weight: bold\"> Warning </span><span style=\"color: #ff8700; text-decoration-color: #ff8700\"> fixer.missingAtoms={&lt;Residue 184 (LEU) of chain 0&gt;: [&lt;Atom 3 (CG) of chain 0 residue 0 (LEU)&gt;, &lt;Atom 4 </span>\n",
       "<span style=\"color: #ff8700; text-decoration-color: #ff8700\">(CD1) of chain 0 residue 0 (LEU)&gt;, &lt;Atom 5 (CD2) of chain 0 residue 0 (LEU)&gt;]}!</span>\n",
       "</pre>\n"
      ],
      "text/plain": [
       "\u001b[1;7;38;5;208m Warning \u001b[0m\u001b[38;5;208m fixer.missingAtoms={<Residue 184 (LEU) of chain 0>: [<Atom 3 (CG) of chain 0 residue 0 (LEU)>, <Atom 4 \u001b[0m\n",
       "\u001b[38;5;208m(CD1) of chain 0 residue 0 (LEU)>, <Atom 5 (CD2) of chain 0 residue 0 (LEU)>]}!\u001b[0m\n"
      ]
     },
     "metadata": {},
     "output_type": "display_data"
    },
    {
     "data": {
      "text/html": [
       "<pre style=\"white-space:pre;overflow-x:auto;line-height:normal;font-family:Menlo,'DejaVu Sans Mono',consolas,'Courier New',monospace;margin:0px\"><span style=\"background-color: #d7af00; font-weight: bold\"> DISK </span> Writing <span style=\"color: #d7af00; text-decoration-color: #d7af00\">../aligned_files/m0199b/m0199b_apo-desolv-Hs.pdb</span>...\n",
       "</pre>\n"
      ],
      "text/plain": [
       "\u001b[1;7;38;5;178m DISK \u001b[0m Writing \u001b[38;5;178m../aligned_files/m0199b/m0199b_apo-desolv-Hs.pdb\u001b[0m...\n"
      ]
     },
     "metadata": {},
     "output_type": "display_data"
    },
    {
     "data": {
      "text/html": [
       "<pre style=\"white-space:pre;overflow-x:auto;line-height:normal;font-family:Menlo,'DejaVu Sans Mono',consolas,'Courier New',monospace;margin:0px\"><span style=\"background-color: #ff8700; font-weight: bold\"> Warning </span><span style=\"color: #ff8700; text-decoration-color: #ff8700\"> fixer.missingAtoms={&lt;Residue 184 (LEU) of chain 0&gt;: [&lt;Atom 3 (CG) of chain 0 residue 0 (LEU)&gt;, &lt;Atom 4 </span>\n",
       "<span style=\"color: #ff8700; text-decoration-color: #ff8700\">(CD1) of chain 0 residue 0 (LEU)&gt;, &lt;Atom 5 (CD2) of chain 0 residue 0 (LEU)&gt;]}!</span>\n",
       "</pre>\n"
      ],
      "text/plain": [
       "\u001b[1;7;38;5;208m Warning \u001b[0m\u001b[38;5;208m fixer.missingAtoms={<Residue 184 (LEU) of chain 0>: [<Atom 3 (CG) of chain 0 residue 0 (LEU)>, <Atom 4 \u001b[0m\n",
       "\u001b[38;5;208m(CD1) of chain 0 residue 0 (LEU)>, <Atom 5 (CD2) of chain 0 residue 0 (LEU)>]}!\u001b[0m\n"
      ]
     },
     "metadata": {},
     "output_type": "display_data"
    },
    {
     "data": {
      "text/html": [
       "<pre style=\"white-space:pre;overflow-x:auto;line-height:normal;font-family:Menlo,'DejaVu Sans Mono',consolas,'Courier New',monospace;margin:0px\">fixer.<span style=\"color: #808000; text-decoration-color: #808000\">missingTerminals</span>=<span style=\"font-weight: bold\">{&lt;</span><span style=\"color: #ff00ff; text-decoration-color: #ff00ff; font-weight: bold\">Residue</span><span style=\"color: #000000; text-decoration-color: #000000\"> </span><span style=\"color: #008080; text-decoration-color: #008080; font-weight: bold\">184</span><span style=\"color: #000000; text-decoration-color: #000000\"> </span><span style=\"color: #000000; text-decoration-color: #000000; font-weight: bold\">(</span><span style=\"color: #000000; text-decoration-color: #000000\">LEU</span><span style=\"color: #000000; text-decoration-color: #000000; font-weight: bold\">)</span><span style=\"color: #000000; text-decoration-color: #000000\"> of chain </span><span style=\"color: #008080; text-decoration-color: #008080; font-weight: bold\">0</span><span style=\"font-weight: bold\">&gt;</span>: <span style=\"font-weight: bold\">[</span><span style=\"color: #008000; text-decoration-color: #008000\">'OXT'</span><span style=\"font-weight: bold\">]}</span>\n",
       "</pre>\n"
      ],
      "text/plain": [
       "fixer.\u001b[33mmissingTerminals\u001b[0m=\u001b[1m{\u001b[0m\u001b[1m<\u001b[0m\u001b[1;95mResidue\u001b[0m\u001b[39m \u001b[0m\u001b[1;36m184\u001b[0m\u001b[39m \u001b[0m\u001b[1;39m(\u001b[0m\u001b[39mLEU\u001b[0m\u001b[1;39m)\u001b[0m\u001b[39m of chain \u001b[0m\u001b[1;36m0\u001b[0m\u001b[1m>\u001b[0m: \u001b[1m[\u001b[0m\u001b[32m'OXT'\u001b[0m\u001b[1m]\u001b[0m\u001b[1m}\u001b[0m\n"
      ]
     },
     "metadata": {},
     "output_type": "display_data"
    },
    {
     "data": {
      "text/html": [
       "<pre style=\"white-space:pre;overflow-x:auto;line-height:normal;font-family:Menlo,'DejaVu Sans Mono',consolas,'Courier New',monospace;margin:0px\"><span style=\"background-color: #d7af00; font-weight: bold\"> DISK </span> Writing <span style=\"color: #d7af00; text-decoration-color: #d7af00\">../aligned_files/m0215a/m0215a_apo-desolv-Hs.pdb</span>...\n",
       "</pre>\n"
      ],
      "text/plain": [
       "\u001b[1;7;38;5;178m DISK \u001b[0m Writing \u001b[38;5;178m../aligned_files/m0215a/m0215a_apo-desolv-Hs.pdb\u001b[0m...\n"
      ]
     },
     "metadata": {},
     "output_type": "display_data"
    },
    {
     "data": {
      "text/html": [
       "<pre style=\"white-space:pre;overflow-x:auto;line-height:normal;font-family:Menlo,'DejaVu Sans Mono',consolas,'Courier New',monospace;margin:0px\"><span style=\"background-color: #d7af00; font-weight: bold\"> DISK </span> Writing <span style=\"color: #d7af00; text-decoration-color: #d7af00\">../aligned_files/m0215b/m0215b_apo-desolv-Hs.pdb</span>...\n",
       "</pre>\n"
      ],
      "text/plain": [
       "\u001b[1;7;38;5;178m DISK \u001b[0m Writing \u001b[38;5;178m../aligned_files/m0215b/m0215b_apo-desolv-Hs.pdb\u001b[0m...\n"
      ]
     },
     "metadata": {},
     "output_type": "display_data"
    },
    {
     "data": {
      "text/html": [
       "<pre style=\"white-space:pre;overflow-x:auto;line-height:normal;font-family:Menlo,'DejaVu Sans Mono',consolas,'Courier New',monospace;margin:0px\"><span style=\"background-color: #ff8700; font-weight: bold\"> Warning </span><span style=\"color: #ff8700; text-decoration-color: #ff8700\"> fixer.missingAtoms={&lt;Residue 184 (LEU) of chain 0&gt;: [&lt;Atom 3 (CG) of chain 0 residue 0 (LEU)&gt;, &lt;Atom 4 </span>\n",
       "<span style=\"color: #ff8700; text-decoration-color: #ff8700\">(CD1) of chain 0 residue 0 (LEU)&gt;, &lt;Atom 5 (CD2) of chain 0 residue 0 (LEU)&gt;]}!</span>\n",
       "</pre>\n"
      ],
      "text/plain": [
       "\u001b[1;7;38;5;208m Warning \u001b[0m\u001b[38;5;208m fixer.missingAtoms={<Residue 184 (LEU) of chain 0>: [<Atom 3 (CG) of chain 0 residue 0 (LEU)>, <Atom 4 \u001b[0m\n",
       "\u001b[38;5;208m(CD1) of chain 0 residue 0 (LEU)>, <Atom 5 (CD2) of chain 0 residue 0 (LEU)>]}!\u001b[0m\n"
      ]
     },
     "metadata": {},
     "output_type": "display_data"
    },
    {
     "data": {
      "text/html": [
       "<pre style=\"white-space:pre;overflow-x:auto;line-height:normal;font-family:Menlo,'DejaVu Sans Mono',consolas,'Courier New',monospace;margin:0px\">fixer.<span style=\"color: #808000; text-decoration-color: #808000\">missingTerminals</span>=<span style=\"font-weight: bold\">{&lt;</span><span style=\"color: #ff00ff; text-decoration-color: #ff00ff; font-weight: bold\">Residue</span><span style=\"color: #000000; text-decoration-color: #000000\"> </span><span style=\"color: #008080; text-decoration-color: #008080; font-weight: bold\">184</span><span style=\"color: #000000; text-decoration-color: #000000\"> </span><span style=\"color: #000000; text-decoration-color: #000000; font-weight: bold\">(</span><span style=\"color: #000000; text-decoration-color: #000000\">LEU</span><span style=\"color: #000000; text-decoration-color: #000000; font-weight: bold\">)</span><span style=\"color: #000000; text-decoration-color: #000000\"> of chain </span><span style=\"color: #008080; text-decoration-color: #008080; font-weight: bold\">0</span><span style=\"font-weight: bold\">&gt;</span>: <span style=\"font-weight: bold\">[</span><span style=\"color: #008000; text-decoration-color: #008000\">'OXT'</span><span style=\"font-weight: bold\">]}</span>\n",
       "</pre>\n"
      ],
      "text/plain": [
       "fixer.\u001b[33mmissingTerminals\u001b[0m=\u001b[1m{\u001b[0m\u001b[1m<\u001b[0m\u001b[1;95mResidue\u001b[0m\u001b[39m \u001b[0m\u001b[1;36m184\u001b[0m\u001b[39m \u001b[0m\u001b[1;39m(\u001b[0m\u001b[39mLEU\u001b[0m\u001b[1;39m)\u001b[0m\u001b[39m of chain \u001b[0m\u001b[1;36m0\u001b[0m\u001b[1m>\u001b[0m: \u001b[1m[\u001b[0m\u001b[32m'OXT'\u001b[0m\u001b[1m]\u001b[0m\u001b[1m}\u001b[0m\n"
      ]
     },
     "metadata": {},
     "output_type": "display_data"
    },
    {
     "data": {
      "text/html": [
       "<pre style=\"white-space:pre;overflow-x:auto;line-height:normal;font-family:Menlo,'DejaVu Sans Mono',consolas,'Courier New',monospace;margin:0px\"><span style=\"background-color: #d7af00; font-weight: bold\"> DISK </span> Writing <span style=\"color: #d7af00; text-decoration-color: #d7af00\">../aligned_files/m0219a/m0219a_apo-desolv-Hs.pdb</span>...\n",
       "</pre>\n"
      ],
      "text/plain": [
       "\u001b[1;7;38;5;178m DISK \u001b[0m Writing \u001b[38;5;178m../aligned_files/m0219a/m0219a_apo-desolv-Hs.pdb\u001b[0m...\n"
      ]
     },
     "metadata": {},
     "output_type": "display_data"
    },
    {
     "data": {
      "text/html": [
       "<pre style=\"white-space:pre;overflow-x:auto;line-height:normal;font-family:Menlo,'DejaVu Sans Mono',consolas,'Courier New',monospace;margin:0px\"><span style=\"background-color: #ff8700; font-weight: bold\"> Warning </span><span style=\"color: #ff8700; text-decoration-color: #ff8700\"> fixer.missingAtoms={&lt;Residue 184 (LEU) of chain 0&gt;: [&lt;Atom 3 (CG) of chain 0 residue 0 (LEU)&gt;, &lt;Atom 4 </span>\n",
       "<span style=\"color: #ff8700; text-decoration-color: #ff8700\">(CD1) of chain 0 residue 0 (LEU)&gt;, &lt;Atom 5 (CD2) of chain 0 residue 0 (LEU)&gt;]}!</span>\n",
       "</pre>\n"
      ],
      "text/plain": [
       "\u001b[1;7;38;5;208m Warning \u001b[0m\u001b[38;5;208m fixer.missingAtoms={<Residue 184 (LEU) of chain 0>: [<Atom 3 (CG) of chain 0 residue 0 (LEU)>, <Atom 4 \u001b[0m\n",
       "\u001b[38;5;208m(CD1) of chain 0 residue 0 (LEU)>, <Atom 5 (CD2) of chain 0 residue 0 (LEU)>]}!\u001b[0m\n"
      ]
     },
     "metadata": {},
     "output_type": "display_data"
    },
    {
     "data": {
      "text/html": [
       "<pre style=\"white-space:pre;overflow-x:auto;line-height:normal;font-family:Menlo,'DejaVu Sans Mono',consolas,'Courier New',monospace;margin:0px\">fixer.<span style=\"color: #808000; text-decoration-color: #808000\">missingTerminals</span>=<span style=\"font-weight: bold\">{&lt;</span><span style=\"color: #ff00ff; text-decoration-color: #ff00ff; font-weight: bold\">Residue</span><span style=\"color: #000000; text-decoration-color: #000000\"> </span><span style=\"color: #008080; text-decoration-color: #008080; font-weight: bold\">184</span><span style=\"color: #000000; text-decoration-color: #000000\"> </span><span style=\"color: #000000; text-decoration-color: #000000; font-weight: bold\">(</span><span style=\"color: #000000; text-decoration-color: #000000\">LEU</span><span style=\"color: #000000; text-decoration-color: #000000; font-weight: bold\">)</span><span style=\"color: #000000; text-decoration-color: #000000\"> of chain </span><span style=\"color: #008080; text-decoration-color: #008080; font-weight: bold\">0</span><span style=\"font-weight: bold\">&gt;</span>: <span style=\"font-weight: bold\">[</span><span style=\"color: #008000; text-decoration-color: #008000\">'OXT'</span><span style=\"font-weight: bold\">]}</span>\n",
       "</pre>\n"
      ],
      "text/plain": [
       "fixer.\u001b[33mmissingTerminals\u001b[0m=\u001b[1m{\u001b[0m\u001b[1m<\u001b[0m\u001b[1;95mResidue\u001b[0m\u001b[39m \u001b[0m\u001b[1;36m184\u001b[0m\u001b[39m \u001b[0m\u001b[1;39m(\u001b[0m\u001b[39mLEU\u001b[0m\u001b[1;39m)\u001b[0m\u001b[39m of chain \u001b[0m\u001b[1;36m0\u001b[0m\u001b[1m>\u001b[0m: \u001b[1m[\u001b[0m\u001b[32m'OXT'\u001b[0m\u001b[1m]\u001b[0m\u001b[1m}\u001b[0m\n"
      ]
     },
     "metadata": {},
     "output_type": "display_data"
    },
    {
     "data": {
      "text/html": [
       "<pre style=\"white-space:pre;overflow-x:auto;line-height:normal;font-family:Menlo,'DejaVu Sans Mono',consolas,'Courier New',monospace;margin:0px\"><span style=\"background-color: #d7af00; font-weight: bold\"> DISK </span> Writing <span style=\"color: #d7af00; text-decoration-color: #d7af00\">../aligned_files/m0225a/m0225a_apo-desolv-Hs.pdb</span>...\n",
       "</pre>\n"
      ],
      "text/plain": [
       "\u001b[1;7;38;5;178m DISK \u001b[0m Writing \u001b[38;5;178m../aligned_files/m0225a/m0225a_apo-desolv-Hs.pdb\u001b[0m...\n"
      ]
     },
     "metadata": {},
     "output_type": "display_data"
    },
    {
     "data": {
      "text/html": [
       "<pre style=\"white-space:pre;overflow-x:auto;line-height:normal;font-family:Menlo,'DejaVu Sans Mono',consolas,'Courier New',monospace;margin:0px\"><span style=\"background-color: #ff8700; font-weight: bold\"> Warning </span><span style=\"color: #ff8700; text-decoration-color: #ff8700\"> fixer.missingAtoms={&lt;Residue 184 (LEU) of chain 0&gt;: [&lt;Atom 3 (CG) of chain 0 residue 0 (LEU)&gt;, &lt;Atom 4 </span>\n",
       "<span style=\"color: #ff8700; text-decoration-color: #ff8700\">(CD1) of chain 0 residue 0 (LEU)&gt;, &lt;Atom 5 (CD2) of chain 0 residue 0 (LEU)&gt;]}!</span>\n",
       "</pre>\n"
      ],
      "text/plain": [
       "\u001b[1;7;38;5;208m Warning \u001b[0m\u001b[38;5;208m fixer.missingAtoms={<Residue 184 (LEU) of chain 0>: [<Atom 3 (CG) of chain 0 residue 0 (LEU)>, <Atom 4 \u001b[0m\n",
       "\u001b[38;5;208m(CD1) of chain 0 residue 0 (LEU)>, <Atom 5 (CD2) of chain 0 residue 0 (LEU)>]}!\u001b[0m\n"
      ]
     },
     "metadata": {},
     "output_type": "display_data"
    },
    {
     "data": {
      "text/html": [
       "<pre style=\"white-space:pre;overflow-x:auto;line-height:normal;font-family:Menlo,'DejaVu Sans Mono',consolas,'Courier New',monospace;margin:0px\">fixer.<span style=\"color: #808000; text-decoration-color: #808000\">missingTerminals</span>=<span style=\"font-weight: bold\">{&lt;</span><span style=\"color: #ff00ff; text-decoration-color: #ff00ff; font-weight: bold\">Residue</span><span style=\"color: #000000; text-decoration-color: #000000\"> </span><span style=\"color: #008080; text-decoration-color: #008080; font-weight: bold\">184</span><span style=\"color: #000000; text-decoration-color: #000000\"> </span><span style=\"color: #000000; text-decoration-color: #000000; font-weight: bold\">(</span><span style=\"color: #000000; text-decoration-color: #000000\">LEU</span><span style=\"color: #000000; text-decoration-color: #000000; font-weight: bold\">)</span><span style=\"color: #000000; text-decoration-color: #000000\"> of chain </span><span style=\"color: #008080; text-decoration-color: #008080; font-weight: bold\">0</span><span style=\"font-weight: bold\">&gt;</span>: <span style=\"font-weight: bold\">[</span><span style=\"color: #008000; text-decoration-color: #008000\">'OXT'</span><span style=\"font-weight: bold\">]}</span>\n",
       "</pre>\n"
      ],
      "text/plain": [
       "fixer.\u001b[33mmissingTerminals\u001b[0m=\u001b[1m{\u001b[0m\u001b[1m<\u001b[0m\u001b[1;95mResidue\u001b[0m\u001b[39m \u001b[0m\u001b[1;36m184\u001b[0m\u001b[39m \u001b[0m\u001b[1;39m(\u001b[0m\u001b[39mLEU\u001b[0m\u001b[1;39m)\u001b[0m\u001b[39m of chain \u001b[0m\u001b[1;36m0\u001b[0m\u001b[1m>\u001b[0m: \u001b[1m[\u001b[0m\u001b[32m'OXT'\u001b[0m\u001b[1m]\u001b[0m\u001b[1m}\u001b[0m\n"
      ]
     },
     "metadata": {},
     "output_type": "display_data"
    },
    {
     "data": {
      "text/html": [
       "<pre style=\"white-space:pre;overflow-x:auto;line-height:normal;font-family:Menlo,'DejaVu Sans Mono',consolas,'Courier New',monospace;margin:0px\"><span style=\"background-color: #d7af00; font-weight: bold\"> DISK </span> Writing <span style=\"color: #d7af00; text-decoration-color: #d7af00\">../aligned_files/m0238a/m0238a_apo-desolv-Hs.pdb</span>...\n",
       "</pre>\n"
      ],
      "text/plain": [
       "\u001b[1;7;38;5;178m DISK \u001b[0m Writing \u001b[38;5;178m../aligned_files/m0238a/m0238a_apo-desolv-Hs.pdb\u001b[0m...\n"
      ]
     },
     "metadata": {},
     "output_type": "display_data"
    },
    {
     "data": {
      "text/html": [
       "<pre style=\"white-space:pre;overflow-x:auto;line-height:normal;font-family:Menlo,'DejaVu Sans Mono',consolas,'Courier New',monospace;margin:0px\"><span style=\"background-color: #ff8700; font-weight: bold\"> Warning </span><span style=\"color: #ff8700; text-decoration-color: #ff8700\"> fixer.missingAtoms={&lt;Residue 184 (LEU) of chain 0&gt;: [&lt;Atom 3 (CG) of chain 0 residue 0 (LEU)&gt;, &lt;Atom 4 </span>\n",
       "<span style=\"color: #ff8700; text-decoration-color: #ff8700\">(CD1) of chain 0 residue 0 (LEU)&gt;, &lt;Atom 5 (CD2) of chain 0 residue 0 (LEU)&gt;]}!</span>\n",
       "</pre>\n"
      ],
      "text/plain": [
       "\u001b[1;7;38;5;208m Warning \u001b[0m\u001b[38;5;208m fixer.missingAtoms={<Residue 184 (LEU) of chain 0>: [<Atom 3 (CG) of chain 0 residue 0 (LEU)>, <Atom 4 \u001b[0m\n",
       "\u001b[38;5;208m(CD1) of chain 0 residue 0 (LEU)>, <Atom 5 (CD2) of chain 0 residue 0 (LEU)>]}!\u001b[0m\n"
      ]
     },
     "metadata": {},
     "output_type": "display_data"
    },
    {
     "data": {
      "text/html": [
       "<pre style=\"white-space:pre;overflow-x:auto;line-height:normal;font-family:Menlo,'DejaVu Sans Mono',consolas,'Courier New',monospace;margin:0px\">fixer.<span style=\"color: #808000; text-decoration-color: #808000\">missingTerminals</span>=<span style=\"font-weight: bold\">{&lt;</span><span style=\"color: #ff00ff; text-decoration-color: #ff00ff; font-weight: bold\">Residue</span><span style=\"color: #000000; text-decoration-color: #000000\"> </span><span style=\"color: #008080; text-decoration-color: #008080; font-weight: bold\">184</span><span style=\"color: #000000; text-decoration-color: #000000\"> </span><span style=\"color: #000000; text-decoration-color: #000000; font-weight: bold\">(</span><span style=\"color: #000000; text-decoration-color: #000000\">LEU</span><span style=\"color: #000000; text-decoration-color: #000000; font-weight: bold\">)</span><span style=\"color: #000000; text-decoration-color: #000000\"> of chain </span><span style=\"color: #008080; text-decoration-color: #008080; font-weight: bold\">0</span><span style=\"font-weight: bold\">&gt;</span>: <span style=\"font-weight: bold\">[</span><span style=\"color: #008000; text-decoration-color: #008000\">'OXT'</span><span style=\"font-weight: bold\">]}</span>\n",
       "</pre>\n"
      ],
      "text/plain": [
       "fixer.\u001b[33mmissingTerminals\u001b[0m=\u001b[1m{\u001b[0m\u001b[1m<\u001b[0m\u001b[1;95mResidue\u001b[0m\u001b[39m \u001b[0m\u001b[1;36m184\u001b[0m\u001b[39m \u001b[0m\u001b[1;39m(\u001b[0m\u001b[39mLEU\u001b[0m\u001b[1;39m)\u001b[0m\u001b[39m of chain \u001b[0m\u001b[1;36m0\u001b[0m\u001b[1m>\u001b[0m: \u001b[1m[\u001b[0m\u001b[32m'OXT'\u001b[0m\u001b[1m]\u001b[0m\u001b[1m}\u001b[0m\n"
      ]
     },
     "metadata": {},
     "output_type": "display_data"
    },
    {
     "data": {
      "text/html": [
       "<pre style=\"white-space:pre;overflow-x:auto;line-height:normal;font-family:Menlo,'DejaVu Sans Mono',consolas,'Courier New',monospace;margin:0px\"><span style=\"background-color: #d7af00; font-weight: bold\"> DISK </span> Writing <span style=\"color: #d7af00; text-decoration-color: #d7af00\">../aligned_files/m0243a/m0243a_apo-desolv-Hs.pdb</span>...\n",
       "</pre>\n"
      ],
      "text/plain": [
       "\u001b[1;7;38;5;178m DISK \u001b[0m Writing \u001b[38;5;178m../aligned_files/m0243a/m0243a_apo-desolv-Hs.pdb\u001b[0m...\n"
      ]
     },
     "metadata": {},
     "output_type": "display_data"
    },
    {
     "data": {
      "text/html": [
       "<pre style=\"white-space:pre;overflow-x:auto;line-height:normal;font-family:Menlo,'DejaVu Sans Mono',consolas,'Courier New',monospace;margin:0px\"><span style=\"background-color: #ff8700; font-weight: bold\"> Warning </span><span style=\"color: #ff8700; text-decoration-color: #ff8700\"> fixer.missingAtoms={&lt;Residue 184 (LEU) of chain 0&gt;: [&lt;Atom 3 (CG) of chain 0 residue 0 (LEU)&gt;, &lt;Atom 4 </span>\n",
       "<span style=\"color: #ff8700; text-decoration-color: #ff8700\">(CD1) of chain 0 residue 0 (LEU)&gt;, &lt;Atom 5 (CD2) of chain 0 residue 0 (LEU)&gt;]}!</span>\n",
       "</pre>\n"
      ],
      "text/plain": [
       "\u001b[1;7;38;5;208m Warning \u001b[0m\u001b[38;5;208m fixer.missingAtoms={<Residue 184 (LEU) of chain 0>: [<Atom 3 (CG) of chain 0 residue 0 (LEU)>, <Atom 4 \u001b[0m\n",
       "\u001b[38;5;208m(CD1) of chain 0 residue 0 (LEU)>, <Atom 5 (CD2) of chain 0 residue 0 (LEU)>]}!\u001b[0m\n"
      ]
     },
     "metadata": {},
     "output_type": "display_data"
    },
    {
     "data": {
      "text/html": [
       "<pre style=\"white-space:pre;overflow-x:auto;line-height:normal;font-family:Menlo,'DejaVu Sans Mono',consolas,'Courier New',monospace;margin:0px\">fixer.<span style=\"color: #808000; text-decoration-color: #808000\">missingTerminals</span>=<span style=\"font-weight: bold\">{&lt;</span><span style=\"color: #ff00ff; text-decoration-color: #ff00ff; font-weight: bold\">Residue</span><span style=\"color: #000000; text-decoration-color: #000000\"> </span><span style=\"color: #008080; text-decoration-color: #008080; font-weight: bold\">184</span><span style=\"color: #000000; text-decoration-color: #000000\"> </span><span style=\"color: #000000; text-decoration-color: #000000; font-weight: bold\">(</span><span style=\"color: #000000; text-decoration-color: #000000\">LEU</span><span style=\"color: #000000; text-decoration-color: #000000; font-weight: bold\">)</span><span style=\"color: #000000; text-decoration-color: #000000\"> of chain </span><span style=\"color: #008080; text-decoration-color: #008080; font-weight: bold\">0</span><span style=\"font-weight: bold\">&gt;</span>: <span style=\"font-weight: bold\">[</span><span style=\"color: #008000; text-decoration-color: #008000\">'OXT'</span><span style=\"font-weight: bold\">]}</span>\n",
       "</pre>\n"
      ],
      "text/plain": [
       "fixer.\u001b[33mmissingTerminals\u001b[0m=\u001b[1m{\u001b[0m\u001b[1m<\u001b[0m\u001b[1;95mResidue\u001b[0m\u001b[39m \u001b[0m\u001b[1;36m184\u001b[0m\u001b[39m \u001b[0m\u001b[1;39m(\u001b[0m\u001b[39mLEU\u001b[0m\u001b[1;39m)\u001b[0m\u001b[39m of chain \u001b[0m\u001b[1;36m0\u001b[0m\u001b[1m>\u001b[0m: \u001b[1m[\u001b[0m\u001b[32m'OXT'\u001b[0m\u001b[1m]\u001b[0m\u001b[1m}\u001b[0m\n"
      ]
     },
     "metadata": {},
     "output_type": "display_data"
    },
    {
     "data": {
      "text/html": [
       "<pre style=\"white-space:pre;overflow-x:auto;line-height:normal;font-family:Menlo,'DejaVu Sans Mono',consolas,'Courier New',monospace;margin:0px\"><span style=\"background-color: #d7af00; font-weight: bold\"> DISK </span> Writing <span style=\"color: #d7af00; text-decoration-color: #d7af00\">../aligned_files/m0248a/m0248a_apo-desolv-Hs.pdb</span>...\n",
       "</pre>\n"
      ],
      "text/plain": [
       "\u001b[1;7;38;5;178m DISK \u001b[0m Writing \u001b[38;5;178m../aligned_files/m0248a/m0248a_apo-desolv-Hs.pdb\u001b[0m...\n"
      ]
     },
     "metadata": {},
     "output_type": "display_data"
    },
    {
     "data": {
      "text/html": [
       "<pre style=\"white-space:pre;overflow-x:auto;line-height:normal;font-family:Menlo,'DejaVu Sans Mono',consolas,'Courier New',monospace;margin:0px\"><span style=\"background-color: #ff8700; font-weight: bold\"> Warning </span><span style=\"color: #ff8700; text-decoration-color: #ff8700\"> fixer.missingAtoms={&lt;Residue 184 (LEU) of chain 0&gt;: [&lt;Atom 3 (CG) of chain 0 residue 0 (LEU)&gt;, &lt;Atom 4 </span>\n",
       "<span style=\"color: #ff8700; text-decoration-color: #ff8700\">(CD1) of chain 0 residue 0 (LEU)&gt;, &lt;Atom 5 (CD2) of chain 0 residue 0 (LEU)&gt;]}!</span>\n",
       "</pre>\n"
      ],
      "text/plain": [
       "\u001b[1;7;38;5;208m Warning \u001b[0m\u001b[38;5;208m fixer.missingAtoms={<Residue 184 (LEU) of chain 0>: [<Atom 3 (CG) of chain 0 residue 0 (LEU)>, <Atom 4 \u001b[0m\n",
       "\u001b[38;5;208m(CD1) of chain 0 residue 0 (LEU)>, <Atom 5 (CD2) of chain 0 residue 0 (LEU)>]}!\u001b[0m\n"
      ]
     },
     "metadata": {},
     "output_type": "display_data"
    },
    {
     "data": {
      "text/html": [
       "<pre style=\"white-space:pre;overflow-x:auto;line-height:normal;font-family:Menlo,'DejaVu Sans Mono',consolas,'Courier New',monospace;margin:0px\">fixer.<span style=\"color: #808000; text-decoration-color: #808000\">missingTerminals</span>=<span style=\"font-weight: bold\">{&lt;</span><span style=\"color: #ff00ff; text-decoration-color: #ff00ff; font-weight: bold\">Residue</span><span style=\"color: #000000; text-decoration-color: #000000\"> </span><span style=\"color: #008080; text-decoration-color: #008080; font-weight: bold\">184</span><span style=\"color: #000000; text-decoration-color: #000000\"> </span><span style=\"color: #000000; text-decoration-color: #000000; font-weight: bold\">(</span><span style=\"color: #000000; text-decoration-color: #000000\">LEU</span><span style=\"color: #000000; text-decoration-color: #000000; font-weight: bold\">)</span><span style=\"color: #000000; text-decoration-color: #000000\"> of chain </span><span style=\"color: #008080; text-decoration-color: #008080; font-weight: bold\">0</span><span style=\"font-weight: bold\">&gt;</span>: <span style=\"font-weight: bold\">[</span><span style=\"color: #008000; text-decoration-color: #008000\">'OXT'</span><span style=\"font-weight: bold\">]}</span>\n",
       "</pre>\n"
      ],
      "text/plain": [
       "fixer.\u001b[33mmissingTerminals\u001b[0m=\u001b[1m{\u001b[0m\u001b[1m<\u001b[0m\u001b[1;95mResidue\u001b[0m\u001b[39m \u001b[0m\u001b[1;36m184\u001b[0m\u001b[39m \u001b[0m\u001b[1;39m(\u001b[0m\u001b[39mLEU\u001b[0m\u001b[1;39m)\u001b[0m\u001b[39m of chain \u001b[0m\u001b[1;36m0\u001b[0m\u001b[1m>\u001b[0m: \u001b[1m[\u001b[0m\u001b[32m'OXT'\u001b[0m\u001b[1m]\u001b[0m\u001b[1m}\u001b[0m\n"
      ]
     },
     "metadata": {},
     "output_type": "display_data"
    },
    {
     "data": {
      "text/html": [
       "<pre style=\"white-space:pre;overflow-x:auto;line-height:normal;font-family:Menlo,'DejaVu Sans Mono',consolas,'Courier New',monospace;margin:0px\"><span style=\"background-color: #d7af00; font-weight: bold\"> DISK </span> Writing <span style=\"color: #d7af00; text-decoration-color: #d7af00\">../aligned_files/m0266a/m0266a_apo-desolv-Hs.pdb</span>...\n",
       "</pre>\n"
      ],
      "text/plain": [
       "\u001b[1;7;38;5;178m DISK \u001b[0m Writing \u001b[38;5;178m../aligned_files/m0266a/m0266a_apo-desolv-Hs.pdb\u001b[0m...\n"
      ]
     },
     "metadata": {},
     "output_type": "display_data"
    },
    {
     "data": {
      "text/html": [
       "<pre style=\"white-space:pre;overflow-x:auto;line-height:normal;font-family:Menlo,'DejaVu Sans Mono',consolas,'Courier New',monospace;margin:0px\"><span style=\"background-color: #ff8700; font-weight: bold\"> Warning </span><span style=\"color: #ff8700; text-decoration-color: #ff8700\"> fixer.missingAtoms={&lt;Residue 184 (LEU) of chain 0&gt;: [&lt;Atom 3 (CG) of chain 0 residue 0 (LEU)&gt;, &lt;Atom 4 </span>\n",
       "<span style=\"color: #ff8700; text-decoration-color: #ff8700\">(CD1) of chain 0 residue 0 (LEU)&gt;, &lt;Atom 5 (CD2) of chain 0 residue 0 (LEU)&gt;]}!</span>\n",
       "</pre>\n"
      ],
      "text/plain": [
       "\u001b[1;7;38;5;208m Warning \u001b[0m\u001b[38;5;208m fixer.missingAtoms={<Residue 184 (LEU) of chain 0>: [<Atom 3 (CG) of chain 0 residue 0 (LEU)>, <Atom 4 \u001b[0m\n",
       "\u001b[38;5;208m(CD1) of chain 0 residue 0 (LEU)>, <Atom 5 (CD2) of chain 0 residue 0 (LEU)>]}!\u001b[0m\n"
      ]
     },
     "metadata": {},
     "output_type": "display_data"
    },
    {
     "data": {
      "text/html": [
       "<pre style=\"white-space:pre;overflow-x:auto;line-height:normal;font-family:Menlo,'DejaVu Sans Mono',consolas,'Courier New',monospace;margin:0px\">fixer.<span style=\"color: #808000; text-decoration-color: #808000\">missingTerminals</span>=<span style=\"font-weight: bold\">{&lt;</span><span style=\"color: #ff00ff; text-decoration-color: #ff00ff; font-weight: bold\">Residue</span><span style=\"color: #000000; text-decoration-color: #000000\"> </span><span style=\"color: #008080; text-decoration-color: #008080; font-weight: bold\">184</span><span style=\"color: #000000; text-decoration-color: #000000\"> </span><span style=\"color: #000000; text-decoration-color: #000000; font-weight: bold\">(</span><span style=\"color: #000000; text-decoration-color: #000000\">LEU</span><span style=\"color: #000000; text-decoration-color: #000000; font-weight: bold\">)</span><span style=\"color: #000000; text-decoration-color: #000000\"> of chain </span><span style=\"color: #008080; text-decoration-color: #008080; font-weight: bold\">0</span><span style=\"font-weight: bold\">&gt;</span>: <span style=\"font-weight: bold\">[</span><span style=\"color: #008000; text-decoration-color: #008000\">'OXT'</span><span style=\"font-weight: bold\">]}</span>\n",
       "</pre>\n"
      ],
      "text/plain": [
       "fixer.\u001b[33mmissingTerminals\u001b[0m=\u001b[1m{\u001b[0m\u001b[1m<\u001b[0m\u001b[1;95mResidue\u001b[0m\u001b[39m \u001b[0m\u001b[1;36m184\u001b[0m\u001b[39m \u001b[0m\u001b[1;39m(\u001b[0m\u001b[39mLEU\u001b[0m\u001b[1;39m)\u001b[0m\u001b[39m of chain \u001b[0m\u001b[1;36m0\u001b[0m\u001b[1m>\u001b[0m: \u001b[1m[\u001b[0m\u001b[32m'OXT'\u001b[0m\u001b[1m]\u001b[0m\u001b[1m}\u001b[0m\n"
      ]
     },
     "metadata": {},
     "output_type": "display_data"
    },
    {
     "data": {
      "text/html": [
       "<pre style=\"white-space:pre;overflow-x:auto;line-height:normal;font-family:Menlo,'DejaVu Sans Mono',consolas,'Courier New',monospace;margin:0px\"><span style=\"background-color: #d7af00; font-weight: bold\"> DISK </span> Writing <span style=\"color: #d7af00; text-decoration-color: #d7af00\">../aligned_files/m0269a/m0269a_apo-desolv-Hs.pdb</span>...\n",
       "</pre>\n"
      ],
      "text/plain": [
       "\u001b[1;7;38;5;178m DISK \u001b[0m Writing \u001b[38;5;178m../aligned_files/m0269a/m0269a_apo-desolv-Hs.pdb\u001b[0m...\n"
      ]
     },
     "metadata": {},
     "output_type": "display_data"
    },
    {
     "data": {
      "text/html": [
       "<pre style=\"white-space:pre;overflow-x:auto;line-height:normal;font-family:Menlo,'DejaVu Sans Mono',consolas,'Courier New',monospace;margin:0px\"><span style=\"background-color: #ff8700; font-weight: bold\"> Warning </span><span style=\"color: #ff8700; text-decoration-color: #ff8700\"> fixer.missingAtoms={&lt;Residue 184 (LEU) of chain 0&gt;: [&lt;Atom 3 (CG) of chain 0 residue 0 (LEU)&gt;, &lt;Atom 4 </span>\n",
       "<span style=\"color: #ff8700; text-decoration-color: #ff8700\">(CD1) of chain 0 residue 0 (LEU)&gt;, &lt;Atom 5 (CD2) of chain 0 residue 0 (LEU)&gt;]}!</span>\n",
       "</pre>\n"
      ],
      "text/plain": [
       "\u001b[1;7;38;5;208m Warning \u001b[0m\u001b[38;5;208m fixer.missingAtoms={<Residue 184 (LEU) of chain 0>: [<Atom 3 (CG) of chain 0 residue 0 (LEU)>, <Atom 4 \u001b[0m\n",
       "\u001b[38;5;208m(CD1) of chain 0 residue 0 (LEU)>, <Atom 5 (CD2) of chain 0 residue 0 (LEU)>]}!\u001b[0m\n"
      ]
     },
     "metadata": {},
     "output_type": "display_data"
    },
    {
     "data": {
      "text/html": [
       "<pre style=\"white-space:pre;overflow-x:auto;line-height:normal;font-family:Menlo,'DejaVu Sans Mono',consolas,'Courier New',monospace;margin:0px\">fixer.<span style=\"color: #808000; text-decoration-color: #808000\">missingTerminals</span>=<span style=\"font-weight: bold\">{&lt;</span><span style=\"color: #ff00ff; text-decoration-color: #ff00ff; font-weight: bold\">Residue</span><span style=\"color: #000000; text-decoration-color: #000000\"> </span><span style=\"color: #008080; text-decoration-color: #008080; font-weight: bold\">184</span><span style=\"color: #000000; text-decoration-color: #000000\"> </span><span style=\"color: #000000; text-decoration-color: #000000; font-weight: bold\">(</span><span style=\"color: #000000; text-decoration-color: #000000\">LEU</span><span style=\"color: #000000; text-decoration-color: #000000; font-weight: bold\">)</span><span style=\"color: #000000; text-decoration-color: #000000\"> of chain </span><span style=\"color: #008080; text-decoration-color: #008080; font-weight: bold\">0</span><span style=\"font-weight: bold\">&gt;</span>: <span style=\"font-weight: bold\">[</span><span style=\"color: #008000; text-decoration-color: #008000\">'OXT'</span><span style=\"font-weight: bold\">]}</span>\n",
       "</pre>\n"
      ],
      "text/plain": [
       "fixer.\u001b[33mmissingTerminals\u001b[0m=\u001b[1m{\u001b[0m\u001b[1m<\u001b[0m\u001b[1;95mResidue\u001b[0m\u001b[39m \u001b[0m\u001b[1;36m184\u001b[0m\u001b[39m \u001b[0m\u001b[1;39m(\u001b[0m\u001b[39mLEU\u001b[0m\u001b[1;39m)\u001b[0m\u001b[39m of chain \u001b[0m\u001b[1;36m0\u001b[0m\u001b[1m>\u001b[0m: \u001b[1m[\u001b[0m\u001b[32m'OXT'\u001b[0m\u001b[1m]\u001b[0m\u001b[1m}\u001b[0m\n"
      ]
     },
     "metadata": {},
     "output_type": "display_data"
    },
    {
     "data": {
      "text/html": [
       "<pre style=\"white-space:pre;overflow-x:auto;line-height:normal;font-family:Menlo,'DejaVu Sans Mono',consolas,'Courier New',monospace;margin:0px\"><span style=\"background-color: #d7af00; font-weight: bold\"> DISK </span> Writing <span style=\"color: #d7af00; text-decoration-color: #d7af00\">../aligned_files/m0286a/m0286a_apo-desolv-Hs.pdb</span>...\n",
       "</pre>\n"
      ],
      "text/plain": [
       "\u001b[1;7;38;5;178m DISK \u001b[0m Writing \u001b[38;5;178m../aligned_files/m0286a/m0286a_apo-desolv-Hs.pdb\u001b[0m...\n"
      ]
     },
     "metadata": {},
     "output_type": "display_data"
    },
    {
     "data": {
      "text/html": [
       "<pre style=\"white-space:pre;overflow-x:auto;line-height:normal;font-family:Menlo,'DejaVu Sans Mono',consolas,'Courier New',monospace;margin:0px\"><span style=\"background-color: #ff8700; font-weight: bold\"> Warning </span><span style=\"color: #ff8700; text-decoration-color: #ff8700\"> fixer.missingAtoms={&lt;Residue 184 (LEU) of chain 0&gt;: [&lt;Atom 3 (CG) of chain 0 residue 0 (LEU)&gt;, &lt;Atom 4 </span>\n",
       "<span style=\"color: #ff8700; text-decoration-color: #ff8700\">(CD1) of chain 0 residue 0 (LEU)&gt;, &lt;Atom 5 (CD2) of chain 0 residue 0 (LEU)&gt;]}!</span>\n",
       "</pre>\n"
      ],
      "text/plain": [
       "\u001b[1;7;38;5;208m Warning \u001b[0m\u001b[38;5;208m fixer.missingAtoms={<Residue 184 (LEU) of chain 0>: [<Atom 3 (CG) of chain 0 residue 0 (LEU)>, <Atom 4 \u001b[0m\n",
       "\u001b[38;5;208m(CD1) of chain 0 residue 0 (LEU)>, <Atom 5 (CD2) of chain 0 residue 0 (LEU)>]}!\u001b[0m\n"
      ]
     },
     "metadata": {},
     "output_type": "display_data"
    },
    {
     "data": {
      "text/html": [
       "<pre style=\"white-space:pre;overflow-x:auto;line-height:normal;font-family:Menlo,'DejaVu Sans Mono',consolas,'Courier New',monospace;margin:0px\">fixer.<span style=\"color: #808000; text-decoration-color: #808000\">missingTerminals</span>=<span style=\"font-weight: bold\">{&lt;</span><span style=\"color: #ff00ff; text-decoration-color: #ff00ff; font-weight: bold\">Residue</span><span style=\"color: #000000; text-decoration-color: #000000\"> </span><span style=\"color: #008080; text-decoration-color: #008080; font-weight: bold\">184</span><span style=\"color: #000000; text-decoration-color: #000000\"> </span><span style=\"color: #000000; text-decoration-color: #000000; font-weight: bold\">(</span><span style=\"color: #000000; text-decoration-color: #000000\">LEU</span><span style=\"color: #000000; text-decoration-color: #000000; font-weight: bold\">)</span><span style=\"color: #000000; text-decoration-color: #000000\"> of chain </span><span style=\"color: #008080; text-decoration-color: #008080; font-weight: bold\">0</span><span style=\"font-weight: bold\">&gt;</span>: <span style=\"font-weight: bold\">[</span><span style=\"color: #008000; text-decoration-color: #008000\">'OXT'</span><span style=\"font-weight: bold\">]}</span>\n",
       "</pre>\n"
      ],
      "text/plain": [
       "fixer.\u001b[33mmissingTerminals\u001b[0m=\u001b[1m{\u001b[0m\u001b[1m<\u001b[0m\u001b[1;95mResidue\u001b[0m\u001b[39m \u001b[0m\u001b[1;36m184\u001b[0m\u001b[39m \u001b[0m\u001b[1;39m(\u001b[0m\u001b[39mLEU\u001b[0m\u001b[1;39m)\u001b[0m\u001b[39m of chain \u001b[0m\u001b[1;36m0\u001b[0m\u001b[1m>\u001b[0m: \u001b[1m[\u001b[0m\u001b[32m'OXT'\u001b[0m\u001b[1m]\u001b[0m\u001b[1m}\u001b[0m\n"
      ]
     },
     "metadata": {},
     "output_type": "display_data"
    },
    {
     "data": {
      "text/html": [
       "<pre style=\"white-space:pre;overflow-x:auto;line-height:normal;font-family:Menlo,'DejaVu Sans Mono',consolas,'Courier New',monospace;margin:0px\"><span style=\"background-color: #d7af00; font-weight: bold\"> DISK </span> Writing <span style=\"color: #d7af00; text-decoration-color: #d7af00\">../aligned_files/m0306a/m0306a_apo-desolv-Hs.pdb</span>...\n",
       "</pre>\n"
      ],
      "text/plain": [
       "\u001b[1;7;38;5;178m DISK \u001b[0m Writing \u001b[38;5;178m../aligned_files/m0306a/m0306a_apo-desolv-Hs.pdb\u001b[0m...\n"
      ]
     },
     "metadata": {},
     "output_type": "display_data"
    },
    {
     "data": {
      "text/html": [
       "<pre style=\"white-space:pre;overflow-x:auto;line-height:normal;font-family:Menlo,'DejaVu Sans Mono',consolas,'Courier New',monospace;margin:0px\"><span style=\"background-color: #ff8700; font-weight: bold\"> Warning </span><span style=\"color: #ff8700; text-decoration-color: #ff8700\"> fixer.missingAtoms={&lt;Residue 184 (LEU) of chain 0&gt;: [&lt;Atom 3 (CG) of chain 0 residue 0 (LEU)&gt;, &lt;Atom 4 </span>\n",
       "<span style=\"color: #ff8700; text-decoration-color: #ff8700\">(CD1) of chain 0 residue 0 (LEU)&gt;, &lt;Atom 5 (CD2) of chain 0 residue 0 (LEU)&gt;]}!</span>\n",
       "</pre>\n"
      ],
      "text/plain": [
       "\u001b[1;7;38;5;208m Warning \u001b[0m\u001b[38;5;208m fixer.missingAtoms={<Residue 184 (LEU) of chain 0>: [<Atom 3 (CG) of chain 0 residue 0 (LEU)>, <Atom 4 \u001b[0m\n",
       "\u001b[38;5;208m(CD1) of chain 0 residue 0 (LEU)>, <Atom 5 (CD2) of chain 0 residue 0 (LEU)>]}!\u001b[0m\n"
      ]
     },
     "metadata": {},
     "output_type": "display_data"
    },
    {
     "data": {
      "text/html": [
       "<pre style=\"white-space:pre;overflow-x:auto;line-height:normal;font-family:Menlo,'DejaVu Sans Mono',consolas,'Courier New',monospace;margin:0px\">fixer.<span style=\"color: #808000; text-decoration-color: #808000\">missingTerminals</span>=<span style=\"font-weight: bold\">{&lt;</span><span style=\"color: #ff00ff; text-decoration-color: #ff00ff; font-weight: bold\">Residue</span><span style=\"color: #000000; text-decoration-color: #000000\"> </span><span style=\"color: #008080; text-decoration-color: #008080; font-weight: bold\">184</span><span style=\"color: #000000; text-decoration-color: #000000\"> </span><span style=\"color: #000000; text-decoration-color: #000000; font-weight: bold\">(</span><span style=\"color: #000000; text-decoration-color: #000000\">LEU</span><span style=\"color: #000000; text-decoration-color: #000000; font-weight: bold\">)</span><span style=\"color: #000000; text-decoration-color: #000000\"> of chain </span><span style=\"color: #008080; text-decoration-color: #008080; font-weight: bold\">0</span><span style=\"font-weight: bold\">&gt;</span>: <span style=\"font-weight: bold\">[</span><span style=\"color: #008000; text-decoration-color: #008000\">'OXT'</span><span style=\"font-weight: bold\">]}</span>\n",
       "</pre>\n"
      ],
      "text/plain": [
       "fixer.\u001b[33mmissingTerminals\u001b[0m=\u001b[1m{\u001b[0m\u001b[1m<\u001b[0m\u001b[1;95mResidue\u001b[0m\u001b[39m \u001b[0m\u001b[1;36m184\u001b[0m\u001b[39m \u001b[0m\u001b[1;39m(\u001b[0m\u001b[39mLEU\u001b[0m\u001b[1;39m)\u001b[0m\u001b[39m of chain \u001b[0m\u001b[1;36m0\u001b[0m\u001b[1m>\u001b[0m: \u001b[1m[\u001b[0m\u001b[32m'OXT'\u001b[0m\u001b[1m]\u001b[0m\u001b[1m}\u001b[0m\n"
      ]
     },
     "metadata": {},
     "output_type": "display_data"
    },
    {
     "data": {
      "text/html": [
       "<pre style=\"white-space:pre;overflow-x:auto;line-height:normal;font-family:Menlo,'DejaVu Sans Mono',consolas,'Courier New',monospace;margin:0px\"><span style=\"background-color: #d7af00; font-weight: bold\"> DISK </span> Writing <span style=\"color: #d7af00; text-decoration-color: #d7af00\">../aligned_files/m0310a/m0310a_apo-desolv-Hs.pdb</span>...\n",
       "</pre>\n"
      ],
      "text/plain": [
       "\u001b[1;7;38;5;178m DISK \u001b[0m Writing \u001b[38;5;178m../aligned_files/m0310a/m0310a_apo-desolv-Hs.pdb\u001b[0m...\n"
      ]
     },
     "metadata": {},
     "output_type": "display_data"
    },
    {
     "data": {
      "text/html": [
       "<pre style=\"white-space:pre;overflow-x:auto;line-height:normal;font-family:Menlo,'DejaVu Sans Mono',consolas,'Courier New',monospace;margin:0px\"><span style=\"background-color: #ff8700; font-weight: bold\"> Warning </span><span style=\"color: #ff8700; text-decoration-color: #ff8700\"> fixer.missingAtoms={&lt;Residue 184 (LEU) of chain 0&gt;: [&lt;Atom 3 (CG) of chain 0 residue 0 (LEU)&gt;, &lt;Atom 4 </span>\n",
       "<span style=\"color: #ff8700; text-decoration-color: #ff8700\">(CD1) of chain 0 residue 0 (LEU)&gt;, &lt;Atom 5 (CD2) of chain 0 residue 0 (LEU)&gt;]}!</span>\n",
       "</pre>\n"
      ],
      "text/plain": [
       "\u001b[1;7;38;5;208m Warning \u001b[0m\u001b[38;5;208m fixer.missingAtoms={<Residue 184 (LEU) of chain 0>: [<Atom 3 (CG) of chain 0 residue 0 (LEU)>, <Atom 4 \u001b[0m\n",
       "\u001b[38;5;208m(CD1) of chain 0 residue 0 (LEU)>, <Atom 5 (CD2) of chain 0 residue 0 (LEU)>]}!\u001b[0m\n"
      ]
     },
     "metadata": {},
     "output_type": "display_data"
    },
    {
     "data": {
      "text/html": [
       "<pre style=\"white-space:pre;overflow-x:auto;line-height:normal;font-family:Menlo,'DejaVu Sans Mono',consolas,'Courier New',monospace;margin:0px\">fixer.<span style=\"color: #808000; text-decoration-color: #808000\">missingTerminals</span>=<span style=\"font-weight: bold\">{&lt;</span><span style=\"color: #ff00ff; text-decoration-color: #ff00ff; font-weight: bold\">Residue</span><span style=\"color: #000000; text-decoration-color: #000000\"> </span><span style=\"color: #008080; text-decoration-color: #008080; font-weight: bold\">184</span><span style=\"color: #000000; text-decoration-color: #000000\"> </span><span style=\"color: #000000; text-decoration-color: #000000; font-weight: bold\">(</span><span style=\"color: #000000; text-decoration-color: #000000\">LEU</span><span style=\"color: #000000; text-decoration-color: #000000; font-weight: bold\">)</span><span style=\"color: #000000; text-decoration-color: #000000\"> of chain </span><span style=\"color: #008080; text-decoration-color: #008080; font-weight: bold\">0</span><span style=\"font-weight: bold\">&gt;</span>: <span style=\"font-weight: bold\">[</span><span style=\"color: #008000; text-decoration-color: #008000\">'OXT'</span><span style=\"font-weight: bold\">]}</span>\n",
       "</pre>\n"
      ],
      "text/plain": [
       "fixer.\u001b[33mmissingTerminals\u001b[0m=\u001b[1m{\u001b[0m\u001b[1m<\u001b[0m\u001b[1;95mResidue\u001b[0m\u001b[39m \u001b[0m\u001b[1;36m184\u001b[0m\u001b[39m \u001b[0m\u001b[1;39m(\u001b[0m\u001b[39mLEU\u001b[0m\u001b[1;39m)\u001b[0m\u001b[39m of chain \u001b[0m\u001b[1;36m0\u001b[0m\u001b[1m>\u001b[0m: \u001b[1m[\u001b[0m\u001b[32m'OXT'\u001b[0m\u001b[1m]\u001b[0m\u001b[1m}\u001b[0m\n"
      ]
     },
     "metadata": {},
     "output_type": "display_data"
    },
    {
     "data": {
      "text/html": [
       "<pre style=\"white-space:pre;overflow-x:auto;line-height:normal;font-family:Menlo,'DejaVu Sans Mono',consolas,'Courier New',monospace;margin:0px\"><span style=\"background-color: #d7af00; font-weight: bold\"> DISK </span> Writing <span style=\"color: #d7af00; text-decoration-color: #d7af00\">../aligned_files/m0322a/m0322a_apo-desolv-Hs.pdb</span>...\n",
       "</pre>\n"
      ],
      "text/plain": [
       "\u001b[1;7;38;5;178m DISK \u001b[0m Writing \u001b[38;5;178m../aligned_files/m0322a/m0322a_apo-desolv-Hs.pdb\u001b[0m...\n"
      ]
     },
     "metadata": {},
     "output_type": "display_data"
    },
    {
     "data": {
      "text/html": [
       "<pre style=\"white-space:pre;overflow-x:auto;line-height:normal;font-family:Menlo,'DejaVu Sans Mono',consolas,'Courier New',monospace;margin:0px\"><span style=\"background-color: #ff8700; font-weight: bold\"> Warning </span><span style=\"color: #ff8700; text-decoration-color: #ff8700\"> fixer.missingAtoms={&lt;Residue 184 (LEU) of chain 0&gt;: [&lt;Atom 3 (CG) of chain 0 residue 0 (LEU)&gt;, &lt;Atom 4 </span>\n",
       "<span style=\"color: #ff8700; text-decoration-color: #ff8700\">(CD1) of chain 0 residue 0 (LEU)&gt;, &lt;Atom 5 (CD2) of chain 0 residue 0 (LEU)&gt;]}!</span>\n",
       "</pre>\n"
      ],
      "text/plain": [
       "\u001b[1;7;38;5;208m Warning \u001b[0m\u001b[38;5;208m fixer.missingAtoms={<Residue 184 (LEU) of chain 0>: [<Atom 3 (CG) of chain 0 residue 0 (LEU)>, <Atom 4 \u001b[0m\n",
       "\u001b[38;5;208m(CD1) of chain 0 residue 0 (LEU)>, <Atom 5 (CD2) of chain 0 residue 0 (LEU)>]}!\u001b[0m\n"
      ]
     },
     "metadata": {},
     "output_type": "display_data"
    },
    {
     "data": {
      "text/html": [
       "<pre style=\"white-space:pre;overflow-x:auto;line-height:normal;font-family:Menlo,'DejaVu Sans Mono',consolas,'Courier New',monospace;margin:0px\">fixer.<span style=\"color: #808000; text-decoration-color: #808000\">missingTerminals</span>=<span style=\"font-weight: bold\">{&lt;</span><span style=\"color: #ff00ff; text-decoration-color: #ff00ff; font-weight: bold\">Residue</span><span style=\"color: #000000; text-decoration-color: #000000\"> </span><span style=\"color: #008080; text-decoration-color: #008080; font-weight: bold\">184</span><span style=\"color: #000000; text-decoration-color: #000000\"> </span><span style=\"color: #000000; text-decoration-color: #000000; font-weight: bold\">(</span><span style=\"color: #000000; text-decoration-color: #000000\">LEU</span><span style=\"color: #000000; text-decoration-color: #000000; font-weight: bold\">)</span><span style=\"color: #000000; text-decoration-color: #000000\"> of chain </span><span style=\"color: #008080; text-decoration-color: #008080; font-weight: bold\">0</span><span style=\"font-weight: bold\">&gt;</span>: <span style=\"font-weight: bold\">[</span><span style=\"color: #008000; text-decoration-color: #008000\">'OXT'</span><span style=\"font-weight: bold\">]}</span>\n",
       "</pre>\n"
      ],
      "text/plain": [
       "fixer.\u001b[33mmissingTerminals\u001b[0m=\u001b[1m{\u001b[0m\u001b[1m<\u001b[0m\u001b[1;95mResidue\u001b[0m\u001b[39m \u001b[0m\u001b[1;36m184\u001b[0m\u001b[39m \u001b[0m\u001b[1;39m(\u001b[0m\u001b[39mLEU\u001b[0m\u001b[1;39m)\u001b[0m\u001b[39m of chain \u001b[0m\u001b[1;36m0\u001b[0m\u001b[1m>\u001b[0m: \u001b[1m[\u001b[0m\u001b[32m'OXT'\u001b[0m\u001b[1m]\u001b[0m\u001b[1m}\u001b[0m\n"
      ]
     },
     "metadata": {},
     "output_type": "display_data"
    },
    {
     "data": {
      "text/html": [
       "<pre style=\"white-space:pre;overflow-x:auto;line-height:normal;font-family:Menlo,'DejaVu Sans Mono',consolas,'Courier New',monospace;margin:0px\"><span style=\"background-color: #d7af00; font-weight: bold\"> DISK </span> Writing <span style=\"color: #d7af00; text-decoration-color: #d7af00\">../aligned_files/m0332a/m0332a_apo-desolv-Hs.pdb</span>...\n",
       "</pre>\n"
      ],
      "text/plain": [
       "\u001b[1;7;38;5;178m DISK \u001b[0m Writing \u001b[38;5;178m../aligned_files/m0332a/m0332a_apo-desolv-Hs.pdb\u001b[0m...\n"
      ]
     },
     "metadata": {},
     "output_type": "display_data"
    },
    {
     "data": {
      "text/html": [
       "<pre style=\"white-space:pre;overflow-x:auto;line-height:normal;font-family:Menlo,'DejaVu Sans Mono',consolas,'Courier New',monospace;margin:0px\"><span style=\"background-color: #ff8700; font-weight: bold\"> Warning </span><span style=\"color: #ff8700; text-decoration-color: #ff8700\"> fixer.missingAtoms={&lt;Residue 184 (LEU) of chain 0&gt;: [&lt;Atom 3 (CG) of chain 0 residue 0 (LEU)&gt;, &lt;Atom 4 </span>\n",
       "<span style=\"color: #ff8700; text-decoration-color: #ff8700\">(CD1) of chain 0 residue 0 (LEU)&gt;, &lt;Atom 5 (CD2) of chain 0 residue 0 (LEU)&gt;]}!</span>\n",
       "</pre>\n"
      ],
      "text/plain": [
       "\u001b[1;7;38;5;208m Warning \u001b[0m\u001b[38;5;208m fixer.missingAtoms={<Residue 184 (LEU) of chain 0>: [<Atom 3 (CG) of chain 0 residue 0 (LEU)>, <Atom 4 \u001b[0m\n",
       "\u001b[38;5;208m(CD1) of chain 0 residue 0 (LEU)>, <Atom 5 (CD2) of chain 0 residue 0 (LEU)>]}!\u001b[0m\n"
      ]
     },
     "metadata": {},
     "output_type": "display_data"
    },
    {
     "data": {
      "text/html": [
       "<pre style=\"white-space:pre;overflow-x:auto;line-height:normal;font-family:Menlo,'DejaVu Sans Mono',consolas,'Courier New',monospace;margin:0px\">fixer.<span style=\"color: #808000; text-decoration-color: #808000\">missingTerminals</span>=<span style=\"font-weight: bold\">{&lt;</span><span style=\"color: #ff00ff; text-decoration-color: #ff00ff; font-weight: bold\">Residue</span><span style=\"color: #000000; text-decoration-color: #000000\"> </span><span style=\"color: #008080; text-decoration-color: #008080; font-weight: bold\">184</span><span style=\"color: #000000; text-decoration-color: #000000\"> </span><span style=\"color: #000000; text-decoration-color: #000000; font-weight: bold\">(</span><span style=\"color: #000000; text-decoration-color: #000000\">LEU</span><span style=\"color: #000000; text-decoration-color: #000000; font-weight: bold\">)</span><span style=\"color: #000000; text-decoration-color: #000000\"> of chain </span><span style=\"color: #008080; text-decoration-color: #008080; font-weight: bold\">0</span><span style=\"font-weight: bold\">&gt;</span>: <span style=\"font-weight: bold\">[</span><span style=\"color: #008000; text-decoration-color: #008000\">'OXT'</span><span style=\"font-weight: bold\">]}</span>\n",
       "</pre>\n"
      ],
      "text/plain": [
       "fixer.\u001b[33mmissingTerminals\u001b[0m=\u001b[1m{\u001b[0m\u001b[1m<\u001b[0m\u001b[1;95mResidue\u001b[0m\u001b[39m \u001b[0m\u001b[1;36m184\u001b[0m\u001b[39m \u001b[0m\u001b[1;39m(\u001b[0m\u001b[39mLEU\u001b[0m\u001b[1;39m)\u001b[0m\u001b[39m of chain \u001b[0m\u001b[1;36m0\u001b[0m\u001b[1m>\u001b[0m: \u001b[1m[\u001b[0m\u001b[32m'OXT'\u001b[0m\u001b[1m]\u001b[0m\u001b[1m}\u001b[0m\n"
      ]
     },
     "metadata": {},
     "output_type": "display_data"
    },
    {
     "data": {
      "text/html": [
       "<pre style=\"white-space:pre;overflow-x:auto;line-height:normal;font-family:Menlo,'DejaVu Sans Mono',consolas,'Courier New',monospace;margin:0px\"><span style=\"background-color: #d7af00; font-weight: bold\"> DISK </span> Writing <span style=\"color: #d7af00; text-decoration-color: #d7af00\">../aligned_files/m0354a/m0354a_apo-desolv-Hs.pdb</span>...\n",
       "</pre>\n"
      ],
      "text/plain": [
       "\u001b[1;7;38;5;178m DISK \u001b[0m Writing \u001b[38;5;178m../aligned_files/m0354a/m0354a_apo-desolv-Hs.pdb\u001b[0m...\n"
      ]
     },
     "metadata": {},
     "output_type": "display_data"
    },
    {
     "data": {
      "text/html": [
       "<pre style=\"white-space:pre;overflow-x:auto;line-height:normal;font-family:Menlo,'DejaVu Sans Mono',consolas,'Courier New',monospace;margin:0px\"><span style=\"background-color: #ff8700; font-weight: bold\"> Warning </span><span style=\"color: #ff8700; text-decoration-color: #ff8700\"> fixer.missingAtoms={&lt;Residue 184 (LEU) of chain 0&gt;: [&lt;Atom 3 (CG) of chain 0 residue 0 (LEU)&gt;, &lt;Atom 4 </span>\n",
       "<span style=\"color: #ff8700; text-decoration-color: #ff8700\">(CD1) of chain 0 residue 0 (LEU)&gt;, &lt;Atom 5 (CD2) of chain 0 residue 0 (LEU)&gt;]}!</span>\n",
       "</pre>\n"
      ],
      "text/plain": [
       "\u001b[1;7;38;5;208m Warning \u001b[0m\u001b[38;5;208m fixer.missingAtoms={<Residue 184 (LEU) of chain 0>: [<Atom 3 (CG) of chain 0 residue 0 (LEU)>, <Atom 4 \u001b[0m\n",
       "\u001b[38;5;208m(CD1) of chain 0 residue 0 (LEU)>, <Atom 5 (CD2) of chain 0 residue 0 (LEU)>]}!\u001b[0m\n"
      ]
     },
     "metadata": {},
     "output_type": "display_data"
    },
    {
     "data": {
      "text/html": [
       "<pre style=\"white-space:pre;overflow-x:auto;line-height:normal;font-family:Menlo,'DejaVu Sans Mono',consolas,'Courier New',monospace;margin:0px\">fixer.<span style=\"color: #808000; text-decoration-color: #808000\">missingTerminals</span>=<span style=\"font-weight: bold\">{&lt;</span><span style=\"color: #ff00ff; text-decoration-color: #ff00ff; font-weight: bold\">Residue</span><span style=\"color: #000000; text-decoration-color: #000000\"> </span><span style=\"color: #008080; text-decoration-color: #008080; font-weight: bold\">184</span><span style=\"color: #000000; text-decoration-color: #000000\"> </span><span style=\"color: #000000; text-decoration-color: #000000; font-weight: bold\">(</span><span style=\"color: #000000; text-decoration-color: #000000\">LEU</span><span style=\"color: #000000; text-decoration-color: #000000; font-weight: bold\">)</span><span style=\"color: #000000; text-decoration-color: #000000\"> of chain </span><span style=\"color: #008080; text-decoration-color: #008080; font-weight: bold\">0</span><span style=\"font-weight: bold\">&gt;</span>: <span style=\"font-weight: bold\">[</span><span style=\"color: #008000; text-decoration-color: #008000\">'OXT'</span><span style=\"font-weight: bold\">]}</span>\n",
       "</pre>\n"
      ],
      "text/plain": [
       "fixer.\u001b[33mmissingTerminals\u001b[0m=\u001b[1m{\u001b[0m\u001b[1m<\u001b[0m\u001b[1;95mResidue\u001b[0m\u001b[39m \u001b[0m\u001b[1;36m184\u001b[0m\u001b[39m \u001b[0m\u001b[1;39m(\u001b[0m\u001b[39mLEU\u001b[0m\u001b[1;39m)\u001b[0m\u001b[39m of chain \u001b[0m\u001b[1;36m0\u001b[0m\u001b[1m>\u001b[0m: \u001b[1m[\u001b[0m\u001b[32m'OXT'\u001b[0m\u001b[1m]\u001b[0m\u001b[1m}\u001b[0m\n"
      ]
     },
     "metadata": {},
     "output_type": "display_data"
    },
    {
     "data": {
      "text/html": [
       "<pre style=\"white-space:pre;overflow-x:auto;line-height:normal;font-family:Menlo,'DejaVu Sans Mono',consolas,'Courier New',monospace;margin:0px\"><span style=\"background-color: #d7af00; font-weight: bold\"> DISK </span> Writing <span style=\"color: #d7af00; text-decoration-color: #d7af00\">../aligned_files/m0358a/m0358a_apo-desolv-Hs.pdb</span>...\n",
       "</pre>\n"
      ],
      "text/plain": [
       "\u001b[1;7;38;5;178m DISK \u001b[0m Writing \u001b[38;5;178m../aligned_files/m0358a/m0358a_apo-desolv-Hs.pdb\u001b[0m...\n"
      ]
     },
     "metadata": {},
     "output_type": "display_data"
    },
    {
     "data": {
      "text/html": [
       "<pre style=\"white-space:pre;overflow-x:auto;line-height:normal;font-family:Menlo,'DejaVu Sans Mono',consolas,'Courier New',monospace;margin:0px\"><span style=\"background-color: #ff8700; font-weight: bold\"> Warning </span><span style=\"color: #ff8700; text-decoration-color: #ff8700\"> fixer.missingAtoms={&lt;Residue 184 (LEU) of chain 0&gt;: [&lt;Atom 3 (CG) of chain 0 residue 0 (LEU)&gt;, &lt;Atom 4 </span>\n",
       "<span style=\"color: #ff8700; text-decoration-color: #ff8700\">(CD1) of chain 0 residue 0 (LEU)&gt;, &lt;Atom 5 (CD2) of chain 0 residue 0 (LEU)&gt;]}!</span>\n",
       "</pre>\n"
      ],
      "text/plain": [
       "\u001b[1;7;38;5;208m Warning \u001b[0m\u001b[38;5;208m fixer.missingAtoms={<Residue 184 (LEU) of chain 0>: [<Atom 3 (CG) of chain 0 residue 0 (LEU)>, <Atom 4 \u001b[0m\n",
       "\u001b[38;5;208m(CD1) of chain 0 residue 0 (LEU)>, <Atom 5 (CD2) of chain 0 residue 0 (LEU)>]}!\u001b[0m\n"
      ]
     },
     "metadata": {},
     "output_type": "display_data"
    },
    {
     "data": {
      "text/html": [
       "<pre style=\"white-space:pre;overflow-x:auto;line-height:normal;font-family:Menlo,'DejaVu Sans Mono',consolas,'Courier New',monospace;margin:0px\">fixer.<span style=\"color: #808000; text-decoration-color: #808000\">missingTerminals</span>=<span style=\"font-weight: bold\">{&lt;</span><span style=\"color: #ff00ff; text-decoration-color: #ff00ff; font-weight: bold\">Residue</span><span style=\"color: #000000; text-decoration-color: #000000\"> </span><span style=\"color: #008080; text-decoration-color: #008080; font-weight: bold\">184</span><span style=\"color: #000000; text-decoration-color: #000000\"> </span><span style=\"color: #000000; text-decoration-color: #000000; font-weight: bold\">(</span><span style=\"color: #000000; text-decoration-color: #000000\">LEU</span><span style=\"color: #000000; text-decoration-color: #000000; font-weight: bold\">)</span><span style=\"color: #000000; text-decoration-color: #000000\"> of chain </span><span style=\"color: #008080; text-decoration-color: #008080; font-weight: bold\">0</span><span style=\"font-weight: bold\">&gt;</span>: <span style=\"font-weight: bold\">[</span><span style=\"color: #008000; text-decoration-color: #008000\">'OXT'</span><span style=\"font-weight: bold\">]}</span>\n",
       "</pre>\n"
      ],
      "text/plain": [
       "fixer.\u001b[33mmissingTerminals\u001b[0m=\u001b[1m{\u001b[0m\u001b[1m<\u001b[0m\u001b[1;95mResidue\u001b[0m\u001b[39m \u001b[0m\u001b[1;36m184\u001b[0m\u001b[39m \u001b[0m\u001b[1;39m(\u001b[0m\u001b[39mLEU\u001b[0m\u001b[1;39m)\u001b[0m\u001b[39m of chain \u001b[0m\u001b[1;36m0\u001b[0m\u001b[1m>\u001b[0m: \u001b[1m[\u001b[0m\u001b[32m'OXT'\u001b[0m\u001b[1m]\u001b[0m\u001b[1m}\u001b[0m\n"
      ]
     },
     "metadata": {},
     "output_type": "display_data"
    },
    {
     "data": {
      "text/html": [
       "<pre style=\"white-space:pre;overflow-x:auto;line-height:normal;font-family:Menlo,'DejaVu Sans Mono',consolas,'Courier New',monospace;margin:0px\"><span style=\"background-color: #d7af00; font-weight: bold\"> DISK </span> Writing <span style=\"color: #d7af00; text-decoration-color: #d7af00\">../aligned_files/m0358b/m0358b_apo-desolv-Hs.pdb</span>...\n",
       "</pre>\n"
      ],
      "text/plain": [
       "\u001b[1;7;38;5;178m DISK \u001b[0m Writing \u001b[38;5;178m../aligned_files/m0358b/m0358b_apo-desolv-Hs.pdb\u001b[0m...\n"
      ]
     },
     "metadata": {},
     "output_type": "display_data"
    },
    {
     "data": {
      "text/html": [
       "<pre style=\"white-space:pre;overflow-x:auto;line-height:normal;font-family:Menlo,'DejaVu Sans Mono',consolas,'Courier New',monospace;margin:0px\"><span style=\"background-color: #ff8700; font-weight: bold\"> Warning </span><span style=\"color: #ff8700; text-decoration-color: #ff8700\"> fixer.missingAtoms={&lt;Residue 184 (LEU) of chain 0&gt;: [&lt;Atom 3 (CG) of chain 0 residue 0 (LEU)&gt;, &lt;Atom 4 </span>\n",
       "<span style=\"color: #ff8700; text-decoration-color: #ff8700\">(CD1) of chain 0 residue 0 (LEU)&gt;, &lt;Atom 5 (CD2) of chain 0 residue 0 (LEU)&gt;]}!</span>\n",
       "</pre>\n"
      ],
      "text/plain": [
       "\u001b[1;7;38;5;208m Warning \u001b[0m\u001b[38;5;208m fixer.missingAtoms={<Residue 184 (LEU) of chain 0>: [<Atom 3 (CG) of chain 0 residue 0 (LEU)>, <Atom 4 \u001b[0m\n",
       "\u001b[38;5;208m(CD1) of chain 0 residue 0 (LEU)>, <Atom 5 (CD2) of chain 0 residue 0 (LEU)>]}!\u001b[0m\n"
      ]
     },
     "metadata": {},
     "output_type": "display_data"
    },
    {
     "data": {
      "text/html": [
       "<pre style=\"white-space:pre;overflow-x:auto;line-height:normal;font-family:Menlo,'DejaVu Sans Mono',consolas,'Courier New',monospace;margin:0px\">fixer.<span style=\"color: #808000; text-decoration-color: #808000\">missingTerminals</span>=<span style=\"font-weight: bold\">{&lt;</span><span style=\"color: #ff00ff; text-decoration-color: #ff00ff; font-weight: bold\">Residue</span><span style=\"color: #000000; text-decoration-color: #000000\"> </span><span style=\"color: #008080; text-decoration-color: #008080; font-weight: bold\">184</span><span style=\"color: #000000; text-decoration-color: #000000\"> </span><span style=\"color: #000000; text-decoration-color: #000000; font-weight: bold\">(</span><span style=\"color: #000000; text-decoration-color: #000000\">LEU</span><span style=\"color: #000000; text-decoration-color: #000000; font-weight: bold\">)</span><span style=\"color: #000000; text-decoration-color: #000000\"> of chain </span><span style=\"color: #008080; text-decoration-color: #008080; font-weight: bold\">0</span><span style=\"font-weight: bold\">&gt;</span>: <span style=\"font-weight: bold\">[</span><span style=\"color: #008000; text-decoration-color: #008000\">'OXT'</span><span style=\"font-weight: bold\">]}</span>\n",
       "</pre>\n"
      ],
      "text/plain": [
       "fixer.\u001b[33mmissingTerminals\u001b[0m=\u001b[1m{\u001b[0m\u001b[1m<\u001b[0m\u001b[1;95mResidue\u001b[0m\u001b[39m \u001b[0m\u001b[1;36m184\u001b[0m\u001b[39m \u001b[0m\u001b[1;39m(\u001b[0m\u001b[39mLEU\u001b[0m\u001b[1;39m)\u001b[0m\u001b[39m of chain \u001b[0m\u001b[1;36m0\u001b[0m\u001b[1m>\u001b[0m: \u001b[1m[\u001b[0m\u001b[32m'OXT'\u001b[0m\u001b[1m]\u001b[0m\u001b[1m}\u001b[0m\n"
      ]
     },
     "metadata": {},
     "output_type": "display_data"
    },
    {
     "data": {
      "text/html": [
       "<pre style=\"white-space:pre;overflow-x:auto;line-height:normal;font-family:Menlo,'DejaVu Sans Mono',consolas,'Courier New',monospace;margin:0px\"><span style=\"background-color: #d7af00; font-weight: bold\"> DISK </span> Writing <span style=\"color: #d7af00; text-decoration-color: #d7af00\">../aligned_files/m0379a/m0379a_apo-desolv-Hs.pdb</span>...\n",
       "</pre>\n"
      ],
      "text/plain": [
       "\u001b[1;7;38;5;178m DISK \u001b[0m Writing \u001b[38;5;178m../aligned_files/m0379a/m0379a_apo-desolv-Hs.pdb\u001b[0m...\n"
      ]
     },
     "metadata": {},
     "output_type": "display_data"
    },
    {
     "data": {
      "text/html": [
       "<pre style=\"white-space:pre;overflow-x:auto;line-height:normal;font-family:Menlo,'DejaVu Sans Mono',consolas,'Courier New',monospace;margin:0px\"><span style=\"background-color: #ff8700; font-weight: bold\"> Warning </span><span style=\"color: #ff8700; text-decoration-color: #ff8700\"> fixer.missingAtoms={&lt;Residue 184 (LEU) of chain 0&gt;: [&lt;Atom 3 (CG) of chain 0 residue 0 (LEU)&gt;, &lt;Atom 4 </span>\n",
       "<span style=\"color: #ff8700; text-decoration-color: #ff8700\">(CD1) of chain 0 residue 0 (LEU)&gt;, &lt;Atom 5 (CD2) of chain 0 residue 0 (LEU)&gt;]}!</span>\n",
       "</pre>\n"
      ],
      "text/plain": [
       "\u001b[1;7;38;5;208m Warning \u001b[0m\u001b[38;5;208m fixer.missingAtoms={<Residue 184 (LEU) of chain 0>: [<Atom 3 (CG) of chain 0 residue 0 (LEU)>, <Atom 4 \u001b[0m\n",
       "\u001b[38;5;208m(CD1) of chain 0 residue 0 (LEU)>, <Atom 5 (CD2) of chain 0 residue 0 (LEU)>]}!\u001b[0m\n"
      ]
     },
     "metadata": {},
     "output_type": "display_data"
    },
    {
     "data": {
      "text/html": [
       "<pre style=\"white-space:pre;overflow-x:auto;line-height:normal;font-family:Menlo,'DejaVu Sans Mono',consolas,'Courier New',monospace;margin:0px\">fixer.<span style=\"color: #808000; text-decoration-color: #808000\">missingTerminals</span>=<span style=\"font-weight: bold\">{&lt;</span><span style=\"color: #ff00ff; text-decoration-color: #ff00ff; font-weight: bold\">Residue</span><span style=\"color: #000000; text-decoration-color: #000000\"> </span><span style=\"color: #008080; text-decoration-color: #008080; font-weight: bold\">184</span><span style=\"color: #000000; text-decoration-color: #000000\"> </span><span style=\"color: #000000; text-decoration-color: #000000; font-weight: bold\">(</span><span style=\"color: #000000; text-decoration-color: #000000\">LEU</span><span style=\"color: #000000; text-decoration-color: #000000; font-weight: bold\">)</span><span style=\"color: #000000; text-decoration-color: #000000\"> of chain </span><span style=\"color: #008080; text-decoration-color: #008080; font-weight: bold\">0</span><span style=\"font-weight: bold\">&gt;</span>: <span style=\"font-weight: bold\">[</span><span style=\"color: #008000; text-decoration-color: #008000\">'OXT'</span><span style=\"font-weight: bold\">]}</span>\n",
       "</pre>\n"
      ],
      "text/plain": [
       "fixer.\u001b[33mmissingTerminals\u001b[0m=\u001b[1m{\u001b[0m\u001b[1m<\u001b[0m\u001b[1;95mResidue\u001b[0m\u001b[39m \u001b[0m\u001b[1;36m184\u001b[0m\u001b[39m \u001b[0m\u001b[1;39m(\u001b[0m\u001b[39mLEU\u001b[0m\u001b[1;39m)\u001b[0m\u001b[39m of chain \u001b[0m\u001b[1;36m0\u001b[0m\u001b[1m>\u001b[0m: \u001b[1m[\u001b[0m\u001b[32m'OXT'\u001b[0m\u001b[1m]\u001b[0m\u001b[1m}\u001b[0m\n"
      ]
     },
     "metadata": {},
     "output_type": "display_data"
    },
    {
     "data": {
      "text/html": [
       "<pre style=\"white-space:pre;overflow-x:auto;line-height:normal;font-family:Menlo,'DejaVu Sans Mono',consolas,'Courier New',monospace;margin:0px\"><span style=\"background-color: #d7af00; font-weight: bold\"> DISK </span> Writing <span style=\"color: #d7af00; text-decoration-color: #d7af00\">../aligned_files/m0393a/m0393a_apo-desolv-Hs.pdb</span>...\n",
       "</pre>\n"
      ],
      "text/plain": [
       "\u001b[1;7;38;5;178m DISK \u001b[0m Writing \u001b[38;5;178m../aligned_files/m0393a/m0393a_apo-desolv-Hs.pdb\u001b[0m...\n"
      ]
     },
     "metadata": {},
     "output_type": "display_data"
    },
    {
     "data": {
      "text/html": [
       "<pre style=\"white-space:pre;overflow-x:auto;line-height:normal;font-family:Menlo,'DejaVu Sans Mono',consolas,'Courier New',monospace;margin:0px\"><span style=\"background-color: #d7af00; font-weight: bold\"> DISK </span> Writing <span style=\"color: #d7af00; text-decoration-color: #d7af00\">../aligned_files/m0401a/m0401a_apo-desolv-Hs.pdb</span>...\n",
       "</pre>\n"
      ],
      "text/plain": [
       "\u001b[1;7;38;5;178m DISK \u001b[0m Writing \u001b[38;5;178m../aligned_files/m0401a/m0401a_apo-desolv-Hs.pdb\u001b[0m...\n"
      ]
     },
     "metadata": {},
     "output_type": "display_data"
    },
    {
     "data": {
      "text/html": [
       "<pre style=\"white-space:pre;overflow-x:auto;line-height:normal;font-family:Menlo,'DejaVu Sans Mono',consolas,'Courier New',monospace;margin:0px\"><span style=\"background-color: #ff8700; font-weight: bold\"> Warning </span><span style=\"color: #ff8700; text-decoration-color: #ff8700\"> fixer.missingAtoms={&lt;Residue 184 (LEU) of chain 0&gt;: [&lt;Atom 3 (CG) of chain 0 residue 0 (LEU)&gt;, &lt;Atom 4 </span>\n",
       "<span style=\"color: #ff8700; text-decoration-color: #ff8700\">(CD1) of chain 0 residue 0 (LEU)&gt;, &lt;Atom 5 (CD2) of chain 0 residue 0 (LEU)&gt;]}!</span>\n",
       "</pre>\n"
      ],
      "text/plain": [
       "\u001b[1;7;38;5;208m Warning \u001b[0m\u001b[38;5;208m fixer.missingAtoms={<Residue 184 (LEU) of chain 0>: [<Atom 3 (CG) of chain 0 residue 0 (LEU)>, <Atom 4 \u001b[0m\n",
       "\u001b[38;5;208m(CD1) of chain 0 residue 0 (LEU)>, <Atom 5 (CD2) of chain 0 residue 0 (LEU)>]}!\u001b[0m\n"
      ]
     },
     "metadata": {},
     "output_type": "display_data"
    },
    {
     "data": {
      "text/html": [
       "<pre style=\"white-space:pre;overflow-x:auto;line-height:normal;font-family:Menlo,'DejaVu Sans Mono',consolas,'Courier New',monospace;margin:0px\">fixer.<span style=\"color: #808000; text-decoration-color: #808000\">missingTerminals</span>=<span style=\"font-weight: bold\">{&lt;</span><span style=\"color: #ff00ff; text-decoration-color: #ff00ff; font-weight: bold\">Residue</span><span style=\"color: #000000; text-decoration-color: #000000\"> </span><span style=\"color: #008080; text-decoration-color: #008080; font-weight: bold\">184</span><span style=\"color: #000000; text-decoration-color: #000000\"> </span><span style=\"color: #000000; text-decoration-color: #000000; font-weight: bold\">(</span><span style=\"color: #000000; text-decoration-color: #000000\">LEU</span><span style=\"color: #000000; text-decoration-color: #000000; font-weight: bold\">)</span><span style=\"color: #000000; text-decoration-color: #000000\"> of chain </span><span style=\"color: #008080; text-decoration-color: #008080; font-weight: bold\">0</span><span style=\"font-weight: bold\">&gt;</span>: <span style=\"font-weight: bold\">[</span><span style=\"color: #008000; text-decoration-color: #008000\">'OXT'</span><span style=\"font-weight: bold\">]}</span>\n",
       "</pre>\n"
      ],
      "text/plain": [
       "fixer.\u001b[33mmissingTerminals\u001b[0m=\u001b[1m{\u001b[0m\u001b[1m<\u001b[0m\u001b[1;95mResidue\u001b[0m\u001b[39m \u001b[0m\u001b[1;36m184\u001b[0m\u001b[39m \u001b[0m\u001b[1;39m(\u001b[0m\u001b[39mLEU\u001b[0m\u001b[1;39m)\u001b[0m\u001b[39m of chain \u001b[0m\u001b[1;36m0\u001b[0m\u001b[1m>\u001b[0m: \u001b[1m[\u001b[0m\u001b[32m'OXT'\u001b[0m\u001b[1m]\u001b[0m\u001b[1m}\u001b[0m\n"
      ]
     },
     "metadata": {},
     "output_type": "display_data"
    },
    {
     "data": {
      "text/html": [
       "<pre style=\"white-space:pre;overflow-x:auto;line-height:normal;font-family:Menlo,'DejaVu Sans Mono',consolas,'Courier New',monospace;margin:0px\"><span style=\"background-color: #d7af00; font-weight: bold\"> DISK </span> Writing <span style=\"color: #d7af00; text-decoration-color: #d7af00\">../aligned_files/m0404a/m0404a_apo-desolv-Hs.pdb</span>...\n",
       "</pre>\n"
      ],
      "text/plain": [
       "\u001b[1;7;38;5;178m DISK \u001b[0m Writing \u001b[38;5;178m../aligned_files/m0404a/m0404a_apo-desolv-Hs.pdb\u001b[0m...\n"
      ]
     },
     "metadata": {},
     "output_type": "display_data"
    },
    {
     "data": {
      "text/html": [
       "<pre style=\"white-space:pre;overflow-x:auto;line-height:normal;font-family:Menlo,'DejaVu Sans Mono',consolas,'Courier New',monospace;margin:0px\"><span style=\"background-color: #ff8700; font-weight: bold\"> Warning </span><span style=\"color: #ff8700; text-decoration-color: #ff8700\"> fixer.missingAtoms={&lt;Residue 184 (LEU) of chain 0&gt;: [&lt;Atom 3 (CG) of chain 0 residue 0 (LEU)&gt;, &lt;Atom 4 </span>\n",
       "<span style=\"color: #ff8700; text-decoration-color: #ff8700\">(CD1) of chain 0 residue 0 (LEU)&gt;, &lt;Atom 5 (CD2) of chain 0 residue 0 (LEU)&gt;]}!</span>\n",
       "</pre>\n"
      ],
      "text/plain": [
       "\u001b[1;7;38;5;208m Warning \u001b[0m\u001b[38;5;208m fixer.missingAtoms={<Residue 184 (LEU) of chain 0>: [<Atom 3 (CG) of chain 0 residue 0 (LEU)>, <Atom 4 \u001b[0m\n",
       "\u001b[38;5;208m(CD1) of chain 0 residue 0 (LEU)>, <Atom 5 (CD2) of chain 0 residue 0 (LEU)>]}!\u001b[0m\n"
      ]
     },
     "metadata": {},
     "output_type": "display_data"
    },
    {
     "data": {
      "text/html": [
       "<pre style=\"white-space:pre;overflow-x:auto;line-height:normal;font-family:Menlo,'DejaVu Sans Mono',consolas,'Courier New',monospace;margin:0px\">fixer.<span style=\"color: #808000; text-decoration-color: #808000\">missingTerminals</span>=<span style=\"font-weight: bold\">{&lt;</span><span style=\"color: #ff00ff; text-decoration-color: #ff00ff; font-weight: bold\">Residue</span><span style=\"color: #000000; text-decoration-color: #000000\"> </span><span style=\"color: #008080; text-decoration-color: #008080; font-weight: bold\">184</span><span style=\"color: #000000; text-decoration-color: #000000\"> </span><span style=\"color: #000000; text-decoration-color: #000000; font-weight: bold\">(</span><span style=\"color: #000000; text-decoration-color: #000000\">LEU</span><span style=\"color: #000000; text-decoration-color: #000000; font-weight: bold\">)</span><span style=\"color: #000000; text-decoration-color: #000000\"> of chain </span><span style=\"color: #008080; text-decoration-color: #008080; font-weight: bold\">0</span><span style=\"font-weight: bold\">&gt;</span>: <span style=\"font-weight: bold\">[</span><span style=\"color: #008000; text-decoration-color: #008000\">'OXT'</span><span style=\"font-weight: bold\">]}</span>\n",
       "</pre>\n"
      ],
      "text/plain": [
       "fixer.\u001b[33mmissingTerminals\u001b[0m=\u001b[1m{\u001b[0m\u001b[1m<\u001b[0m\u001b[1;95mResidue\u001b[0m\u001b[39m \u001b[0m\u001b[1;36m184\u001b[0m\u001b[39m \u001b[0m\u001b[1;39m(\u001b[0m\u001b[39mLEU\u001b[0m\u001b[1;39m)\u001b[0m\u001b[39m of chain \u001b[0m\u001b[1;36m0\u001b[0m\u001b[1m>\u001b[0m: \u001b[1m[\u001b[0m\u001b[32m'OXT'\u001b[0m\u001b[1m]\u001b[0m\u001b[1m}\u001b[0m\n"
      ]
     },
     "metadata": {},
     "output_type": "display_data"
    },
    {
     "data": {
      "text/html": [
       "<pre style=\"white-space:pre;overflow-x:auto;line-height:normal;font-family:Menlo,'DejaVu Sans Mono',consolas,'Courier New',monospace;margin:0px\"><span style=\"background-color: #d7af00; font-weight: bold\"> DISK </span> Writing <span style=\"color: #d7af00; text-decoration-color: #d7af00\">../aligned_files/m0407a/m0407a_apo-desolv-Hs.pdb</span>...\n",
       "</pre>\n"
      ],
      "text/plain": [
       "\u001b[1;7;38;5;178m DISK \u001b[0m Writing \u001b[38;5;178m../aligned_files/m0407a/m0407a_apo-desolv-Hs.pdb\u001b[0m...\n"
      ]
     },
     "metadata": {},
     "output_type": "display_data"
    },
    {
     "data": {
      "text/html": [
       "<pre style=\"white-space:pre;overflow-x:auto;line-height:normal;font-family:Menlo,'DejaVu Sans Mono',consolas,'Courier New',monospace;margin:0px\"><span style=\"background-color: #ff8700; font-weight: bold\"> Warning </span><span style=\"color: #ff8700; text-decoration-color: #ff8700\"> fixer.missingAtoms={&lt;Residue 184 (LEU) of chain 0&gt;: [&lt;Atom 3 (CG) of chain 0 residue 0 (LEU)&gt;, &lt;Atom 4 </span>\n",
       "<span style=\"color: #ff8700; text-decoration-color: #ff8700\">(CD1) of chain 0 residue 0 (LEU)&gt;, &lt;Atom 5 (CD2) of chain 0 residue 0 (LEU)&gt;]}!</span>\n",
       "</pre>\n"
      ],
      "text/plain": [
       "\u001b[1;7;38;5;208m Warning \u001b[0m\u001b[38;5;208m fixer.missingAtoms={<Residue 184 (LEU) of chain 0>: [<Atom 3 (CG) of chain 0 residue 0 (LEU)>, <Atom 4 \u001b[0m\n",
       "\u001b[38;5;208m(CD1) of chain 0 residue 0 (LEU)>, <Atom 5 (CD2) of chain 0 residue 0 (LEU)>]}!\u001b[0m\n"
      ]
     },
     "metadata": {},
     "output_type": "display_data"
    },
    {
     "data": {
      "text/html": [
       "<pre style=\"white-space:pre;overflow-x:auto;line-height:normal;font-family:Menlo,'DejaVu Sans Mono',consolas,'Courier New',monospace;margin:0px\">fixer.<span style=\"color: #808000; text-decoration-color: #808000\">missingTerminals</span>=<span style=\"font-weight: bold\">{&lt;</span><span style=\"color: #ff00ff; text-decoration-color: #ff00ff; font-weight: bold\">Residue</span><span style=\"color: #000000; text-decoration-color: #000000\"> </span><span style=\"color: #008080; text-decoration-color: #008080; font-weight: bold\">184</span><span style=\"color: #000000; text-decoration-color: #000000\"> </span><span style=\"color: #000000; text-decoration-color: #000000; font-weight: bold\">(</span><span style=\"color: #000000; text-decoration-color: #000000\">LEU</span><span style=\"color: #000000; text-decoration-color: #000000; font-weight: bold\">)</span><span style=\"color: #000000; text-decoration-color: #000000\"> of chain </span><span style=\"color: #008080; text-decoration-color: #008080; font-weight: bold\">0</span><span style=\"font-weight: bold\">&gt;</span>: <span style=\"font-weight: bold\">[</span><span style=\"color: #008000; text-decoration-color: #008000\">'OXT'</span><span style=\"font-weight: bold\">]}</span>\n",
       "</pre>\n"
      ],
      "text/plain": [
       "fixer.\u001b[33mmissingTerminals\u001b[0m=\u001b[1m{\u001b[0m\u001b[1m<\u001b[0m\u001b[1;95mResidue\u001b[0m\u001b[39m \u001b[0m\u001b[1;36m184\u001b[0m\u001b[39m \u001b[0m\u001b[1;39m(\u001b[0m\u001b[39mLEU\u001b[0m\u001b[1;39m)\u001b[0m\u001b[39m of chain \u001b[0m\u001b[1;36m0\u001b[0m\u001b[1m>\u001b[0m: \u001b[1m[\u001b[0m\u001b[32m'OXT'\u001b[0m\u001b[1m]\u001b[0m\u001b[1m}\u001b[0m\n"
      ]
     },
     "metadata": {},
     "output_type": "display_data"
    },
    {
     "data": {
      "text/html": [
       "<pre style=\"white-space:pre;overflow-x:auto;line-height:normal;font-family:Menlo,'DejaVu Sans Mono',consolas,'Courier New',monospace;margin:0px\"><span style=\"background-color: #d7af00; font-weight: bold\"> DISK </span> Writing <span style=\"color: #d7af00; text-decoration-color: #d7af00\">../aligned_files/m0409a/m0409a_apo-desolv-Hs.pdb</span>...\n",
       "</pre>\n"
      ],
      "text/plain": [
       "\u001b[1;7;38;5;178m DISK \u001b[0m Writing \u001b[38;5;178m../aligned_files/m0409a/m0409a_apo-desolv-Hs.pdb\u001b[0m...\n"
      ]
     },
     "metadata": {},
     "output_type": "display_data"
    },
    {
     "data": {
      "text/html": [
       "<pre style=\"white-space:pre;overflow-x:auto;line-height:normal;font-family:Menlo,'DejaVu Sans Mono',consolas,'Courier New',monospace;margin:0px\"><span style=\"background-color: #ff8700; font-weight: bold\"> Warning </span><span style=\"color: #ff8700; text-decoration-color: #ff8700\"> fixer.missingAtoms={&lt;Residue 184 (LEU) of chain 0&gt;: [&lt;Atom 3 (CG) of chain 0 residue 0 (LEU)&gt;, &lt;Atom 4 </span>\n",
       "<span style=\"color: #ff8700; text-decoration-color: #ff8700\">(CD1) of chain 0 residue 0 (LEU)&gt;, &lt;Atom 5 (CD2) of chain 0 residue 0 (LEU)&gt;]}!</span>\n",
       "</pre>\n"
      ],
      "text/plain": [
       "\u001b[1;7;38;5;208m Warning \u001b[0m\u001b[38;5;208m fixer.missingAtoms={<Residue 184 (LEU) of chain 0>: [<Atom 3 (CG) of chain 0 residue 0 (LEU)>, <Atom 4 \u001b[0m\n",
       "\u001b[38;5;208m(CD1) of chain 0 residue 0 (LEU)>, <Atom 5 (CD2) of chain 0 residue 0 (LEU)>]}!\u001b[0m\n"
      ]
     },
     "metadata": {},
     "output_type": "display_data"
    },
    {
     "data": {
      "text/html": [
       "<pre style=\"white-space:pre;overflow-x:auto;line-height:normal;font-family:Menlo,'DejaVu Sans Mono',consolas,'Courier New',monospace;margin:0px\">fixer.<span style=\"color: #808000; text-decoration-color: #808000\">missingTerminals</span>=<span style=\"font-weight: bold\">{&lt;</span><span style=\"color: #ff00ff; text-decoration-color: #ff00ff; font-weight: bold\">Residue</span><span style=\"color: #000000; text-decoration-color: #000000\"> </span><span style=\"color: #008080; text-decoration-color: #008080; font-weight: bold\">184</span><span style=\"color: #000000; text-decoration-color: #000000\"> </span><span style=\"color: #000000; text-decoration-color: #000000; font-weight: bold\">(</span><span style=\"color: #000000; text-decoration-color: #000000\">LEU</span><span style=\"color: #000000; text-decoration-color: #000000; font-weight: bold\">)</span><span style=\"color: #000000; text-decoration-color: #000000\"> of chain </span><span style=\"color: #008080; text-decoration-color: #008080; font-weight: bold\">0</span><span style=\"font-weight: bold\">&gt;</span>: <span style=\"font-weight: bold\">[</span><span style=\"color: #008000; text-decoration-color: #008000\">'OXT'</span><span style=\"font-weight: bold\">]}</span>\n",
       "</pre>\n"
      ],
      "text/plain": [
       "fixer.\u001b[33mmissingTerminals\u001b[0m=\u001b[1m{\u001b[0m\u001b[1m<\u001b[0m\u001b[1;95mResidue\u001b[0m\u001b[39m \u001b[0m\u001b[1;36m184\u001b[0m\u001b[39m \u001b[0m\u001b[1;39m(\u001b[0m\u001b[39mLEU\u001b[0m\u001b[1;39m)\u001b[0m\u001b[39m of chain \u001b[0m\u001b[1;36m0\u001b[0m\u001b[1m>\u001b[0m: \u001b[1m[\u001b[0m\u001b[32m'OXT'\u001b[0m\u001b[1m]\u001b[0m\u001b[1m}\u001b[0m\n"
      ]
     },
     "metadata": {},
     "output_type": "display_data"
    },
    {
     "data": {
      "text/html": [
       "<pre style=\"white-space:pre;overflow-x:auto;line-height:normal;font-family:Menlo,'DejaVu Sans Mono',consolas,'Courier New',monospace;margin:0px\"><span style=\"background-color: #d7af00; font-weight: bold\"> DISK </span> Writing <span style=\"color: #d7af00; text-decoration-color: #d7af00\">../aligned_files/m0424a/m0424a_apo-desolv-Hs.pdb</span>...\n",
       "</pre>\n"
      ],
      "text/plain": [
       "\u001b[1;7;38;5;178m DISK \u001b[0m Writing \u001b[38;5;178m../aligned_files/m0424a/m0424a_apo-desolv-Hs.pdb\u001b[0m...\n"
      ]
     },
     "metadata": {},
     "output_type": "display_data"
    },
    {
     "data": {
      "text/html": [
       "<pre style=\"white-space:pre;overflow-x:auto;line-height:normal;font-family:Menlo,'DejaVu Sans Mono',consolas,'Courier New',monospace;margin:0px\"><span style=\"background-color: #ff8700; font-weight: bold\"> Warning </span><span style=\"color: #ff8700; text-decoration-color: #ff8700\"> fixer.missingAtoms={&lt;Residue 184 (LEU) of chain 0&gt;: [&lt;Atom 3 (CG) of chain 0 residue 0 (LEU)&gt;, &lt;Atom 4 </span>\n",
       "<span style=\"color: #ff8700; text-decoration-color: #ff8700\">(CD1) of chain 0 residue 0 (LEU)&gt;, &lt;Atom 5 (CD2) of chain 0 residue 0 (LEU)&gt;]}!</span>\n",
       "</pre>\n"
      ],
      "text/plain": [
       "\u001b[1;7;38;5;208m Warning \u001b[0m\u001b[38;5;208m fixer.missingAtoms={<Residue 184 (LEU) of chain 0>: [<Atom 3 (CG) of chain 0 residue 0 (LEU)>, <Atom 4 \u001b[0m\n",
       "\u001b[38;5;208m(CD1) of chain 0 residue 0 (LEU)>, <Atom 5 (CD2) of chain 0 residue 0 (LEU)>]}!\u001b[0m\n"
      ]
     },
     "metadata": {},
     "output_type": "display_data"
    },
    {
     "data": {
      "text/html": [
       "<pre style=\"white-space:pre;overflow-x:auto;line-height:normal;font-family:Menlo,'DejaVu Sans Mono',consolas,'Courier New',monospace;margin:0px\">fixer.<span style=\"color: #808000; text-decoration-color: #808000\">missingTerminals</span>=<span style=\"font-weight: bold\">{&lt;</span><span style=\"color: #ff00ff; text-decoration-color: #ff00ff; font-weight: bold\">Residue</span><span style=\"color: #000000; text-decoration-color: #000000\"> </span><span style=\"color: #008080; text-decoration-color: #008080; font-weight: bold\">184</span><span style=\"color: #000000; text-decoration-color: #000000\"> </span><span style=\"color: #000000; text-decoration-color: #000000; font-weight: bold\">(</span><span style=\"color: #000000; text-decoration-color: #000000\">LEU</span><span style=\"color: #000000; text-decoration-color: #000000; font-weight: bold\">)</span><span style=\"color: #000000; text-decoration-color: #000000\"> of chain </span><span style=\"color: #008080; text-decoration-color: #008080; font-weight: bold\">0</span><span style=\"font-weight: bold\">&gt;</span>: <span style=\"font-weight: bold\">[</span><span style=\"color: #008000; text-decoration-color: #008000\">'OXT'</span><span style=\"font-weight: bold\">]}</span>\n",
       "</pre>\n"
      ],
      "text/plain": [
       "fixer.\u001b[33mmissingTerminals\u001b[0m=\u001b[1m{\u001b[0m\u001b[1m<\u001b[0m\u001b[1;95mResidue\u001b[0m\u001b[39m \u001b[0m\u001b[1;36m184\u001b[0m\u001b[39m \u001b[0m\u001b[1;39m(\u001b[0m\u001b[39mLEU\u001b[0m\u001b[1;39m)\u001b[0m\u001b[39m of chain \u001b[0m\u001b[1;36m0\u001b[0m\u001b[1m>\u001b[0m: \u001b[1m[\u001b[0m\u001b[32m'OXT'\u001b[0m\u001b[1m]\u001b[0m\u001b[1m}\u001b[0m\n"
      ]
     },
     "metadata": {},
     "output_type": "display_data"
    },
    {
     "data": {
      "text/html": [
       "<pre style=\"white-space:pre;overflow-x:auto;line-height:normal;font-family:Menlo,'DejaVu Sans Mono',consolas,'Courier New',monospace;margin:0px\"><span style=\"background-color: #d7af00; font-weight: bold\"> DISK </span> Writing <span style=\"color: #d7af00; text-decoration-color: #d7af00\">../aligned_files/m0455a/m0455a_apo-desolv-Hs.pdb</span>...\n",
       "</pre>\n"
      ],
      "text/plain": [
       "\u001b[1;7;38;5;178m DISK \u001b[0m Writing \u001b[38;5;178m../aligned_files/m0455a/m0455a_apo-desolv-Hs.pdb\u001b[0m...\n"
      ]
     },
     "metadata": {},
     "output_type": "display_data"
    },
    {
     "data": {
      "text/html": [
       "<pre style=\"white-space:pre;overflow-x:auto;line-height:normal;font-family:Menlo,'DejaVu Sans Mono',consolas,'Courier New',monospace;margin:0px\"><span style=\"background-color: #ff8700; font-weight: bold\"> Warning </span><span style=\"color: #ff8700; text-decoration-color: #ff8700\"> fixer.missingAtoms={&lt;Residue 184 (LEU) of chain 0&gt;: [&lt;Atom 3 (CG) of chain 0 residue 0 (LEU)&gt;, &lt;Atom 4 </span>\n",
       "<span style=\"color: #ff8700; text-decoration-color: #ff8700\">(CD1) of chain 0 residue 0 (LEU)&gt;, &lt;Atom 5 (CD2) of chain 0 residue 0 (LEU)&gt;]}!</span>\n",
       "</pre>\n"
      ],
      "text/plain": [
       "\u001b[1;7;38;5;208m Warning \u001b[0m\u001b[38;5;208m fixer.missingAtoms={<Residue 184 (LEU) of chain 0>: [<Atom 3 (CG) of chain 0 residue 0 (LEU)>, <Atom 4 \u001b[0m\n",
       "\u001b[38;5;208m(CD1) of chain 0 residue 0 (LEU)>, <Atom 5 (CD2) of chain 0 residue 0 (LEU)>]}!\u001b[0m\n"
      ]
     },
     "metadata": {},
     "output_type": "display_data"
    },
    {
     "data": {
      "text/html": [
       "<pre style=\"white-space:pre;overflow-x:auto;line-height:normal;font-family:Menlo,'DejaVu Sans Mono',consolas,'Courier New',monospace;margin:0px\">fixer.<span style=\"color: #808000; text-decoration-color: #808000\">missingTerminals</span>=<span style=\"font-weight: bold\">{&lt;</span><span style=\"color: #ff00ff; text-decoration-color: #ff00ff; font-weight: bold\">Residue</span><span style=\"color: #000000; text-decoration-color: #000000\"> </span><span style=\"color: #008080; text-decoration-color: #008080; font-weight: bold\">184</span><span style=\"color: #000000; text-decoration-color: #000000\"> </span><span style=\"color: #000000; text-decoration-color: #000000; font-weight: bold\">(</span><span style=\"color: #000000; text-decoration-color: #000000\">LEU</span><span style=\"color: #000000; text-decoration-color: #000000; font-weight: bold\">)</span><span style=\"color: #000000; text-decoration-color: #000000\"> of chain </span><span style=\"color: #008080; text-decoration-color: #008080; font-weight: bold\">0</span><span style=\"font-weight: bold\">&gt;</span>: <span style=\"font-weight: bold\">[</span><span style=\"color: #008000; text-decoration-color: #008000\">'OXT'</span><span style=\"font-weight: bold\">]}</span>\n",
       "</pre>\n"
      ],
      "text/plain": [
       "fixer.\u001b[33mmissingTerminals\u001b[0m=\u001b[1m{\u001b[0m\u001b[1m<\u001b[0m\u001b[1;95mResidue\u001b[0m\u001b[39m \u001b[0m\u001b[1;36m184\u001b[0m\u001b[39m \u001b[0m\u001b[1;39m(\u001b[0m\u001b[39mLEU\u001b[0m\u001b[1;39m)\u001b[0m\u001b[39m of chain \u001b[0m\u001b[1;36m0\u001b[0m\u001b[1m>\u001b[0m: \u001b[1m[\u001b[0m\u001b[32m'OXT'\u001b[0m\u001b[1m]\u001b[0m\u001b[1m}\u001b[0m\n"
      ]
     },
     "metadata": {},
     "output_type": "display_data"
    },
    {
     "data": {
      "text/html": [
       "<pre style=\"white-space:pre;overflow-x:auto;line-height:normal;font-family:Menlo,'DejaVu Sans Mono',consolas,'Courier New',monospace;margin:0px\"><span style=\"background-color: #d7af00; font-weight: bold\"> DISK </span> Writing <span style=\"color: #d7af00; text-decoration-color: #d7af00\">../aligned_files/m0457a/m0457a_apo-desolv-Hs.pdb</span>...\n",
       "</pre>\n"
      ],
      "text/plain": [
       "\u001b[1;7;38;5;178m DISK \u001b[0m Writing \u001b[38;5;178m../aligned_files/m0457a/m0457a_apo-desolv-Hs.pdb\u001b[0m...\n"
      ]
     },
     "metadata": {},
     "output_type": "display_data"
    },
    {
     "data": {
      "text/html": [
       "<pre style=\"white-space:pre;overflow-x:auto;line-height:normal;font-family:Menlo,'DejaVu Sans Mono',consolas,'Courier New',monospace;margin:0px\"><span style=\"background-color: #ff8700; font-weight: bold\"> Warning </span><span style=\"color: #ff8700; text-decoration-color: #ff8700\"> fixer.missingAtoms={&lt;Residue 184 (LEU) of chain 0&gt;: [&lt;Atom 3 (CG) of chain 0 residue 0 (LEU)&gt;, &lt;Atom 4 </span>\n",
       "<span style=\"color: #ff8700; text-decoration-color: #ff8700\">(CD1) of chain 0 residue 0 (LEU)&gt;, &lt;Atom 5 (CD2) of chain 0 residue 0 (LEU)&gt;]}!</span>\n",
       "</pre>\n"
      ],
      "text/plain": [
       "\u001b[1;7;38;5;208m Warning \u001b[0m\u001b[38;5;208m fixer.missingAtoms={<Residue 184 (LEU) of chain 0>: [<Atom 3 (CG) of chain 0 residue 0 (LEU)>, <Atom 4 \u001b[0m\n",
       "\u001b[38;5;208m(CD1) of chain 0 residue 0 (LEU)>, <Atom 5 (CD2) of chain 0 residue 0 (LEU)>]}!\u001b[0m\n"
      ]
     },
     "metadata": {},
     "output_type": "display_data"
    },
    {
     "data": {
      "text/html": [
       "<pre style=\"white-space:pre;overflow-x:auto;line-height:normal;font-family:Menlo,'DejaVu Sans Mono',consolas,'Courier New',monospace;margin:0px\">fixer.<span style=\"color: #808000; text-decoration-color: #808000\">missingTerminals</span>=<span style=\"font-weight: bold\">{&lt;</span><span style=\"color: #ff00ff; text-decoration-color: #ff00ff; font-weight: bold\">Residue</span><span style=\"color: #000000; text-decoration-color: #000000\"> </span><span style=\"color: #008080; text-decoration-color: #008080; font-weight: bold\">184</span><span style=\"color: #000000; text-decoration-color: #000000\"> </span><span style=\"color: #000000; text-decoration-color: #000000; font-weight: bold\">(</span><span style=\"color: #000000; text-decoration-color: #000000\">LEU</span><span style=\"color: #000000; text-decoration-color: #000000; font-weight: bold\">)</span><span style=\"color: #000000; text-decoration-color: #000000\"> of chain </span><span style=\"color: #008080; text-decoration-color: #008080; font-weight: bold\">0</span><span style=\"font-weight: bold\">&gt;</span>: <span style=\"font-weight: bold\">[</span><span style=\"color: #008000; text-decoration-color: #008000\">'OXT'</span><span style=\"font-weight: bold\">]}</span>\n",
       "</pre>\n"
      ],
      "text/plain": [
       "fixer.\u001b[33mmissingTerminals\u001b[0m=\u001b[1m{\u001b[0m\u001b[1m<\u001b[0m\u001b[1;95mResidue\u001b[0m\u001b[39m \u001b[0m\u001b[1;36m184\u001b[0m\u001b[39m \u001b[0m\u001b[1;39m(\u001b[0m\u001b[39mLEU\u001b[0m\u001b[1;39m)\u001b[0m\u001b[39m of chain \u001b[0m\u001b[1;36m0\u001b[0m\u001b[1m>\u001b[0m: \u001b[1m[\u001b[0m\u001b[32m'OXT'\u001b[0m\u001b[1m]\u001b[0m\u001b[1m}\u001b[0m\n"
      ]
     },
     "metadata": {},
     "output_type": "display_data"
    },
    {
     "data": {
      "text/html": [
       "<pre style=\"white-space:pre;overflow-x:auto;line-height:normal;font-family:Menlo,'DejaVu Sans Mono',consolas,'Courier New',monospace;margin:0px\"><span style=\"background-color: #d7af00; font-weight: bold\"> DISK </span> Writing <span style=\"color: #d7af00; text-decoration-color: #d7af00\">../aligned_files/m0468a/m0468a_apo-desolv-Hs.pdb</span>...\n",
       "</pre>\n"
      ],
      "text/plain": [
       "\u001b[1;7;38;5;178m DISK \u001b[0m Writing \u001b[38;5;178m../aligned_files/m0468a/m0468a_apo-desolv-Hs.pdb\u001b[0m...\n"
      ]
     },
     "metadata": {},
     "output_type": "display_data"
    },
    {
     "data": {
      "text/html": [
       "<pre style=\"white-space:pre;overflow-x:auto;line-height:normal;font-family:Menlo,'DejaVu Sans Mono',consolas,'Courier New',monospace;margin:0px\"><span style=\"background-color: #ff8700; font-weight: bold\"> Warning </span><span style=\"color: #ff8700; text-decoration-color: #ff8700\"> fixer.missingAtoms={&lt;Residue 184 (LEU) of chain 0&gt;: [&lt;Atom 3 (CG) of chain 0 residue 0 (LEU)&gt;, &lt;Atom 4 </span>\n",
       "<span style=\"color: #ff8700; text-decoration-color: #ff8700\">(CD1) of chain 0 residue 0 (LEU)&gt;, &lt;Atom 5 (CD2) of chain 0 residue 0 (LEU)&gt;]}!</span>\n",
       "</pre>\n"
      ],
      "text/plain": [
       "\u001b[1;7;38;5;208m Warning \u001b[0m\u001b[38;5;208m fixer.missingAtoms={<Residue 184 (LEU) of chain 0>: [<Atom 3 (CG) of chain 0 residue 0 (LEU)>, <Atom 4 \u001b[0m\n",
       "\u001b[38;5;208m(CD1) of chain 0 residue 0 (LEU)>, <Atom 5 (CD2) of chain 0 residue 0 (LEU)>]}!\u001b[0m\n"
      ]
     },
     "metadata": {},
     "output_type": "display_data"
    },
    {
     "data": {
      "text/html": [
       "<pre style=\"white-space:pre;overflow-x:auto;line-height:normal;font-family:Menlo,'DejaVu Sans Mono',consolas,'Courier New',monospace;margin:0px\">fixer.<span style=\"color: #808000; text-decoration-color: #808000\">missingTerminals</span>=<span style=\"font-weight: bold\">{&lt;</span><span style=\"color: #ff00ff; text-decoration-color: #ff00ff; font-weight: bold\">Residue</span><span style=\"color: #000000; text-decoration-color: #000000\"> </span><span style=\"color: #008080; text-decoration-color: #008080; font-weight: bold\">184</span><span style=\"color: #000000; text-decoration-color: #000000\"> </span><span style=\"color: #000000; text-decoration-color: #000000; font-weight: bold\">(</span><span style=\"color: #000000; text-decoration-color: #000000\">LEU</span><span style=\"color: #000000; text-decoration-color: #000000; font-weight: bold\">)</span><span style=\"color: #000000; text-decoration-color: #000000\"> of chain </span><span style=\"color: #008080; text-decoration-color: #008080; font-weight: bold\">0</span><span style=\"font-weight: bold\">&gt;</span>: <span style=\"font-weight: bold\">[</span><span style=\"color: #008000; text-decoration-color: #008000\">'OXT'</span><span style=\"font-weight: bold\">]}</span>\n",
       "</pre>\n"
      ],
      "text/plain": [
       "fixer.\u001b[33mmissingTerminals\u001b[0m=\u001b[1m{\u001b[0m\u001b[1m<\u001b[0m\u001b[1;95mResidue\u001b[0m\u001b[39m \u001b[0m\u001b[1;36m184\u001b[0m\u001b[39m \u001b[0m\u001b[1;39m(\u001b[0m\u001b[39mLEU\u001b[0m\u001b[1;39m)\u001b[0m\u001b[39m of chain \u001b[0m\u001b[1;36m0\u001b[0m\u001b[1m>\u001b[0m: \u001b[1m[\u001b[0m\u001b[32m'OXT'\u001b[0m\u001b[1m]\u001b[0m\u001b[1m}\u001b[0m\n"
      ]
     },
     "metadata": {},
     "output_type": "display_data"
    },
    {
     "data": {
      "text/html": [
       "<pre style=\"white-space:pre;overflow-x:auto;line-height:normal;font-family:Menlo,'DejaVu Sans Mono',consolas,'Courier New',monospace;margin:0px\"><span style=\"background-color: #d7af00; font-weight: bold\"> DISK </span> Writing <span style=\"color: #d7af00; text-decoration-color: #d7af00\">../aligned_files/m0469a/m0469a_apo-desolv-Hs.pdb</span>...\n",
       "</pre>\n"
      ],
      "text/plain": [
       "\u001b[1;7;38;5;178m DISK \u001b[0m Writing \u001b[38;5;178m../aligned_files/m0469a/m0469a_apo-desolv-Hs.pdb\u001b[0m...\n"
      ]
     },
     "metadata": {},
     "output_type": "display_data"
    },
    {
     "data": {
      "text/html": [
       "<pre style=\"white-space:pre;overflow-x:auto;line-height:normal;font-family:Menlo,'DejaVu Sans Mono',consolas,'Courier New',monospace;margin:0px\"><span style=\"background-color: #ff8700; font-weight: bold\"> Warning </span><span style=\"color: #ff8700; text-decoration-color: #ff8700\"> fixer.missingAtoms={&lt;Residue 184 (LEU) of chain 0&gt;: [&lt;Atom 3 (CG) of chain 0 residue 0 (LEU)&gt;, &lt;Atom 4 </span>\n",
       "<span style=\"color: #ff8700; text-decoration-color: #ff8700\">(CD1) of chain 0 residue 0 (LEU)&gt;, &lt;Atom 5 (CD2) of chain 0 residue 0 (LEU)&gt;]}!</span>\n",
       "</pre>\n"
      ],
      "text/plain": [
       "\u001b[1;7;38;5;208m Warning \u001b[0m\u001b[38;5;208m fixer.missingAtoms={<Residue 184 (LEU) of chain 0>: [<Atom 3 (CG) of chain 0 residue 0 (LEU)>, <Atom 4 \u001b[0m\n",
       "\u001b[38;5;208m(CD1) of chain 0 residue 0 (LEU)>, <Atom 5 (CD2) of chain 0 residue 0 (LEU)>]}!\u001b[0m\n"
      ]
     },
     "metadata": {},
     "output_type": "display_data"
    },
    {
     "data": {
      "text/html": [
       "<pre style=\"white-space:pre;overflow-x:auto;line-height:normal;font-family:Menlo,'DejaVu Sans Mono',consolas,'Courier New',monospace;margin:0px\">fixer.<span style=\"color: #808000; text-decoration-color: #808000\">missingTerminals</span>=<span style=\"font-weight: bold\">{&lt;</span><span style=\"color: #ff00ff; text-decoration-color: #ff00ff; font-weight: bold\">Residue</span><span style=\"color: #000000; text-decoration-color: #000000\"> </span><span style=\"color: #008080; text-decoration-color: #008080; font-weight: bold\">184</span><span style=\"color: #000000; text-decoration-color: #000000\"> </span><span style=\"color: #000000; text-decoration-color: #000000; font-weight: bold\">(</span><span style=\"color: #000000; text-decoration-color: #000000\">LEU</span><span style=\"color: #000000; text-decoration-color: #000000; font-weight: bold\">)</span><span style=\"color: #000000; text-decoration-color: #000000\"> of chain </span><span style=\"color: #008080; text-decoration-color: #008080; font-weight: bold\">0</span><span style=\"font-weight: bold\">&gt;</span>: <span style=\"font-weight: bold\">[</span><span style=\"color: #008000; text-decoration-color: #008000\">'OXT'</span><span style=\"font-weight: bold\">]}</span>\n",
       "</pre>\n"
      ],
      "text/plain": [
       "fixer.\u001b[33mmissingTerminals\u001b[0m=\u001b[1m{\u001b[0m\u001b[1m<\u001b[0m\u001b[1;95mResidue\u001b[0m\u001b[39m \u001b[0m\u001b[1;36m184\u001b[0m\u001b[39m \u001b[0m\u001b[1;39m(\u001b[0m\u001b[39mLEU\u001b[0m\u001b[1;39m)\u001b[0m\u001b[39m of chain \u001b[0m\u001b[1;36m0\u001b[0m\u001b[1m>\u001b[0m: \u001b[1m[\u001b[0m\u001b[32m'OXT'\u001b[0m\u001b[1m]\u001b[0m\u001b[1m}\u001b[0m\n"
      ]
     },
     "metadata": {},
     "output_type": "display_data"
    },
    {
     "data": {
      "text/html": [
       "<pre style=\"white-space:pre;overflow-x:auto;line-height:normal;font-family:Menlo,'DejaVu Sans Mono',consolas,'Courier New',monospace;margin:0px\"><span style=\"background-color: #d7af00; font-weight: bold\"> DISK </span> Writing <span style=\"color: #d7af00; text-decoration-color: #d7af00\">../aligned_files/m0470a/m0470a_apo-desolv-Hs.pdb</span>...\n",
       "</pre>\n"
      ],
      "text/plain": [
       "\u001b[1;7;38;5;178m DISK \u001b[0m Writing \u001b[38;5;178m../aligned_files/m0470a/m0470a_apo-desolv-Hs.pdb\u001b[0m...\n"
      ]
     },
     "metadata": {},
     "output_type": "display_data"
    },
    {
     "data": {
      "text/html": [
       "<pre style=\"white-space:pre;overflow-x:auto;line-height:normal;font-family:Menlo,'DejaVu Sans Mono',consolas,'Courier New',monospace;margin:0px\"><span style=\"background-color: #ff8700; font-weight: bold\"> Warning </span><span style=\"color: #ff8700; text-decoration-color: #ff8700\"> fixer.missingAtoms={&lt;Residue 184 (LEU) of chain 0&gt;: [&lt;Atom 3 (CG) of chain 0 residue 0 (LEU)&gt;, &lt;Atom 4 </span>\n",
       "<span style=\"color: #ff8700; text-decoration-color: #ff8700\">(CD1) of chain 0 residue 0 (LEU)&gt;, &lt;Atom 5 (CD2) of chain 0 residue 0 (LEU)&gt;]}!</span>\n",
       "</pre>\n"
      ],
      "text/plain": [
       "\u001b[1;7;38;5;208m Warning \u001b[0m\u001b[38;5;208m fixer.missingAtoms={<Residue 184 (LEU) of chain 0>: [<Atom 3 (CG) of chain 0 residue 0 (LEU)>, <Atom 4 \u001b[0m\n",
       "\u001b[38;5;208m(CD1) of chain 0 residue 0 (LEU)>, <Atom 5 (CD2) of chain 0 residue 0 (LEU)>]}!\u001b[0m\n"
      ]
     },
     "metadata": {},
     "output_type": "display_data"
    },
    {
     "data": {
      "text/html": [
       "<pre style=\"white-space:pre;overflow-x:auto;line-height:normal;font-family:Menlo,'DejaVu Sans Mono',consolas,'Courier New',monospace;margin:0px\">fixer.<span style=\"color: #808000; text-decoration-color: #808000\">missingTerminals</span>=<span style=\"font-weight: bold\">{&lt;</span><span style=\"color: #ff00ff; text-decoration-color: #ff00ff; font-weight: bold\">Residue</span><span style=\"color: #000000; text-decoration-color: #000000\"> </span><span style=\"color: #008080; text-decoration-color: #008080; font-weight: bold\">184</span><span style=\"color: #000000; text-decoration-color: #000000\"> </span><span style=\"color: #000000; text-decoration-color: #000000; font-weight: bold\">(</span><span style=\"color: #000000; text-decoration-color: #000000\">LEU</span><span style=\"color: #000000; text-decoration-color: #000000; font-weight: bold\">)</span><span style=\"color: #000000; text-decoration-color: #000000\"> of chain </span><span style=\"color: #008080; text-decoration-color: #008080; font-weight: bold\">0</span><span style=\"font-weight: bold\">&gt;</span>: <span style=\"font-weight: bold\">[</span><span style=\"color: #008000; text-decoration-color: #008000\">'OXT'</span><span style=\"font-weight: bold\">]}</span>\n",
       "</pre>\n"
      ],
      "text/plain": [
       "fixer.\u001b[33mmissingTerminals\u001b[0m=\u001b[1m{\u001b[0m\u001b[1m<\u001b[0m\u001b[1;95mResidue\u001b[0m\u001b[39m \u001b[0m\u001b[1;36m184\u001b[0m\u001b[39m \u001b[0m\u001b[1;39m(\u001b[0m\u001b[39mLEU\u001b[0m\u001b[1;39m)\u001b[0m\u001b[39m of chain \u001b[0m\u001b[1;36m0\u001b[0m\u001b[1m>\u001b[0m: \u001b[1m[\u001b[0m\u001b[32m'OXT'\u001b[0m\u001b[1m]\u001b[0m\u001b[1m}\u001b[0m\n"
      ]
     },
     "metadata": {},
     "output_type": "display_data"
    },
    {
     "data": {
      "text/html": [
       "<pre style=\"white-space:pre;overflow-x:auto;line-height:normal;font-family:Menlo,'DejaVu Sans Mono',consolas,'Courier New',monospace;margin:0px\"><span style=\"background-color: #d7af00; font-weight: bold\"> DISK </span> Writing <span style=\"color: #d7af00; text-decoration-color: #d7af00\">../aligned_files/m0471a/m0471a_apo-desolv-Hs.pdb</span>...\n",
       "</pre>\n"
      ],
      "text/plain": [
       "\u001b[1;7;38;5;178m DISK \u001b[0m Writing \u001b[38;5;178m../aligned_files/m0471a/m0471a_apo-desolv-Hs.pdb\u001b[0m...\n"
      ]
     },
     "metadata": {},
     "output_type": "display_data"
    },
    {
     "data": {
      "text/html": [
       "<pre style=\"white-space:pre;overflow-x:auto;line-height:normal;font-family:Menlo,'DejaVu Sans Mono',consolas,'Courier New',monospace;margin:0px\"><span style=\"background-color: #ff8700; font-weight: bold\"> Warning </span><span style=\"color: #ff8700; text-decoration-color: #ff8700\"> fixer.missingAtoms={&lt;Residue 184 (LEU) of chain 0&gt;: [&lt;Atom 3 (CG) of chain 0 residue 0 (LEU)&gt;, &lt;Atom 4 </span>\n",
       "<span style=\"color: #ff8700; text-decoration-color: #ff8700\">(CD1) of chain 0 residue 0 (LEU)&gt;, &lt;Atom 5 (CD2) of chain 0 residue 0 (LEU)&gt;]}!</span>\n",
       "</pre>\n"
      ],
      "text/plain": [
       "\u001b[1;7;38;5;208m Warning \u001b[0m\u001b[38;5;208m fixer.missingAtoms={<Residue 184 (LEU) of chain 0>: [<Atom 3 (CG) of chain 0 residue 0 (LEU)>, <Atom 4 \u001b[0m\n",
       "\u001b[38;5;208m(CD1) of chain 0 residue 0 (LEU)>, <Atom 5 (CD2) of chain 0 residue 0 (LEU)>]}!\u001b[0m\n"
      ]
     },
     "metadata": {},
     "output_type": "display_data"
    },
    {
     "data": {
      "text/html": [
       "<pre style=\"white-space:pre;overflow-x:auto;line-height:normal;font-family:Menlo,'DejaVu Sans Mono',consolas,'Courier New',monospace;margin:0px\">fixer.<span style=\"color: #808000; text-decoration-color: #808000\">missingTerminals</span>=<span style=\"font-weight: bold\">{&lt;</span><span style=\"color: #ff00ff; text-decoration-color: #ff00ff; font-weight: bold\">Residue</span><span style=\"color: #000000; text-decoration-color: #000000\"> </span><span style=\"color: #008080; text-decoration-color: #008080; font-weight: bold\">184</span><span style=\"color: #000000; text-decoration-color: #000000\"> </span><span style=\"color: #000000; text-decoration-color: #000000; font-weight: bold\">(</span><span style=\"color: #000000; text-decoration-color: #000000\">LEU</span><span style=\"color: #000000; text-decoration-color: #000000; font-weight: bold\">)</span><span style=\"color: #000000; text-decoration-color: #000000\"> of chain </span><span style=\"color: #008080; text-decoration-color: #008080; font-weight: bold\">0</span><span style=\"font-weight: bold\">&gt;</span>: <span style=\"font-weight: bold\">[</span><span style=\"color: #008000; text-decoration-color: #008000\">'OXT'</span><span style=\"font-weight: bold\">]}</span>\n",
       "</pre>\n"
      ],
      "text/plain": [
       "fixer.\u001b[33mmissingTerminals\u001b[0m=\u001b[1m{\u001b[0m\u001b[1m<\u001b[0m\u001b[1;95mResidue\u001b[0m\u001b[39m \u001b[0m\u001b[1;36m184\u001b[0m\u001b[39m \u001b[0m\u001b[1;39m(\u001b[0m\u001b[39mLEU\u001b[0m\u001b[1;39m)\u001b[0m\u001b[39m of chain \u001b[0m\u001b[1;36m0\u001b[0m\u001b[1m>\u001b[0m: \u001b[1m[\u001b[0m\u001b[32m'OXT'\u001b[0m\u001b[1m]\u001b[0m\u001b[1m}\u001b[0m\n"
      ]
     },
     "metadata": {},
     "output_type": "display_data"
    },
    {
     "data": {
      "text/html": [
       "<pre style=\"white-space:pre;overflow-x:auto;line-height:normal;font-family:Menlo,'DejaVu Sans Mono',consolas,'Courier New',monospace;margin:0px\"><span style=\"background-color: #d7af00; font-weight: bold\"> DISK </span> Writing <span style=\"color: #d7af00; text-decoration-color: #d7af00\">../aligned_files/m0472a/m0472a_apo-desolv-Hs.pdb</span>...\n",
       "</pre>\n"
      ],
      "text/plain": [
       "\u001b[1;7;38;5;178m DISK \u001b[0m Writing \u001b[38;5;178m../aligned_files/m0472a/m0472a_apo-desolv-Hs.pdb\u001b[0m...\n"
      ]
     },
     "metadata": {},
     "output_type": "display_data"
    },
    {
     "data": {
      "text/html": [
       "<pre style=\"white-space:pre;overflow-x:auto;line-height:normal;font-family:Menlo,'DejaVu Sans Mono',consolas,'Courier New',monospace;margin:0px\"><span style=\"background-color: #ff8700; font-weight: bold\"> Warning </span><span style=\"color: #ff8700; text-decoration-color: #ff8700\"> fixer.missingAtoms={&lt;Residue 184 (LEU) of chain 0&gt;: [&lt;Atom 3 (CG) of chain 0 residue 0 (LEU)&gt;, &lt;Atom 4 </span>\n",
       "<span style=\"color: #ff8700; text-decoration-color: #ff8700\">(CD1) of chain 0 residue 0 (LEU)&gt;, &lt;Atom 5 (CD2) of chain 0 residue 0 (LEU)&gt;]}!</span>\n",
       "</pre>\n"
      ],
      "text/plain": [
       "\u001b[1;7;38;5;208m Warning \u001b[0m\u001b[38;5;208m fixer.missingAtoms={<Residue 184 (LEU) of chain 0>: [<Atom 3 (CG) of chain 0 residue 0 (LEU)>, <Atom 4 \u001b[0m\n",
       "\u001b[38;5;208m(CD1) of chain 0 residue 0 (LEU)>, <Atom 5 (CD2) of chain 0 residue 0 (LEU)>]}!\u001b[0m\n"
      ]
     },
     "metadata": {},
     "output_type": "display_data"
    },
    {
     "data": {
      "text/html": [
       "<pre style=\"white-space:pre;overflow-x:auto;line-height:normal;font-family:Menlo,'DejaVu Sans Mono',consolas,'Courier New',monospace;margin:0px\">fixer.<span style=\"color: #808000; text-decoration-color: #808000\">missingTerminals</span>=<span style=\"font-weight: bold\">{&lt;</span><span style=\"color: #ff00ff; text-decoration-color: #ff00ff; font-weight: bold\">Residue</span><span style=\"color: #000000; text-decoration-color: #000000\"> </span><span style=\"color: #008080; text-decoration-color: #008080; font-weight: bold\">184</span><span style=\"color: #000000; text-decoration-color: #000000\"> </span><span style=\"color: #000000; text-decoration-color: #000000; font-weight: bold\">(</span><span style=\"color: #000000; text-decoration-color: #000000\">LEU</span><span style=\"color: #000000; text-decoration-color: #000000; font-weight: bold\">)</span><span style=\"color: #000000; text-decoration-color: #000000\"> of chain </span><span style=\"color: #008080; text-decoration-color: #008080; font-weight: bold\">0</span><span style=\"font-weight: bold\">&gt;</span>: <span style=\"font-weight: bold\">[</span><span style=\"color: #008000; text-decoration-color: #008000\">'OXT'</span><span style=\"font-weight: bold\">]}</span>\n",
       "</pre>\n"
      ],
      "text/plain": [
       "fixer.\u001b[33mmissingTerminals\u001b[0m=\u001b[1m{\u001b[0m\u001b[1m<\u001b[0m\u001b[1;95mResidue\u001b[0m\u001b[39m \u001b[0m\u001b[1;36m184\u001b[0m\u001b[39m \u001b[0m\u001b[1;39m(\u001b[0m\u001b[39mLEU\u001b[0m\u001b[1;39m)\u001b[0m\u001b[39m of chain \u001b[0m\u001b[1;36m0\u001b[0m\u001b[1m>\u001b[0m: \u001b[1m[\u001b[0m\u001b[32m'OXT'\u001b[0m\u001b[1m]\u001b[0m\u001b[1m}\u001b[0m\n"
      ]
     },
     "metadata": {},
     "output_type": "display_data"
    },
    {
     "data": {
      "text/html": [
       "<pre style=\"white-space:pre;overflow-x:auto;line-height:normal;font-family:Menlo,'DejaVu Sans Mono',consolas,'Courier New',monospace;margin:0px\"><span style=\"background-color: #d7af00; font-weight: bold\"> DISK </span> Writing <span style=\"color: #d7af00; text-decoration-color: #d7af00\">../aligned_files/m0474a/m0474a_apo-desolv-Hs.pdb</span>...\n",
       "</pre>\n"
      ],
      "text/plain": [
       "\u001b[1;7;38;5;178m DISK \u001b[0m Writing \u001b[38;5;178m../aligned_files/m0474a/m0474a_apo-desolv-Hs.pdb\u001b[0m...\n"
      ]
     },
     "metadata": {},
     "output_type": "display_data"
    },
    {
     "data": {
      "text/html": [
       "<pre style=\"white-space:pre;overflow-x:auto;line-height:normal;font-family:Menlo,'DejaVu Sans Mono',consolas,'Courier New',monospace;margin:0px\"><span style=\"background-color: #ff8700; font-weight: bold\"> Warning </span><span style=\"color: #ff8700; text-decoration-color: #ff8700\"> fixer.missingAtoms={&lt;Residue 183 (LEU) of chain 0&gt;: [&lt;Atom 3 (CG) of chain 0 residue 0 (LEU)&gt;, &lt;Atom 4 </span>\n",
       "<span style=\"color: #ff8700; text-decoration-color: #ff8700\">(CD1) of chain 0 residue 0 (LEU)&gt;, &lt;Atom 5 (CD2) of chain 0 residue 0 (LEU)&gt;]}!</span>\n",
       "</pre>\n"
      ],
      "text/plain": [
       "\u001b[1;7;38;5;208m Warning \u001b[0m\u001b[38;5;208m fixer.missingAtoms={<Residue 183 (LEU) of chain 0>: [<Atom 3 (CG) of chain 0 residue 0 (LEU)>, <Atom 4 \u001b[0m\n",
       "\u001b[38;5;208m(CD1) of chain 0 residue 0 (LEU)>, <Atom 5 (CD2) of chain 0 residue 0 (LEU)>]}!\u001b[0m\n"
      ]
     },
     "metadata": {},
     "output_type": "display_data"
    },
    {
     "data": {
      "text/html": [
       "<pre style=\"white-space:pre;overflow-x:auto;line-height:normal;font-family:Menlo,'DejaVu Sans Mono',consolas,'Courier New',monospace;margin:0px\"><span style=\"background-color: #d7af00; font-weight: bold\"> DISK </span> Writing <span style=\"color: #d7af00; text-decoration-color: #d7af00\">../aligned_files/m0501a/m0501a_apo-desolv-Hs.pdb</span>...\n",
       "</pre>\n"
      ],
      "text/plain": [
       "\u001b[1;7;38;5;178m DISK \u001b[0m Writing \u001b[38;5;178m../aligned_files/m0501a/m0501a_apo-desolv-Hs.pdb\u001b[0m...\n"
      ]
     },
     "metadata": {},
     "output_type": "display_data"
    },
    {
     "data": {
      "text/html": [
       "<pre style=\"white-space:pre;overflow-x:auto;line-height:normal;font-family:Menlo,'DejaVu Sans Mono',consolas,'Courier New',monospace;margin:0px\"><span style=\"background-color: #ff8700; font-weight: bold\"> Warning </span><span style=\"color: #ff8700; text-decoration-color: #ff8700\"> fixer.missingAtoms={&lt;Residue 184 (LEU) of chain 0&gt;: [&lt;Atom 3 (CG) of chain 0 residue 0 (LEU)&gt;, &lt;Atom 4 </span>\n",
       "<span style=\"color: #ff8700; text-decoration-color: #ff8700\">(CD1) of chain 0 residue 0 (LEU)&gt;, &lt;Atom 5 (CD2) of chain 0 residue 0 (LEU)&gt;]}!</span>\n",
       "</pre>\n"
      ],
      "text/plain": [
       "\u001b[1;7;38;5;208m Warning \u001b[0m\u001b[38;5;208m fixer.missingAtoms={<Residue 184 (LEU) of chain 0>: [<Atom 3 (CG) of chain 0 residue 0 (LEU)>, <Atom 4 \u001b[0m\n",
       "\u001b[38;5;208m(CD1) of chain 0 residue 0 (LEU)>, <Atom 5 (CD2) of chain 0 residue 0 (LEU)>]}!\u001b[0m\n"
      ]
     },
     "metadata": {},
     "output_type": "display_data"
    },
    {
     "data": {
      "text/html": [
       "<pre style=\"white-space:pre;overflow-x:auto;line-height:normal;font-family:Menlo,'DejaVu Sans Mono',consolas,'Courier New',monospace;margin:0px\">fixer.<span style=\"color: #808000; text-decoration-color: #808000\">missingTerminals</span>=<span style=\"font-weight: bold\">{&lt;</span><span style=\"color: #ff00ff; text-decoration-color: #ff00ff; font-weight: bold\">Residue</span><span style=\"color: #000000; text-decoration-color: #000000\"> </span><span style=\"color: #008080; text-decoration-color: #008080; font-weight: bold\">184</span><span style=\"color: #000000; text-decoration-color: #000000\"> </span><span style=\"color: #000000; text-decoration-color: #000000; font-weight: bold\">(</span><span style=\"color: #000000; text-decoration-color: #000000\">LEU</span><span style=\"color: #000000; text-decoration-color: #000000; font-weight: bold\">)</span><span style=\"color: #000000; text-decoration-color: #000000\"> of chain </span><span style=\"color: #008080; text-decoration-color: #008080; font-weight: bold\">0</span><span style=\"font-weight: bold\">&gt;</span>: <span style=\"font-weight: bold\">[</span><span style=\"color: #008000; text-decoration-color: #008000\">'OXT'</span><span style=\"font-weight: bold\">]}</span>\n",
       "</pre>\n"
      ],
      "text/plain": [
       "fixer.\u001b[33mmissingTerminals\u001b[0m=\u001b[1m{\u001b[0m\u001b[1m<\u001b[0m\u001b[1;95mResidue\u001b[0m\u001b[39m \u001b[0m\u001b[1;36m184\u001b[0m\u001b[39m \u001b[0m\u001b[1;39m(\u001b[0m\u001b[39mLEU\u001b[0m\u001b[1;39m)\u001b[0m\u001b[39m of chain \u001b[0m\u001b[1;36m0\u001b[0m\u001b[1m>\u001b[0m: \u001b[1m[\u001b[0m\u001b[32m'OXT'\u001b[0m\u001b[1m]\u001b[0m\u001b[1m}\u001b[0m\n"
      ]
     },
     "metadata": {},
     "output_type": "display_data"
    },
    {
     "data": {
      "text/html": [
       "<pre style=\"white-space:pre;overflow-x:auto;line-height:normal;font-family:Menlo,'DejaVu Sans Mono',consolas,'Courier New',monospace;margin:0px\"><span style=\"background-color: #d7af00; font-weight: bold\"> DISK </span> Writing <span style=\"color: #d7af00; text-decoration-color: #d7af00\">../aligned_files/m0514a/m0514a_apo-desolv-Hs.pdb</span>...\n",
       "</pre>\n"
      ],
      "text/plain": [
       "\u001b[1;7;38;5;178m DISK \u001b[0m Writing \u001b[38;5;178m../aligned_files/m0514a/m0514a_apo-desolv-Hs.pdb\u001b[0m...\n"
      ]
     },
     "metadata": {},
     "output_type": "display_data"
    },
    {
     "data": {
      "text/html": [
       "<pre style=\"white-space:pre;overflow-x:auto;line-height:normal;font-family:Menlo,'DejaVu Sans Mono',consolas,'Courier New',monospace;margin:0px\"><span style=\"background-color: #ff8700; font-weight: bold\"> Warning </span><span style=\"color: #ff8700; text-decoration-color: #ff8700\"> fixer.missingAtoms={&lt;Residue 184 (LEU) of chain 0&gt;: [&lt;Atom 3 (CG) of chain 0 residue 0 (LEU)&gt;, &lt;Atom 4 </span>\n",
       "<span style=\"color: #ff8700; text-decoration-color: #ff8700\">(CD1) of chain 0 residue 0 (LEU)&gt;, &lt;Atom 5 (CD2) of chain 0 residue 0 (LEU)&gt;]}!</span>\n",
       "</pre>\n"
      ],
      "text/plain": [
       "\u001b[1;7;38;5;208m Warning \u001b[0m\u001b[38;5;208m fixer.missingAtoms={<Residue 184 (LEU) of chain 0>: [<Atom 3 (CG) of chain 0 residue 0 (LEU)>, <Atom 4 \u001b[0m\n",
       "\u001b[38;5;208m(CD1) of chain 0 residue 0 (LEU)>, <Atom 5 (CD2) of chain 0 residue 0 (LEU)>]}!\u001b[0m\n"
      ]
     },
     "metadata": {},
     "output_type": "display_data"
    },
    {
     "data": {
      "text/html": [
       "<pre style=\"white-space:pre;overflow-x:auto;line-height:normal;font-family:Menlo,'DejaVu Sans Mono',consolas,'Courier New',monospace;margin:0px\">fixer.<span style=\"color: #808000; text-decoration-color: #808000\">missingTerminals</span>=<span style=\"font-weight: bold\">{&lt;</span><span style=\"color: #ff00ff; text-decoration-color: #ff00ff; font-weight: bold\">Residue</span><span style=\"color: #000000; text-decoration-color: #000000\"> </span><span style=\"color: #008080; text-decoration-color: #008080; font-weight: bold\">184</span><span style=\"color: #000000; text-decoration-color: #000000\"> </span><span style=\"color: #000000; text-decoration-color: #000000; font-weight: bold\">(</span><span style=\"color: #000000; text-decoration-color: #000000\">LEU</span><span style=\"color: #000000; text-decoration-color: #000000; font-weight: bold\">)</span><span style=\"color: #000000; text-decoration-color: #000000\"> of chain </span><span style=\"color: #008080; text-decoration-color: #008080; font-weight: bold\">0</span><span style=\"font-weight: bold\">&gt;</span>: <span style=\"font-weight: bold\">[</span><span style=\"color: #008000; text-decoration-color: #008000\">'OXT'</span><span style=\"font-weight: bold\">]}</span>\n",
       "</pre>\n"
      ],
      "text/plain": [
       "fixer.\u001b[33mmissingTerminals\u001b[0m=\u001b[1m{\u001b[0m\u001b[1m<\u001b[0m\u001b[1;95mResidue\u001b[0m\u001b[39m \u001b[0m\u001b[1;36m184\u001b[0m\u001b[39m \u001b[0m\u001b[1;39m(\u001b[0m\u001b[39mLEU\u001b[0m\u001b[1;39m)\u001b[0m\u001b[39m of chain \u001b[0m\u001b[1;36m0\u001b[0m\u001b[1m>\u001b[0m: \u001b[1m[\u001b[0m\u001b[32m'OXT'\u001b[0m\u001b[1m]\u001b[0m\u001b[1m}\u001b[0m\n"
      ]
     },
     "metadata": {},
     "output_type": "display_data"
    },
    {
     "data": {
      "text/html": [
       "<pre style=\"white-space:pre;overflow-x:auto;line-height:normal;font-family:Menlo,'DejaVu Sans Mono',consolas,'Courier New',monospace;margin:0px\"><span style=\"background-color: #d7af00; font-weight: bold\"> DISK </span> Writing <span style=\"color: #d7af00; text-decoration-color: #d7af00\">../aligned_files/m0519a/m0519a_apo-desolv-Hs.pdb</span>...\n",
       "</pre>\n"
      ],
      "text/plain": [
       "\u001b[1;7;38;5;178m DISK \u001b[0m Writing \u001b[38;5;178m../aligned_files/m0519a/m0519a_apo-desolv-Hs.pdb\u001b[0m...\n"
      ]
     },
     "metadata": {},
     "output_type": "display_data"
    },
    {
     "data": {
      "text/html": [
       "<pre style=\"white-space:pre;overflow-x:auto;line-height:normal;font-family:Menlo,'DejaVu Sans Mono',consolas,'Courier New',monospace;margin:0px\"><span style=\"background-color: #ff8700; font-weight: bold\"> Warning </span><span style=\"color: #ff8700; text-decoration-color: #ff8700\"> fixer.missingAtoms={&lt;Residue 184 (LEU) of chain 0&gt;: [&lt;Atom 3 (CG) of chain 0 residue 0 (LEU)&gt;, &lt;Atom 4 </span>\n",
       "<span style=\"color: #ff8700; text-decoration-color: #ff8700\">(CD1) of chain 0 residue 0 (LEU)&gt;, &lt;Atom 5 (CD2) of chain 0 residue 0 (LEU)&gt;]}!</span>\n",
       "</pre>\n"
      ],
      "text/plain": [
       "\u001b[1;7;38;5;208m Warning \u001b[0m\u001b[38;5;208m fixer.missingAtoms={<Residue 184 (LEU) of chain 0>: [<Atom 3 (CG) of chain 0 residue 0 (LEU)>, <Atom 4 \u001b[0m\n",
       "\u001b[38;5;208m(CD1) of chain 0 residue 0 (LEU)>, <Atom 5 (CD2) of chain 0 residue 0 (LEU)>]}!\u001b[0m\n"
      ]
     },
     "metadata": {},
     "output_type": "display_data"
    },
    {
     "data": {
      "text/html": [
       "<pre style=\"white-space:pre;overflow-x:auto;line-height:normal;font-family:Menlo,'DejaVu Sans Mono',consolas,'Courier New',monospace;margin:0px\">fixer.<span style=\"color: #808000; text-decoration-color: #808000\">missingTerminals</span>=<span style=\"font-weight: bold\">{&lt;</span><span style=\"color: #ff00ff; text-decoration-color: #ff00ff; font-weight: bold\">Residue</span><span style=\"color: #000000; text-decoration-color: #000000\"> </span><span style=\"color: #008080; text-decoration-color: #008080; font-weight: bold\">184</span><span style=\"color: #000000; text-decoration-color: #000000\"> </span><span style=\"color: #000000; text-decoration-color: #000000; font-weight: bold\">(</span><span style=\"color: #000000; text-decoration-color: #000000\">LEU</span><span style=\"color: #000000; text-decoration-color: #000000; font-weight: bold\">)</span><span style=\"color: #000000; text-decoration-color: #000000\"> of chain </span><span style=\"color: #008080; text-decoration-color: #008080; font-weight: bold\">0</span><span style=\"font-weight: bold\">&gt;</span>: <span style=\"font-weight: bold\">[</span><span style=\"color: #008000; text-decoration-color: #008000\">'OXT'</span><span style=\"font-weight: bold\">]}</span>\n",
       "</pre>\n"
      ],
      "text/plain": [
       "fixer.\u001b[33mmissingTerminals\u001b[0m=\u001b[1m{\u001b[0m\u001b[1m<\u001b[0m\u001b[1;95mResidue\u001b[0m\u001b[39m \u001b[0m\u001b[1;36m184\u001b[0m\u001b[39m \u001b[0m\u001b[1;39m(\u001b[0m\u001b[39mLEU\u001b[0m\u001b[1;39m)\u001b[0m\u001b[39m of chain \u001b[0m\u001b[1;36m0\u001b[0m\u001b[1m>\u001b[0m: \u001b[1m[\u001b[0m\u001b[32m'OXT'\u001b[0m\u001b[1m]\u001b[0m\u001b[1m}\u001b[0m\n"
      ]
     },
     "metadata": {},
     "output_type": "display_data"
    },
    {
     "data": {
      "text/html": [
       "<pre style=\"white-space:pre;overflow-x:auto;line-height:normal;font-family:Menlo,'DejaVu Sans Mono',consolas,'Courier New',monospace;margin:0px\"><span style=\"background-color: #d7af00; font-weight: bold\"> DISK </span> Writing <span style=\"color: #d7af00; text-decoration-color: #d7af00\">../aligned_files/m0533a/m0533a_apo-desolv-Hs.pdb</span>...\n",
       "</pre>\n"
      ],
      "text/plain": [
       "\u001b[1;7;38;5;178m DISK \u001b[0m Writing \u001b[38;5;178m../aligned_files/m0533a/m0533a_apo-desolv-Hs.pdb\u001b[0m...\n"
      ]
     },
     "metadata": {},
     "output_type": "display_data"
    },
    {
     "data": {
      "text/html": [
       "<pre style=\"white-space:pre;overflow-x:auto;line-height:normal;font-family:Menlo,'DejaVu Sans Mono',consolas,'Courier New',monospace;margin:0px\"><span style=\"background-color: #ff8700; font-weight: bold\"> Warning </span><span style=\"color: #ff8700; text-decoration-color: #ff8700\"> fixer.missingAtoms={&lt;Residue 184 (LEU) of chain 0&gt;: [&lt;Atom 3 (CG) of chain 0 residue 0 (LEU)&gt;, &lt;Atom 4 </span>\n",
       "<span style=\"color: #ff8700; text-decoration-color: #ff8700\">(CD1) of chain 0 residue 0 (LEU)&gt;, &lt;Atom 5 (CD2) of chain 0 residue 0 (LEU)&gt;]}!</span>\n",
       "</pre>\n"
      ],
      "text/plain": [
       "\u001b[1;7;38;5;208m Warning \u001b[0m\u001b[38;5;208m fixer.missingAtoms={<Residue 184 (LEU) of chain 0>: [<Atom 3 (CG) of chain 0 residue 0 (LEU)>, <Atom 4 \u001b[0m\n",
       "\u001b[38;5;208m(CD1) of chain 0 residue 0 (LEU)>, <Atom 5 (CD2) of chain 0 residue 0 (LEU)>]}!\u001b[0m\n"
      ]
     },
     "metadata": {},
     "output_type": "display_data"
    },
    {
     "data": {
      "text/html": [
       "<pre style=\"white-space:pre;overflow-x:auto;line-height:normal;font-family:Menlo,'DejaVu Sans Mono',consolas,'Courier New',monospace;margin:0px\">fixer.<span style=\"color: #808000; text-decoration-color: #808000\">missingTerminals</span>=<span style=\"font-weight: bold\">{&lt;</span><span style=\"color: #ff00ff; text-decoration-color: #ff00ff; font-weight: bold\">Residue</span><span style=\"color: #000000; text-decoration-color: #000000\"> </span><span style=\"color: #008080; text-decoration-color: #008080; font-weight: bold\">184</span><span style=\"color: #000000; text-decoration-color: #000000\"> </span><span style=\"color: #000000; text-decoration-color: #000000; font-weight: bold\">(</span><span style=\"color: #000000; text-decoration-color: #000000\">LEU</span><span style=\"color: #000000; text-decoration-color: #000000; font-weight: bold\">)</span><span style=\"color: #000000; text-decoration-color: #000000\"> of chain </span><span style=\"color: #008080; text-decoration-color: #008080; font-weight: bold\">0</span><span style=\"font-weight: bold\">&gt;</span>: <span style=\"font-weight: bold\">[</span><span style=\"color: #008000; text-decoration-color: #008000\">'OXT'</span><span style=\"font-weight: bold\">]}</span>\n",
       "</pre>\n"
      ],
      "text/plain": [
       "fixer.\u001b[33mmissingTerminals\u001b[0m=\u001b[1m{\u001b[0m\u001b[1m<\u001b[0m\u001b[1;95mResidue\u001b[0m\u001b[39m \u001b[0m\u001b[1;36m184\u001b[0m\u001b[39m \u001b[0m\u001b[1;39m(\u001b[0m\u001b[39mLEU\u001b[0m\u001b[1;39m)\u001b[0m\u001b[39m of chain \u001b[0m\u001b[1;36m0\u001b[0m\u001b[1m>\u001b[0m: \u001b[1m[\u001b[0m\u001b[32m'OXT'\u001b[0m\u001b[1m]\u001b[0m\u001b[1m}\u001b[0m\n"
      ]
     },
     "metadata": {},
     "output_type": "display_data"
    },
    {
     "data": {
      "text/html": [
       "<pre style=\"white-space:pre;overflow-x:auto;line-height:normal;font-family:Menlo,'DejaVu Sans Mono',consolas,'Courier New',monospace;margin:0px\"><span style=\"background-color: #d7af00; font-weight: bold\"> DISK </span> Writing <span style=\"color: #d7af00; text-decoration-color: #d7af00\">../aligned_files/m0536a/m0536a_apo-desolv-Hs.pdb</span>...\n",
       "</pre>\n"
      ],
      "text/plain": [
       "\u001b[1;7;38;5;178m DISK \u001b[0m Writing \u001b[38;5;178m../aligned_files/m0536a/m0536a_apo-desolv-Hs.pdb\u001b[0m...\n"
      ]
     },
     "metadata": {},
     "output_type": "display_data"
    },
    {
     "data": {
      "text/html": [
       "<pre style=\"white-space:pre;overflow-x:auto;line-height:normal;font-family:Menlo,'DejaVu Sans Mono',consolas,'Courier New',monospace;margin:0px\"><span style=\"background-color: #ff8700; font-weight: bold\"> Warning </span><span style=\"color: #ff8700; text-decoration-color: #ff8700\"> fixer.missingAtoms={&lt;Residue 184 (LEU) of chain 0&gt;: [&lt;Atom 3 (CG) of chain 0 residue 0 (LEU)&gt;, &lt;Atom 4 </span>\n",
       "<span style=\"color: #ff8700; text-decoration-color: #ff8700\">(CD1) of chain 0 residue 0 (LEU)&gt;, &lt;Atom 5 (CD2) of chain 0 residue 0 (LEU)&gt;]}!</span>\n",
       "</pre>\n"
      ],
      "text/plain": [
       "\u001b[1;7;38;5;208m Warning \u001b[0m\u001b[38;5;208m fixer.missingAtoms={<Residue 184 (LEU) of chain 0>: [<Atom 3 (CG) of chain 0 residue 0 (LEU)>, <Atom 4 \u001b[0m\n",
       "\u001b[38;5;208m(CD1) of chain 0 residue 0 (LEU)>, <Atom 5 (CD2) of chain 0 residue 0 (LEU)>]}!\u001b[0m\n"
      ]
     },
     "metadata": {},
     "output_type": "display_data"
    },
    {
     "data": {
      "text/html": [
       "<pre style=\"white-space:pre;overflow-x:auto;line-height:normal;font-family:Menlo,'DejaVu Sans Mono',consolas,'Courier New',monospace;margin:0px\">fixer.<span style=\"color: #808000; text-decoration-color: #808000\">missingTerminals</span>=<span style=\"font-weight: bold\">{&lt;</span><span style=\"color: #ff00ff; text-decoration-color: #ff00ff; font-weight: bold\">Residue</span><span style=\"color: #000000; text-decoration-color: #000000\"> </span><span style=\"color: #008080; text-decoration-color: #008080; font-weight: bold\">184</span><span style=\"color: #000000; text-decoration-color: #000000\"> </span><span style=\"color: #000000; text-decoration-color: #000000; font-weight: bold\">(</span><span style=\"color: #000000; text-decoration-color: #000000\">LEU</span><span style=\"color: #000000; text-decoration-color: #000000; font-weight: bold\">)</span><span style=\"color: #000000; text-decoration-color: #000000\"> of chain </span><span style=\"color: #008080; text-decoration-color: #008080; font-weight: bold\">0</span><span style=\"font-weight: bold\">&gt;</span>: <span style=\"font-weight: bold\">[</span><span style=\"color: #008000; text-decoration-color: #008000\">'OXT'</span><span style=\"font-weight: bold\">]}</span>\n",
       "</pre>\n"
      ],
      "text/plain": [
       "fixer.\u001b[33mmissingTerminals\u001b[0m=\u001b[1m{\u001b[0m\u001b[1m<\u001b[0m\u001b[1;95mResidue\u001b[0m\u001b[39m \u001b[0m\u001b[1;36m184\u001b[0m\u001b[39m \u001b[0m\u001b[1;39m(\u001b[0m\u001b[39mLEU\u001b[0m\u001b[1;39m)\u001b[0m\u001b[39m of chain \u001b[0m\u001b[1;36m0\u001b[0m\u001b[1m>\u001b[0m: \u001b[1m[\u001b[0m\u001b[32m'OXT'\u001b[0m\u001b[1m]\u001b[0m\u001b[1m}\u001b[0m\n"
      ]
     },
     "metadata": {},
     "output_type": "display_data"
    },
    {
     "data": {
      "text/html": [
       "<pre style=\"white-space:pre;overflow-x:auto;line-height:normal;font-family:Menlo,'DejaVu Sans Mono',consolas,'Courier New',monospace;margin:0px\"><span style=\"background-color: #d7af00; font-weight: bold\"> DISK </span> Writing <span style=\"color: #d7af00; text-decoration-color: #d7af00\">../aligned_files/m0549a/m0549a_apo-desolv-Hs.pdb</span>...\n",
       "</pre>\n"
      ],
      "text/plain": [
       "\u001b[1;7;38;5;178m DISK \u001b[0m Writing \u001b[38;5;178m../aligned_files/m0549a/m0549a_apo-desolv-Hs.pdb\u001b[0m...\n"
      ]
     },
     "metadata": {},
     "output_type": "display_data"
    },
    {
     "data": {
      "text/html": [
       "<pre style=\"white-space:pre;overflow-x:auto;line-height:normal;font-family:Menlo,'DejaVu Sans Mono',consolas,'Courier New',monospace;margin:0px\"><span style=\"background-color: #ff8700; font-weight: bold\"> Warning </span><span style=\"color: #ff8700; text-decoration-color: #ff8700\"> fixer.missingAtoms={&lt;Residue 184 (LEU) of chain 0&gt;: [&lt;Atom 3 (CG) of chain 0 residue 0 (LEU)&gt;, &lt;Atom 4 </span>\n",
       "<span style=\"color: #ff8700; text-decoration-color: #ff8700\">(CD1) of chain 0 residue 0 (LEU)&gt;, &lt;Atom 5 (CD2) of chain 0 residue 0 (LEU)&gt;]}!</span>\n",
       "</pre>\n"
      ],
      "text/plain": [
       "\u001b[1;7;38;5;208m Warning \u001b[0m\u001b[38;5;208m fixer.missingAtoms={<Residue 184 (LEU) of chain 0>: [<Atom 3 (CG) of chain 0 residue 0 (LEU)>, <Atom 4 \u001b[0m\n",
       "\u001b[38;5;208m(CD1) of chain 0 residue 0 (LEU)>, <Atom 5 (CD2) of chain 0 residue 0 (LEU)>]}!\u001b[0m\n"
      ]
     },
     "metadata": {},
     "output_type": "display_data"
    },
    {
     "data": {
      "text/html": [
       "<pre style=\"white-space:pre;overflow-x:auto;line-height:normal;font-family:Menlo,'DejaVu Sans Mono',consolas,'Courier New',monospace;margin:0px\">fixer.<span style=\"color: #808000; text-decoration-color: #808000\">missingTerminals</span>=<span style=\"font-weight: bold\">{&lt;</span><span style=\"color: #ff00ff; text-decoration-color: #ff00ff; font-weight: bold\">Residue</span><span style=\"color: #000000; text-decoration-color: #000000\"> </span><span style=\"color: #008080; text-decoration-color: #008080; font-weight: bold\">184</span><span style=\"color: #000000; text-decoration-color: #000000\"> </span><span style=\"color: #000000; text-decoration-color: #000000; font-weight: bold\">(</span><span style=\"color: #000000; text-decoration-color: #000000\">LEU</span><span style=\"color: #000000; text-decoration-color: #000000; font-weight: bold\">)</span><span style=\"color: #000000; text-decoration-color: #000000\"> of chain </span><span style=\"color: #008080; text-decoration-color: #008080; font-weight: bold\">0</span><span style=\"font-weight: bold\">&gt;</span>: <span style=\"font-weight: bold\">[</span><span style=\"color: #008000; text-decoration-color: #008000\">'OXT'</span><span style=\"font-weight: bold\">]}</span>\n",
       "</pre>\n"
      ],
      "text/plain": [
       "fixer.\u001b[33mmissingTerminals\u001b[0m=\u001b[1m{\u001b[0m\u001b[1m<\u001b[0m\u001b[1;95mResidue\u001b[0m\u001b[39m \u001b[0m\u001b[1;36m184\u001b[0m\u001b[39m \u001b[0m\u001b[1;39m(\u001b[0m\u001b[39mLEU\u001b[0m\u001b[1;39m)\u001b[0m\u001b[39m of chain \u001b[0m\u001b[1;36m0\u001b[0m\u001b[1m>\u001b[0m: \u001b[1m[\u001b[0m\u001b[32m'OXT'\u001b[0m\u001b[1m]\u001b[0m\u001b[1m}\u001b[0m\n"
      ]
     },
     "metadata": {},
     "output_type": "display_data"
    },
    {
     "data": {
      "text/html": [
       "<pre style=\"white-space:pre;overflow-x:auto;line-height:normal;font-family:Menlo,'DejaVu Sans Mono',consolas,'Courier New',monospace;margin:0px\"><span style=\"background-color: #d7af00; font-weight: bold\"> DISK </span> Writing <span style=\"color: #d7af00; text-decoration-color: #d7af00\">../aligned_files/m0573a/m0573a_apo-desolv-Hs.pdb</span>...\n",
       "</pre>\n"
      ],
      "text/plain": [
       "\u001b[1;7;38;5;178m DISK \u001b[0m Writing \u001b[38;5;178m../aligned_files/m0573a/m0573a_apo-desolv-Hs.pdb\u001b[0m...\n"
      ]
     },
     "metadata": {},
     "output_type": "display_data"
    },
    {
     "data": {
      "text/html": [
       "<pre style=\"white-space:pre;overflow-x:auto;line-height:normal;font-family:Menlo,'DejaVu Sans Mono',consolas,'Courier New',monospace;margin:0px\"><span style=\"background-color: #ff8700; font-weight: bold\"> Warning </span><span style=\"color: #ff8700; text-decoration-color: #ff8700\"> fixer.missingAtoms={&lt;Residue 184 (LEU) of chain 0&gt;: [&lt;Atom 3 (CG) of chain 0 residue 0 (LEU)&gt;, &lt;Atom 4 </span>\n",
       "<span style=\"color: #ff8700; text-decoration-color: #ff8700\">(CD1) of chain 0 residue 0 (LEU)&gt;, &lt;Atom 5 (CD2) of chain 0 residue 0 (LEU)&gt;]}!</span>\n",
       "</pre>\n"
      ],
      "text/plain": [
       "\u001b[1;7;38;5;208m Warning \u001b[0m\u001b[38;5;208m fixer.missingAtoms={<Residue 184 (LEU) of chain 0>: [<Atom 3 (CG) of chain 0 residue 0 (LEU)>, <Atom 4 \u001b[0m\n",
       "\u001b[38;5;208m(CD1) of chain 0 residue 0 (LEU)>, <Atom 5 (CD2) of chain 0 residue 0 (LEU)>]}!\u001b[0m\n"
      ]
     },
     "metadata": {},
     "output_type": "display_data"
    },
    {
     "data": {
      "text/html": [
       "<pre style=\"white-space:pre;overflow-x:auto;line-height:normal;font-family:Menlo,'DejaVu Sans Mono',consolas,'Courier New',monospace;margin:0px\">fixer.<span style=\"color: #808000; text-decoration-color: #808000\">missingTerminals</span>=<span style=\"font-weight: bold\">{&lt;</span><span style=\"color: #ff00ff; text-decoration-color: #ff00ff; font-weight: bold\">Residue</span><span style=\"color: #000000; text-decoration-color: #000000\"> </span><span style=\"color: #008080; text-decoration-color: #008080; font-weight: bold\">184</span><span style=\"color: #000000; text-decoration-color: #000000\"> </span><span style=\"color: #000000; text-decoration-color: #000000; font-weight: bold\">(</span><span style=\"color: #000000; text-decoration-color: #000000\">LEU</span><span style=\"color: #000000; text-decoration-color: #000000; font-weight: bold\">)</span><span style=\"color: #000000; text-decoration-color: #000000\"> of chain </span><span style=\"color: #008080; text-decoration-color: #008080; font-weight: bold\">0</span><span style=\"font-weight: bold\">&gt;</span>: <span style=\"font-weight: bold\">[</span><span style=\"color: #008000; text-decoration-color: #008000\">'OXT'</span><span style=\"font-weight: bold\">]}</span>\n",
       "</pre>\n"
      ],
      "text/plain": [
       "fixer.\u001b[33mmissingTerminals\u001b[0m=\u001b[1m{\u001b[0m\u001b[1m<\u001b[0m\u001b[1;95mResidue\u001b[0m\u001b[39m \u001b[0m\u001b[1;36m184\u001b[0m\u001b[39m \u001b[0m\u001b[1;39m(\u001b[0m\u001b[39mLEU\u001b[0m\u001b[1;39m)\u001b[0m\u001b[39m of chain \u001b[0m\u001b[1;36m0\u001b[0m\u001b[1m>\u001b[0m: \u001b[1m[\u001b[0m\u001b[32m'OXT'\u001b[0m\u001b[1m]\u001b[0m\u001b[1m}\u001b[0m\n"
      ]
     },
     "metadata": {},
     "output_type": "display_data"
    },
    {
     "data": {
      "text/html": [
       "<pre style=\"white-space:pre;overflow-x:auto;line-height:normal;font-family:Menlo,'DejaVu Sans Mono',consolas,'Courier New',monospace;margin:0px\"><span style=\"background-color: #d7af00; font-weight: bold\"> DISK </span> Writing <span style=\"color: #d7af00; text-decoration-color: #d7af00\">../aligned_files/m0579a/m0579a_apo-desolv-Hs.pdb</span>...\n",
       "</pre>\n"
      ],
      "text/plain": [
       "\u001b[1;7;38;5;178m DISK \u001b[0m Writing \u001b[38;5;178m../aligned_files/m0579a/m0579a_apo-desolv-Hs.pdb\u001b[0m...\n"
      ]
     },
     "metadata": {},
     "output_type": "display_data"
    },
    {
     "data": {
      "text/html": [
       "<pre style=\"white-space:pre;overflow-x:auto;line-height:normal;font-family:Menlo,'DejaVu Sans Mono',consolas,'Courier New',monospace;margin:0px\"><span style=\"background-color: #ff8700; font-weight: bold\"> Warning </span><span style=\"color: #ff8700; text-decoration-color: #ff8700\"> fixer.missingAtoms={&lt;Residue 184 (LEU) of chain 0&gt;: [&lt;Atom 3 (CG) of chain 0 residue 0 (LEU)&gt;, &lt;Atom 4 </span>\n",
       "<span style=\"color: #ff8700; text-decoration-color: #ff8700\">(CD1) of chain 0 residue 0 (LEU)&gt;, &lt;Atom 5 (CD2) of chain 0 residue 0 (LEU)&gt;]}!</span>\n",
       "</pre>\n"
      ],
      "text/plain": [
       "\u001b[1;7;38;5;208m Warning \u001b[0m\u001b[38;5;208m fixer.missingAtoms={<Residue 184 (LEU) of chain 0>: [<Atom 3 (CG) of chain 0 residue 0 (LEU)>, <Atom 4 \u001b[0m\n",
       "\u001b[38;5;208m(CD1) of chain 0 residue 0 (LEU)>, <Atom 5 (CD2) of chain 0 residue 0 (LEU)>]}!\u001b[0m\n"
      ]
     },
     "metadata": {},
     "output_type": "display_data"
    },
    {
     "data": {
      "text/html": [
       "<pre style=\"white-space:pre;overflow-x:auto;line-height:normal;font-family:Menlo,'DejaVu Sans Mono',consolas,'Courier New',monospace;margin:0px\">fixer.<span style=\"color: #808000; text-decoration-color: #808000\">missingTerminals</span>=<span style=\"font-weight: bold\">{&lt;</span><span style=\"color: #ff00ff; text-decoration-color: #ff00ff; font-weight: bold\">Residue</span><span style=\"color: #000000; text-decoration-color: #000000\"> </span><span style=\"color: #008080; text-decoration-color: #008080; font-weight: bold\">184</span><span style=\"color: #000000; text-decoration-color: #000000\"> </span><span style=\"color: #000000; text-decoration-color: #000000; font-weight: bold\">(</span><span style=\"color: #000000; text-decoration-color: #000000\">LEU</span><span style=\"color: #000000; text-decoration-color: #000000; font-weight: bold\">)</span><span style=\"color: #000000; text-decoration-color: #000000\"> of chain </span><span style=\"color: #008080; text-decoration-color: #008080; font-weight: bold\">0</span><span style=\"font-weight: bold\">&gt;</span>: <span style=\"font-weight: bold\">[</span><span style=\"color: #008000; text-decoration-color: #008000\">'OXT'</span><span style=\"font-weight: bold\">]}</span>\n",
       "</pre>\n"
      ],
      "text/plain": [
       "fixer.\u001b[33mmissingTerminals\u001b[0m=\u001b[1m{\u001b[0m\u001b[1m<\u001b[0m\u001b[1;95mResidue\u001b[0m\u001b[39m \u001b[0m\u001b[1;36m184\u001b[0m\u001b[39m \u001b[0m\u001b[1;39m(\u001b[0m\u001b[39mLEU\u001b[0m\u001b[1;39m)\u001b[0m\u001b[39m of chain \u001b[0m\u001b[1;36m0\u001b[0m\u001b[1m>\u001b[0m: \u001b[1m[\u001b[0m\u001b[32m'OXT'\u001b[0m\u001b[1m]\u001b[0m\u001b[1m}\u001b[0m\n"
      ]
     },
     "metadata": {},
     "output_type": "display_data"
    },
    {
     "data": {
      "text/html": [
       "<pre style=\"white-space:pre;overflow-x:auto;line-height:normal;font-family:Menlo,'DejaVu Sans Mono',consolas,'Courier New',monospace;margin:0px\"><span style=\"background-color: #d7af00; font-weight: bold\"> DISK </span> Writing <span style=\"color: #d7af00; text-decoration-color: #d7af00\">../aligned_files/m0594a/m0594a_apo-desolv-Hs.pdb</span>...\n",
       "</pre>\n"
      ],
      "text/plain": [
       "\u001b[1;7;38;5;178m DISK \u001b[0m Writing \u001b[38;5;178m../aligned_files/m0594a/m0594a_apo-desolv-Hs.pdb\u001b[0m...\n"
      ]
     },
     "metadata": {},
     "output_type": "display_data"
    },
    {
     "data": {
      "text/html": [
       "<pre style=\"white-space:pre;overflow-x:auto;line-height:normal;font-family:Menlo,'DejaVu Sans Mono',consolas,'Courier New',monospace;margin:0px\"><span style=\"background-color: #ff8700; font-weight: bold\"> Warning </span><span style=\"color: #ff8700; text-decoration-color: #ff8700\"> fixer.missingAtoms={&lt;Residue 184 (LEU) of chain 0&gt;: [&lt;Atom 3 (CG) of chain 0 residue 0 (LEU)&gt;, &lt;Atom 4 </span>\n",
       "<span style=\"color: #ff8700; text-decoration-color: #ff8700\">(CD1) of chain 0 residue 0 (LEU)&gt;, &lt;Atom 5 (CD2) of chain 0 residue 0 (LEU)&gt;]}!</span>\n",
       "</pre>\n"
      ],
      "text/plain": [
       "\u001b[1;7;38;5;208m Warning \u001b[0m\u001b[38;5;208m fixer.missingAtoms={<Residue 184 (LEU) of chain 0>: [<Atom 3 (CG) of chain 0 residue 0 (LEU)>, <Atom 4 \u001b[0m\n",
       "\u001b[38;5;208m(CD1) of chain 0 residue 0 (LEU)>, <Atom 5 (CD2) of chain 0 residue 0 (LEU)>]}!\u001b[0m\n"
      ]
     },
     "metadata": {},
     "output_type": "display_data"
    },
    {
     "data": {
      "text/html": [
       "<pre style=\"white-space:pre;overflow-x:auto;line-height:normal;font-family:Menlo,'DejaVu Sans Mono',consolas,'Courier New',monospace;margin:0px\">fixer.<span style=\"color: #808000; text-decoration-color: #808000\">missingTerminals</span>=<span style=\"font-weight: bold\">{&lt;</span><span style=\"color: #ff00ff; text-decoration-color: #ff00ff; font-weight: bold\">Residue</span><span style=\"color: #000000; text-decoration-color: #000000\"> </span><span style=\"color: #008080; text-decoration-color: #008080; font-weight: bold\">184</span><span style=\"color: #000000; text-decoration-color: #000000\"> </span><span style=\"color: #000000; text-decoration-color: #000000; font-weight: bold\">(</span><span style=\"color: #000000; text-decoration-color: #000000\">LEU</span><span style=\"color: #000000; text-decoration-color: #000000; font-weight: bold\">)</span><span style=\"color: #000000; text-decoration-color: #000000\"> of chain </span><span style=\"color: #008080; text-decoration-color: #008080; font-weight: bold\">0</span><span style=\"font-weight: bold\">&gt;</span>: <span style=\"font-weight: bold\">[</span><span style=\"color: #008000; text-decoration-color: #008000\">'OXT'</span><span style=\"font-weight: bold\">]}</span>\n",
       "</pre>\n"
      ],
      "text/plain": [
       "fixer.\u001b[33mmissingTerminals\u001b[0m=\u001b[1m{\u001b[0m\u001b[1m<\u001b[0m\u001b[1;95mResidue\u001b[0m\u001b[39m \u001b[0m\u001b[1;36m184\u001b[0m\u001b[39m \u001b[0m\u001b[1;39m(\u001b[0m\u001b[39mLEU\u001b[0m\u001b[1;39m)\u001b[0m\u001b[39m of chain \u001b[0m\u001b[1;36m0\u001b[0m\u001b[1m>\u001b[0m: \u001b[1m[\u001b[0m\u001b[32m'OXT'\u001b[0m\u001b[1m]\u001b[0m\u001b[1m}\u001b[0m\n"
      ]
     },
     "metadata": {},
     "output_type": "display_data"
    },
    {
     "data": {
      "text/html": [
       "<pre style=\"white-space:pre;overflow-x:auto;line-height:normal;font-family:Menlo,'DejaVu Sans Mono',consolas,'Courier New',monospace;margin:0px\"><span style=\"background-color: #d7af00; font-weight: bold\"> DISK </span> Writing <span style=\"color: #d7af00; text-decoration-color: #d7af00\">../aligned_files/m0594b/m0594b_apo-desolv-Hs.pdb</span>...\n",
       "</pre>\n"
      ],
      "text/plain": [
       "\u001b[1;7;38;5;178m DISK \u001b[0m Writing \u001b[38;5;178m../aligned_files/m0594b/m0594b_apo-desolv-Hs.pdb\u001b[0m...\n"
      ]
     },
     "metadata": {},
     "output_type": "display_data"
    },
    {
     "data": {
      "text/html": [
       "<pre style=\"white-space:pre;overflow-x:auto;line-height:normal;font-family:Menlo,'DejaVu Sans Mono',consolas,'Courier New',monospace;margin:0px\"><span style=\"background-color: #ff8700; font-weight: bold\"> Warning </span><span style=\"color: #ff8700; text-decoration-color: #ff8700\"> fixer.missingAtoms={&lt;Residue 184 (LEU) of chain 0&gt;: [&lt;Atom 3 (CG) of chain 0 residue 0 (LEU)&gt;, &lt;Atom 4 </span>\n",
       "<span style=\"color: #ff8700; text-decoration-color: #ff8700\">(CD1) of chain 0 residue 0 (LEU)&gt;, &lt;Atom 5 (CD2) of chain 0 residue 0 (LEU)&gt;]}!</span>\n",
       "</pre>\n"
      ],
      "text/plain": [
       "\u001b[1;7;38;5;208m Warning \u001b[0m\u001b[38;5;208m fixer.missingAtoms={<Residue 184 (LEU) of chain 0>: [<Atom 3 (CG) of chain 0 residue 0 (LEU)>, <Atom 4 \u001b[0m\n",
       "\u001b[38;5;208m(CD1) of chain 0 residue 0 (LEU)>, <Atom 5 (CD2) of chain 0 residue 0 (LEU)>]}!\u001b[0m\n"
      ]
     },
     "metadata": {},
     "output_type": "display_data"
    },
    {
     "data": {
      "text/html": [
       "<pre style=\"white-space:pre;overflow-x:auto;line-height:normal;font-family:Menlo,'DejaVu Sans Mono',consolas,'Courier New',monospace;margin:0px\">fixer.<span style=\"color: #808000; text-decoration-color: #808000\">missingTerminals</span>=<span style=\"font-weight: bold\">{&lt;</span><span style=\"color: #ff00ff; text-decoration-color: #ff00ff; font-weight: bold\">Residue</span><span style=\"color: #000000; text-decoration-color: #000000\"> </span><span style=\"color: #008080; text-decoration-color: #008080; font-weight: bold\">184</span><span style=\"color: #000000; text-decoration-color: #000000\"> </span><span style=\"color: #000000; text-decoration-color: #000000; font-weight: bold\">(</span><span style=\"color: #000000; text-decoration-color: #000000\">LEU</span><span style=\"color: #000000; text-decoration-color: #000000; font-weight: bold\">)</span><span style=\"color: #000000; text-decoration-color: #000000\"> of chain </span><span style=\"color: #008080; text-decoration-color: #008080; font-weight: bold\">0</span><span style=\"font-weight: bold\">&gt;</span>: <span style=\"font-weight: bold\">[</span><span style=\"color: #008000; text-decoration-color: #008000\">'OXT'</span><span style=\"font-weight: bold\">]}</span>\n",
       "</pre>\n"
      ],
      "text/plain": [
       "fixer.\u001b[33mmissingTerminals\u001b[0m=\u001b[1m{\u001b[0m\u001b[1m<\u001b[0m\u001b[1;95mResidue\u001b[0m\u001b[39m \u001b[0m\u001b[1;36m184\u001b[0m\u001b[39m \u001b[0m\u001b[1;39m(\u001b[0m\u001b[39mLEU\u001b[0m\u001b[1;39m)\u001b[0m\u001b[39m of chain \u001b[0m\u001b[1;36m0\u001b[0m\u001b[1m>\u001b[0m: \u001b[1m[\u001b[0m\u001b[32m'OXT'\u001b[0m\u001b[1m]\u001b[0m\u001b[1m}\u001b[0m\n"
      ]
     },
     "metadata": {},
     "output_type": "display_data"
    },
    {
     "data": {
      "text/html": [
       "<pre style=\"white-space:pre;overflow-x:auto;line-height:normal;font-family:Menlo,'DejaVu Sans Mono',consolas,'Courier New',monospace;margin:0px\"><span style=\"background-color: #d7af00; font-weight: bold\"> DISK </span> Writing <span style=\"color: #d7af00; text-decoration-color: #d7af00\">../aligned_files/m0597a/m0597a_apo-desolv-Hs.pdb</span>...\n",
       "</pre>\n"
      ],
      "text/plain": [
       "\u001b[1;7;38;5;178m DISK \u001b[0m Writing \u001b[38;5;178m../aligned_files/m0597a/m0597a_apo-desolv-Hs.pdb\u001b[0m...\n"
      ]
     },
     "metadata": {},
     "output_type": "display_data"
    },
    {
     "data": {
      "text/html": [
       "<pre style=\"white-space:pre;overflow-x:auto;line-height:normal;font-family:Menlo,'DejaVu Sans Mono',consolas,'Courier New',monospace;margin:0px\"><span style=\"background-color: #ff8700; font-weight: bold\"> Warning </span><span style=\"color: #ff8700; text-decoration-color: #ff8700\"> fixer.missingAtoms={&lt;Residue 184 (LEU) of chain 0&gt;: [&lt;Atom 3 (CG) of chain 0 residue 0 (LEU)&gt;, &lt;Atom 4 </span>\n",
       "<span style=\"color: #ff8700; text-decoration-color: #ff8700\">(CD1) of chain 0 residue 0 (LEU)&gt;, &lt;Atom 5 (CD2) of chain 0 residue 0 (LEU)&gt;]}!</span>\n",
       "</pre>\n"
      ],
      "text/plain": [
       "\u001b[1;7;38;5;208m Warning \u001b[0m\u001b[38;5;208m fixer.missingAtoms={<Residue 184 (LEU) of chain 0>: [<Atom 3 (CG) of chain 0 residue 0 (LEU)>, <Atom 4 \u001b[0m\n",
       "\u001b[38;5;208m(CD1) of chain 0 residue 0 (LEU)>, <Atom 5 (CD2) of chain 0 residue 0 (LEU)>]}!\u001b[0m\n"
      ]
     },
     "metadata": {},
     "output_type": "display_data"
    },
    {
     "data": {
      "text/html": [
       "<pre style=\"white-space:pre;overflow-x:auto;line-height:normal;font-family:Menlo,'DejaVu Sans Mono',consolas,'Courier New',monospace;margin:0px\">fixer.<span style=\"color: #808000; text-decoration-color: #808000\">missingTerminals</span>=<span style=\"font-weight: bold\">{&lt;</span><span style=\"color: #ff00ff; text-decoration-color: #ff00ff; font-weight: bold\">Residue</span><span style=\"color: #000000; text-decoration-color: #000000\"> </span><span style=\"color: #008080; text-decoration-color: #008080; font-weight: bold\">184</span><span style=\"color: #000000; text-decoration-color: #000000\"> </span><span style=\"color: #000000; text-decoration-color: #000000; font-weight: bold\">(</span><span style=\"color: #000000; text-decoration-color: #000000\">LEU</span><span style=\"color: #000000; text-decoration-color: #000000; font-weight: bold\">)</span><span style=\"color: #000000; text-decoration-color: #000000\"> of chain </span><span style=\"color: #008080; text-decoration-color: #008080; font-weight: bold\">0</span><span style=\"font-weight: bold\">&gt;</span>: <span style=\"font-weight: bold\">[</span><span style=\"color: #008000; text-decoration-color: #008000\">'OXT'</span><span style=\"font-weight: bold\">]}</span>\n",
       "</pre>\n"
      ],
      "text/plain": [
       "fixer.\u001b[33mmissingTerminals\u001b[0m=\u001b[1m{\u001b[0m\u001b[1m<\u001b[0m\u001b[1;95mResidue\u001b[0m\u001b[39m \u001b[0m\u001b[1;36m184\u001b[0m\u001b[39m \u001b[0m\u001b[1;39m(\u001b[0m\u001b[39mLEU\u001b[0m\u001b[1;39m)\u001b[0m\u001b[39m of chain \u001b[0m\u001b[1;36m0\u001b[0m\u001b[1m>\u001b[0m: \u001b[1m[\u001b[0m\u001b[32m'OXT'\u001b[0m\u001b[1m]\u001b[0m\u001b[1m}\u001b[0m\n"
      ]
     },
     "metadata": {},
     "output_type": "display_data"
    },
    {
     "data": {
      "text/html": [
       "<pre style=\"white-space:pre;overflow-x:auto;line-height:normal;font-family:Menlo,'DejaVu Sans Mono',consolas,'Courier New',monospace;margin:0px\"><span style=\"background-color: #d7af00; font-weight: bold\"> DISK </span> Writing <span style=\"color: #d7af00; text-decoration-color: #d7af00\">../aligned_files/m0604a/m0604a_apo-desolv-Hs.pdb</span>...\n",
       "</pre>\n"
      ],
      "text/plain": [
       "\u001b[1;7;38;5;178m DISK \u001b[0m Writing \u001b[38;5;178m../aligned_files/m0604a/m0604a_apo-desolv-Hs.pdb\u001b[0m...\n"
      ]
     },
     "metadata": {},
     "output_type": "display_data"
    },
    {
     "data": {
      "text/html": [
       "<pre style=\"white-space:pre;overflow-x:auto;line-height:normal;font-family:Menlo,'DejaVu Sans Mono',consolas,'Courier New',monospace;margin:0px\"><span style=\"background-color: #ff8700; font-weight: bold\"> Warning </span><span style=\"color: #ff8700; text-decoration-color: #ff8700\"> fixer.missingAtoms={&lt;Residue 184 (LEU) of chain 0&gt;: [&lt;Atom 3 (CG) of chain 0 residue 0 (LEU)&gt;, &lt;Atom 4 </span>\n",
       "<span style=\"color: #ff8700; text-decoration-color: #ff8700\">(CD1) of chain 0 residue 0 (LEU)&gt;, &lt;Atom 5 (CD2) of chain 0 residue 0 (LEU)&gt;]}!</span>\n",
       "</pre>\n"
      ],
      "text/plain": [
       "\u001b[1;7;38;5;208m Warning \u001b[0m\u001b[38;5;208m fixer.missingAtoms={<Residue 184 (LEU) of chain 0>: [<Atom 3 (CG) of chain 0 residue 0 (LEU)>, <Atom 4 \u001b[0m\n",
       "\u001b[38;5;208m(CD1) of chain 0 residue 0 (LEU)>, <Atom 5 (CD2) of chain 0 residue 0 (LEU)>]}!\u001b[0m\n"
      ]
     },
     "metadata": {},
     "output_type": "display_data"
    },
    {
     "data": {
      "text/html": [
       "<pre style=\"white-space:pre;overflow-x:auto;line-height:normal;font-family:Menlo,'DejaVu Sans Mono',consolas,'Courier New',monospace;margin:0px\">fixer.<span style=\"color: #808000; text-decoration-color: #808000\">missingTerminals</span>=<span style=\"font-weight: bold\">{&lt;</span><span style=\"color: #ff00ff; text-decoration-color: #ff00ff; font-weight: bold\">Residue</span><span style=\"color: #000000; text-decoration-color: #000000\"> </span><span style=\"color: #008080; text-decoration-color: #008080; font-weight: bold\">184</span><span style=\"color: #000000; text-decoration-color: #000000\"> </span><span style=\"color: #000000; text-decoration-color: #000000; font-weight: bold\">(</span><span style=\"color: #000000; text-decoration-color: #000000\">LEU</span><span style=\"color: #000000; text-decoration-color: #000000; font-weight: bold\">)</span><span style=\"color: #000000; text-decoration-color: #000000\"> of chain </span><span style=\"color: #008080; text-decoration-color: #008080; font-weight: bold\">0</span><span style=\"font-weight: bold\">&gt;</span>: <span style=\"font-weight: bold\">[</span><span style=\"color: #008000; text-decoration-color: #008000\">'OXT'</span><span style=\"font-weight: bold\">]}</span>\n",
       "</pre>\n"
      ],
      "text/plain": [
       "fixer.\u001b[33mmissingTerminals\u001b[0m=\u001b[1m{\u001b[0m\u001b[1m<\u001b[0m\u001b[1;95mResidue\u001b[0m\u001b[39m \u001b[0m\u001b[1;36m184\u001b[0m\u001b[39m \u001b[0m\u001b[1;39m(\u001b[0m\u001b[39mLEU\u001b[0m\u001b[1;39m)\u001b[0m\u001b[39m of chain \u001b[0m\u001b[1;36m0\u001b[0m\u001b[1m>\u001b[0m: \u001b[1m[\u001b[0m\u001b[32m'OXT'\u001b[0m\u001b[1m]\u001b[0m\u001b[1m}\u001b[0m\n"
      ]
     },
     "metadata": {},
     "output_type": "display_data"
    },
    {
     "data": {
      "text/html": [
       "<pre style=\"white-space:pre;overflow-x:auto;line-height:normal;font-family:Menlo,'DejaVu Sans Mono',consolas,'Courier New',monospace;margin:0px\"><span style=\"background-color: #d7af00; font-weight: bold\"> DISK </span> Writing <span style=\"color: #d7af00; text-decoration-color: #d7af00\">../aligned_files/m0606a/m0606a_apo-desolv-Hs.pdb</span>...\n",
       "</pre>\n"
      ],
      "text/plain": [
       "\u001b[1;7;38;5;178m DISK \u001b[0m Writing \u001b[38;5;178m../aligned_files/m0606a/m0606a_apo-desolv-Hs.pdb\u001b[0m...\n"
      ]
     },
     "metadata": {},
     "output_type": "display_data"
    },
    {
     "data": {
      "text/html": [
       "<pre style=\"white-space:pre;overflow-x:auto;line-height:normal;font-family:Menlo,'DejaVu Sans Mono',consolas,'Courier New',monospace;margin:0px\"><span style=\"background-color: #ff8700; font-weight: bold\"> Warning </span><span style=\"color: #ff8700; text-decoration-color: #ff8700\"> fixer.missingAtoms={&lt;Residue 184 (LEU) of chain 0&gt;: [&lt;Atom 3 (CG) of chain 0 residue 0 (LEU)&gt;, &lt;Atom 4 </span>\n",
       "<span style=\"color: #ff8700; text-decoration-color: #ff8700\">(CD1) of chain 0 residue 0 (LEU)&gt;, &lt;Atom 5 (CD2) of chain 0 residue 0 (LEU)&gt;]}!</span>\n",
       "</pre>\n"
      ],
      "text/plain": [
       "\u001b[1;7;38;5;208m Warning \u001b[0m\u001b[38;5;208m fixer.missingAtoms={<Residue 184 (LEU) of chain 0>: [<Atom 3 (CG) of chain 0 residue 0 (LEU)>, <Atom 4 \u001b[0m\n",
       "\u001b[38;5;208m(CD1) of chain 0 residue 0 (LEU)>, <Atom 5 (CD2) of chain 0 residue 0 (LEU)>]}!\u001b[0m\n"
      ]
     },
     "metadata": {},
     "output_type": "display_data"
    },
    {
     "data": {
      "text/html": [
       "<pre style=\"white-space:pre;overflow-x:auto;line-height:normal;font-family:Menlo,'DejaVu Sans Mono',consolas,'Courier New',monospace;margin:0px\">fixer.<span style=\"color: #808000; text-decoration-color: #808000\">missingTerminals</span>=<span style=\"font-weight: bold\">{&lt;</span><span style=\"color: #ff00ff; text-decoration-color: #ff00ff; font-weight: bold\">Residue</span><span style=\"color: #000000; text-decoration-color: #000000\"> </span><span style=\"color: #008080; text-decoration-color: #008080; font-weight: bold\">184</span><span style=\"color: #000000; text-decoration-color: #000000\"> </span><span style=\"color: #000000; text-decoration-color: #000000; font-weight: bold\">(</span><span style=\"color: #000000; text-decoration-color: #000000\">LEU</span><span style=\"color: #000000; text-decoration-color: #000000; font-weight: bold\">)</span><span style=\"color: #000000; text-decoration-color: #000000\"> of chain </span><span style=\"color: #008080; text-decoration-color: #008080; font-weight: bold\">0</span><span style=\"font-weight: bold\">&gt;</span>: <span style=\"font-weight: bold\">[</span><span style=\"color: #008000; text-decoration-color: #008000\">'OXT'</span><span style=\"font-weight: bold\">]}</span>\n",
       "</pre>\n"
      ],
      "text/plain": [
       "fixer.\u001b[33mmissingTerminals\u001b[0m=\u001b[1m{\u001b[0m\u001b[1m<\u001b[0m\u001b[1;95mResidue\u001b[0m\u001b[39m \u001b[0m\u001b[1;36m184\u001b[0m\u001b[39m \u001b[0m\u001b[1;39m(\u001b[0m\u001b[39mLEU\u001b[0m\u001b[1;39m)\u001b[0m\u001b[39m of chain \u001b[0m\u001b[1;36m0\u001b[0m\u001b[1m>\u001b[0m: \u001b[1m[\u001b[0m\u001b[32m'OXT'\u001b[0m\u001b[1m]\u001b[0m\u001b[1m}\u001b[0m\n"
      ]
     },
     "metadata": {},
     "output_type": "display_data"
    },
    {
     "data": {
      "text/html": [
       "<pre style=\"white-space:pre;overflow-x:auto;line-height:normal;font-family:Menlo,'DejaVu Sans Mono',consolas,'Courier New',monospace;margin:0px\"><span style=\"background-color: #d7af00; font-weight: bold\"> DISK </span> Writing <span style=\"color: #d7af00; text-decoration-color: #d7af00\">../aligned_files/m0609a/m0609a_apo-desolv-Hs.pdb</span>...\n",
       "</pre>\n"
      ],
      "text/plain": [
       "\u001b[1;7;38;5;178m DISK \u001b[0m Writing \u001b[38;5;178m../aligned_files/m0609a/m0609a_apo-desolv-Hs.pdb\u001b[0m...\n"
      ]
     },
     "metadata": {},
     "output_type": "display_data"
    },
    {
     "data": {
      "text/html": [
       "<pre style=\"white-space:pre;overflow-x:auto;line-height:normal;font-family:Menlo,'DejaVu Sans Mono',consolas,'Courier New',monospace;margin:0px\"><span style=\"background-color: #ff8700; font-weight: bold\"> Warning </span><span style=\"color: #ff8700; text-decoration-color: #ff8700\"> fixer.missingAtoms={&lt;Residue 184 (LEU) of chain 0&gt;: [&lt;Atom 3 (CG) of chain 0 residue 0 (LEU)&gt;, &lt;Atom 4 </span>\n",
       "<span style=\"color: #ff8700; text-decoration-color: #ff8700\">(CD1) of chain 0 residue 0 (LEU)&gt;, &lt;Atom 5 (CD2) of chain 0 residue 0 (LEU)&gt;]}!</span>\n",
       "</pre>\n"
      ],
      "text/plain": [
       "\u001b[1;7;38;5;208m Warning \u001b[0m\u001b[38;5;208m fixer.missingAtoms={<Residue 184 (LEU) of chain 0>: [<Atom 3 (CG) of chain 0 residue 0 (LEU)>, <Atom 4 \u001b[0m\n",
       "\u001b[38;5;208m(CD1) of chain 0 residue 0 (LEU)>, <Atom 5 (CD2) of chain 0 residue 0 (LEU)>]}!\u001b[0m\n"
      ]
     },
     "metadata": {},
     "output_type": "display_data"
    },
    {
     "data": {
      "text/html": [
       "<pre style=\"white-space:pre;overflow-x:auto;line-height:normal;font-family:Menlo,'DejaVu Sans Mono',consolas,'Courier New',monospace;margin:0px\">fixer.<span style=\"color: #808000; text-decoration-color: #808000\">missingTerminals</span>=<span style=\"font-weight: bold\">{&lt;</span><span style=\"color: #ff00ff; text-decoration-color: #ff00ff; font-weight: bold\">Residue</span><span style=\"color: #000000; text-decoration-color: #000000\"> </span><span style=\"color: #008080; text-decoration-color: #008080; font-weight: bold\">184</span><span style=\"color: #000000; text-decoration-color: #000000\"> </span><span style=\"color: #000000; text-decoration-color: #000000; font-weight: bold\">(</span><span style=\"color: #000000; text-decoration-color: #000000\">LEU</span><span style=\"color: #000000; text-decoration-color: #000000; font-weight: bold\">)</span><span style=\"color: #000000; text-decoration-color: #000000\"> of chain </span><span style=\"color: #008080; text-decoration-color: #008080; font-weight: bold\">0</span><span style=\"font-weight: bold\">&gt;</span>: <span style=\"font-weight: bold\">[</span><span style=\"color: #008000; text-decoration-color: #008000\">'OXT'</span><span style=\"font-weight: bold\">]}</span>\n",
       "</pre>\n"
      ],
      "text/plain": [
       "fixer.\u001b[33mmissingTerminals\u001b[0m=\u001b[1m{\u001b[0m\u001b[1m<\u001b[0m\u001b[1;95mResidue\u001b[0m\u001b[39m \u001b[0m\u001b[1;36m184\u001b[0m\u001b[39m \u001b[0m\u001b[1;39m(\u001b[0m\u001b[39mLEU\u001b[0m\u001b[1;39m)\u001b[0m\u001b[39m of chain \u001b[0m\u001b[1;36m0\u001b[0m\u001b[1m>\u001b[0m: \u001b[1m[\u001b[0m\u001b[32m'OXT'\u001b[0m\u001b[1m]\u001b[0m\u001b[1m}\u001b[0m\n"
      ]
     },
     "metadata": {},
     "output_type": "display_data"
    },
    {
     "data": {
      "text/html": [
       "<pre style=\"white-space:pre;overflow-x:auto;line-height:normal;font-family:Menlo,'DejaVu Sans Mono',consolas,'Courier New',monospace;margin:0px\"><span style=\"background-color: #d7af00; font-weight: bold\"> DISK </span> Writing <span style=\"color: #d7af00; text-decoration-color: #d7af00\">../aligned_files/m0611a/m0611a_apo-desolv-Hs.pdb</span>...\n",
       "</pre>\n"
      ],
      "text/plain": [
       "\u001b[1;7;38;5;178m DISK \u001b[0m Writing \u001b[38;5;178m../aligned_files/m0611a/m0611a_apo-desolv-Hs.pdb\u001b[0m...\n"
      ]
     },
     "metadata": {},
     "output_type": "display_data"
    },
    {
     "data": {
      "text/html": [
       "<pre style=\"white-space:pre;overflow-x:auto;line-height:normal;font-family:Menlo,'DejaVu Sans Mono',consolas,'Courier New',monospace;margin:0px\"><span style=\"background-color: #ff8700; font-weight: bold\"> Warning </span><span style=\"color: #ff8700; text-decoration-color: #ff8700\"> fixer.missingAtoms={&lt;Residue 184 (LEU) of chain 0&gt;: [&lt;Atom 3 (CG) of chain 0 residue 0 (LEU)&gt;, &lt;Atom 4 </span>\n",
       "<span style=\"color: #ff8700; text-decoration-color: #ff8700\">(CD1) of chain 0 residue 0 (LEU)&gt;, &lt;Atom 5 (CD2) of chain 0 residue 0 (LEU)&gt;]}!</span>\n",
       "</pre>\n"
      ],
      "text/plain": [
       "\u001b[1;7;38;5;208m Warning \u001b[0m\u001b[38;5;208m fixer.missingAtoms={<Residue 184 (LEU) of chain 0>: [<Atom 3 (CG) of chain 0 residue 0 (LEU)>, <Atom 4 \u001b[0m\n",
       "\u001b[38;5;208m(CD1) of chain 0 residue 0 (LEU)>, <Atom 5 (CD2) of chain 0 residue 0 (LEU)>]}!\u001b[0m\n"
      ]
     },
     "metadata": {},
     "output_type": "display_data"
    },
    {
     "data": {
      "text/html": [
       "<pre style=\"white-space:pre;overflow-x:auto;line-height:normal;font-family:Menlo,'DejaVu Sans Mono',consolas,'Courier New',monospace;margin:0px\">fixer.<span style=\"color: #808000; text-decoration-color: #808000\">missingTerminals</span>=<span style=\"font-weight: bold\">{&lt;</span><span style=\"color: #ff00ff; text-decoration-color: #ff00ff; font-weight: bold\">Residue</span><span style=\"color: #000000; text-decoration-color: #000000\"> </span><span style=\"color: #008080; text-decoration-color: #008080; font-weight: bold\">184</span><span style=\"color: #000000; text-decoration-color: #000000\"> </span><span style=\"color: #000000; text-decoration-color: #000000; font-weight: bold\">(</span><span style=\"color: #000000; text-decoration-color: #000000\">LEU</span><span style=\"color: #000000; text-decoration-color: #000000; font-weight: bold\">)</span><span style=\"color: #000000; text-decoration-color: #000000\"> of chain </span><span style=\"color: #008080; text-decoration-color: #008080; font-weight: bold\">0</span><span style=\"font-weight: bold\">&gt;</span>: <span style=\"font-weight: bold\">[</span><span style=\"color: #008000; text-decoration-color: #008000\">'OXT'</span><span style=\"font-weight: bold\">]}</span>\n",
       "</pre>\n"
      ],
      "text/plain": [
       "fixer.\u001b[33mmissingTerminals\u001b[0m=\u001b[1m{\u001b[0m\u001b[1m<\u001b[0m\u001b[1;95mResidue\u001b[0m\u001b[39m \u001b[0m\u001b[1;36m184\u001b[0m\u001b[39m \u001b[0m\u001b[1;39m(\u001b[0m\u001b[39mLEU\u001b[0m\u001b[1;39m)\u001b[0m\u001b[39m of chain \u001b[0m\u001b[1;36m0\u001b[0m\u001b[1m>\u001b[0m: \u001b[1m[\u001b[0m\u001b[32m'OXT'\u001b[0m\u001b[1m]\u001b[0m\u001b[1m}\u001b[0m\n"
      ]
     },
     "metadata": {},
     "output_type": "display_data"
    },
    {
     "data": {
      "text/html": [
       "<pre style=\"white-space:pre;overflow-x:auto;line-height:normal;font-family:Menlo,'DejaVu Sans Mono',consolas,'Courier New',monospace;margin:0px\"><span style=\"background-color: #d7af00; font-weight: bold\"> DISK </span> Writing <span style=\"color: #d7af00; text-decoration-color: #d7af00\">../aligned_files/m0615a/m0615a_apo-desolv-Hs.pdb</span>...\n",
       "</pre>\n"
      ],
      "text/plain": [
       "\u001b[1;7;38;5;178m DISK \u001b[0m Writing \u001b[38;5;178m../aligned_files/m0615a/m0615a_apo-desolv-Hs.pdb\u001b[0m...\n"
      ]
     },
     "metadata": {},
     "output_type": "display_data"
    },
    {
     "data": {
      "text/html": [
       "<pre style=\"white-space:pre;overflow-x:auto;line-height:normal;font-family:Menlo,'DejaVu Sans Mono',consolas,'Courier New',monospace;margin:0px\"><span style=\"background-color: #ff8700; font-weight: bold\"> Warning </span><span style=\"color: #ff8700; text-decoration-color: #ff8700\"> fixer.missingAtoms={&lt;Residue 184 (LEU) of chain 0&gt;: [&lt;Atom 3 (CG) of chain 0 residue 0 (LEU)&gt;, &lt;Atom 4 </span>\n",
       "<span style=\"color: #ff8700; text-decoration-color: #ff8700\">(CD1) of chain 0 residue 0 (LEU)&gt;, &lt;Atom 5 (CD2) of chain 0 residue 0 (LEU)&gt;]}!</span>\n",
       "</pre>\n"
      ],
      "text/plain": [
       "\u001b[1;7;38;5;208m Warning \u001b[0m\u001b[38;5;208m fixer.missingAtoms={<Residue 184 (LEU) of chain 0>: [<Atom 3 (CG) of chain 0 residue 0 (LEU)>, <Atom 4 \u001b[0m\n",
       "\u001b[38;5;208m(CD1) of chain 0 residue 0 (LEU)>, <Atom 5 (CD2) of chain 0 residue 0 (LEU)>]}!\u001b[0m\n"
      ]
     },
     "metadata": {},
     "output_type": "display_data"
    },
    {
     "data": {
      "text/html": [
       "<pre style=\"white-space:pre;overflow-x:auto;line-height:normal;font-family:Menlo,'DejaVu Sans Mono',consolas,'Courier New',monospace;margin:0px\">fixer.<span style=\"color: #808000; text-decoration-color: #808000\">missingTerminals</span>=<span style=\"font-weight: bold\">{&lt;</span><span style=\"color: #ff00ff; text-decoration-color: #ff00ff; font-weight: bold\">Residue</span><span style=\"color: #000000; text-decoration-color: #000000\"> </span><span style=\"color: #008080; text-decoration-color: #008080; font-weight: bold\">184</span><span style=\"color: #000000; text-decoration-color: #000000\"> </span><span style=\"color: #000000; text-decoration-color: #000000; font-weight: bold\">(</span><span style=\"color: #000000; text-decoration-color: #000000\">LEU</span><span style=\"color: #000000; text-decoration-color: #000000; font-weight: bold\">)</span><span style=\"color: #000000; text-decoration-color: #000000\"> of chain </span><span style=\"color: #008080; text-decoration-color: #008080; font-weight: bold\">0</span><span style=\"font-weight: bold\">&gt;</span>: <span style=\"font-weight: bold\">[</span><span style=\"color: #008000; text-decoration-color: #008000\">'OXT'</span><span style=\"font-weight: bold\">]}</span>\n",
       "</pre>\n"
      ],
      "text/plain": [
       "fixer.\u001b[33mmissingTerminals\u001b[0m=\u001b[1m{\u001b[0m\u001b[1m<\u001b[0m\u001b[1;95mResidue\u001b[0m\u001b[39m \u001b[0m\u001b[1;36m184\u001b[0m\u001b[39m \u001b[0m\u001b[1;39m(\u001b[0m\u001b[39mLEU\u001b[0m\u001b[1;39m)\u001b[0m\u001b[39m of chain \u001b[0m\u001b[1;36m0\u001b[0m\u001b[1m>\u001b[0m: \u001b[1m[\u001b[0m\u001b[32m'OXT'\u001b[0m\u001b[1m]\u001b[0m\u001b[1m}\u001b[0m\n"
      ]
     },
     "metadata": {},
     "output_type": "display_data"
    },
    {
     "data": {
      "text/html": [
       "<pre style=\"white-space:pre;overflow-x:auto;line-height:normal;font-family:Menlo,'DejaVu Sans Mono',consolas,'Courier New',monospace;margin:0px\"><span style=\"background-color: #d7af00; font-weight: bold\"> DISK </span> Writing <span style=\"color: #d7af00; text-decoration-color: #d7af00\">../aligned_files/m0631a/m0631a_apo-desolv-Hs.pdb</span>...\n",
       "</pre>\n"
      ],
      "text/plain": [
       "\u001b[1;7;38;5;178m DISK \u001b[0m Writing \u001b[38;5;178m../aligned_files/m0631a/m0631a_apo-desolv-Hs.pdb\u001b[0m...\n"
      ]
     },
     "metadata": {},
     "output_type": "display_data"
    },
    {
     "data": {
      "text/html": [
       "<pre style=\"white-space:pre;overflow-x:auto;line-height:normal;font-family:Menlo,'DejaVu Sans Mono',consolas,'Courier New',monospace;margin:0px\"><span style=\"background-color: #ff8700; font-weight: bold\"> Warning </span><span style=\"color: #ff8700; text-decoration-color: #ff8700\"> fixer.missingAtoms={&lt;Residue 184 (LEU) of chain 0&gt;: [&lt;Atom 3 (CG) of chain 0 residue 0 (LEU)&gt;, &lt;Atom 4 </span>\n",
       "<span style=\"color: #ff8700; text-decoration-color: #ff8700\">(CD1) of chain 0 residue 0 (LEU)&gt;, &lt;Atom 5 (CD2) of chain 0 residue 0 (LEU)&gt;]}!</span>\n",
       "</pre>\n"
      ],
      "text/plain": [
       "\u001b[1;7;38;5;208m Warning \u001b[0m\u001b[38;5;208m fixer.missingAtoms={<Residue 184 (LEU) of chain 0>: [<Atom 3 (CG) of chain 0 residue 0 (LEU)>, <Atom 4 \u001b[0m\n",
       "\u001b[38;5;208m(CD1) of chain 0 residue 0 (LEU)>, <Atom 5 (CD2) of chain 0 residue 0 (LEU)>]}!\u001b[0m\n"
      ]
     },
     "metadata": {},
     "output_type": "display_data"
    },
    {
     "data": {
      "text/html": [
       "<pre style=\"white-space:pre;overflow-x:auto;line-height:normal;font-family:Menlo,'DejaVu Sans Mono',consolas,'Courier New',monospace;margin:0px\">fixer.<span style=\"color: #808000; text-decoration-color: #808000\">missingTerminals</span>=<span style=\"font-weight: bold\">{&lt;</span><span style=\"color: #ff00ff; text-decoration-color: #ff00ff; font-weight: bold\">Residue</span><span style=\"color: #000000; text-decoration-color: #000000\"> </span><span style=\"color: #008080; text-decoration-color: #008080; font-weight: bold\">184</span><span style=\"color: #000000; text-decoration-color: #000000\"> </span><span style=\"color: #000000; text-decoration-color: #000000; font-weight: bold\">(</span><span style=\"color: #000000; text-decoration-color: #000000\">LEU</span><span style=\"color: #000000; text-decoration-color: #000000; font-weight: bold\">)</span><span style=\"color: #000000; text-decoration-color: #000000\"> of chain </span><span style=\"color: #008080; text-decoration-color: #008080; font-weight: bold\">0</span><span style=\"font-weight: bold\">&gt;</span>: <span style=\"font-weight: bold\">[</span><span style=\"color: #008000; text-decoration-color: #008000\">'OXT'</span><span style=\"font-weight: bold\">]}</span>\n",
       "</pre>\n"
      ],
      "text/plain": [
       "fixer.\u001b[33mmissingTerminals\u001b[0m=\u001b[1m{\u001b[0m\u001b[1m<\u001b[0m\u001b[1;95mResidue\u001b[0m\u001b[39m \u001b[0m\u001b[1;36m184\u001b[0m\u001b[39m \u001b[0m\u001b[1;39m(\u001b[0m\u001b[39mLEU\u001b[0m\u001b[1;39m)\u001b[0m\u001b[39m of chain \u001b[0m\u001b[1;36m0\u001b[0m\u001b[1m>\u001b[0m: \u001b[1m[\u001b[0m\u001b[32m'OXT'\u001b[0m\u001b[1m]\u001b[0m\u001b[1m}\u001b[0m\n"
      ]
     },
     "metadata": {},
     "output_type": "display_data"
    },
    {
     "data": {
      "text/html": [
       "<pre style=\"white-space:pre;overflow-x:auto;line-height:normal;font-family:Menlo,'DejaVu Sans Mono',consolas,'Courier New',monospace;margin:0px\"><span style=\"background-color: #d7af00; font-weight: bold\"> DISK </span> Writing <span style=\"color: #d7af00; text-decoration-color: #d7af00\">../aligned_files/m0638a/m0638a_apo-desolv-Hs.pdb</span>...\n",
       "</pre>\n"
      ],
      "text/plain": [
       "\u001b[1;7;38;5;178m DISK \u001b[0m Writing \u001b[38;5;178m../aligned_files/m0638a/m0638a_apo-desolv-Hs.pdb\u001b[0m...\n"
      ]
     },
     "metadata": {},
     "output_type": "display_data"
    },
    {
     "data": {
      "text/html": [
       "<pre style=\"white-space:pre;overflow-x:auto;line-height:normal;font-family:Menlo,'DejaVu Sans Mono',consolas,'Courier New',monospace;margin:0px\"><span style=\"background-color: #ff8700; font-weight: bold\"> Warning </span><span style=\"color: #ff8700; text-decoration-color: #ff8700\"> fixer.missingAtoms={&lt;Residue 184 (LEU) of chain 0&gt;: [&lt;Atom 3 (CG) of chain 0 residue 0 (LEU)&gt;, &lt;Atom 4 </span>\n",
       "<span style=\"color: #ff8700; text-decoration-color: #ff8700\">(CD1) of chain 0 residue 0 (LEU)&gt;, &lt;Atom 5 (CD2) of chain 0 residue 0 (LEU)&gt;]}!</span>\n",
       "</pre>\n"
      ],
      "text/plain": [
       "\u001b[1;7;38;5;208m Warning \u001b[0m\u001b[38;5;208m fixer.missingAtoms={<Residue 184 (LEU) of chain 0>: [<Atom 3 (CG) of chain 0 residue 0 (LEU)>, <Atom 4 \u001b[0m\n",
       "\u001b[38;5;208m(CD1) of chain 0 residue 0 (LEU)>, <Atom 5 (CD2) of chain 0 residue 0 (LEU)>]}!\u001b[0m\n"
      ]
     },
     "metadata": {},
     "output_type": "display_data"
    },
    {
     "data": {
      "text/html": [
       "<pre style=\"white-space:pre;overflow-x:auto;line-height:normal;font-family:Menlo,'DejaVu Sans Mono',consolas,'Courier New',monospace;margin:0px\">fixer.<span style=\"color: #808000; text-decoration-color: #808000\">missingTerminals</span>=<span style=\"font-weight: bold\">{&lt;</span><span style=\"color: #ff00ff; text-decoration-color: #ff00ff; font-weight: bold\">Residue</span><span style=\"color: #000000; text-decoration-color: #000000\"> </span><span style=\"color: #008080; text-decoration-color: #008080; font-weight: bold\">184</span><span style=\"color: #000000; text-decoration-color: #000000\"> </span><span style=\"color: #000000; text-decoration-color: #000000; font-weight: bold\">(</span><span style=\"color: #000000; text-decoration-color: #000000\">LEU</span><span style=\"color: #000000; text-decoration-color: #000000; font-weight: bold\">)</span><span style=\"color: #000000; text-decoration-color: #000000\"> of chain </span><span style=\"color: #008080; text-decoration-color: #008080; font-weight: bold\">0</span><span style=\"font-weight: bold\">&gt;</span>: <span style=\"font-weight: bold\">[</span><span style=\"color: #008000; text-decoration-color: #008000\">'OXT'</span><span style=\"font-weight: bold\">]}</span>\n",
       "</pre>\n"
      ],
      "text/plain": [
       "fixer.\u001b[33mmissingTerminals\u001b[0m=\u001b[1m{\u001b[0m\u001b[1m<\u001b[0m\u001b[1;95mResidue\u001b[0m\u001b[39m \u001b[0m\u001b[1;36m184\u001b[0m\u001b[39m \u001b[0m\u001b[1;39m(\u001b[0m\u001b[39mLEU\u001b[0m\u001b[1;39m)\u001b[0m\u001b[39m of chain \u001b[0m\u001b[1;36m0\u001b[0m\u001b[1m>\u001b[0m: \u001b[1m[\u001b[0m\u001b[32m'OXT'\u001b[0m\u001b[1m]\u001b[0m\u001b[1m}\u001b[0m\n"
      ]
     },
     "metadata": {},
     "output_type": "display_data"
    },
    {
     "data": {
      "text/html": [
       "<pre style=\"white-space:pre;overflow-x:auto;line-height:normal;font-family:Menlo,'DejaVu Sans Mono',consolas,'Courier New',monospace;margin:0px\"><span style=\"background-color: #d7af00; font-weight: bold\"> DISK </span> Writing <span style=\"color: #d7af00; text-decoration-color: #d7af00\">../aligned_files/m0641a/m0641a_apo-desolv-Hs.pdb</span>...\n",
       "</pre>\n"
      ],
      "text/plain": [
       "\u001b[1;7;38;5;178m DISK \u001b[0m Writing \u001b[38;5;178m../aligned_files/m0641a/m0641a_apo-desolv-Hs.pdb\u001b[0m...\n"
      ]
     },
     "metadata": {},
     "output_type": "display_data"
    },
    {
     "data": {
      "text/html": [
       "<pre style=\"white-space:pre;overflow-x:auto;line-height:normal;font-family:Menlo,'DejaVu Sans Mono',consolas,'Courier New',monospace;margin:0px\"><span style=\"background-color: #ff8700; font-weight: bold\"> Warning </span><span style=\"color: #ff8700; text-decoration-color: #ff8700\"> fixer.missingAtoms={&lt;Residue 184 (LEU) of chain 0&gt;: [&lt;Atom 3 (CG) of chain 0 residue 0 (LEU)&gt;, &lt;Atom 4 </span>\n",
       "<span style=\"color: #ff8700; text-decoration-color: #ff8700\">(CD1) of chain 0 residue 0 (LEU)&gt;, &lt;Atom 5 (CD2) of chain 0 residue 0 (LEU)&gt;]}!</span>\n",
       "</pre>\n"
      ],
      "text/plain": [
       "\u001b[1;7;38;5;208m Warning \u001b[0m\u001b[38;5;208m fixer.missingAtoms={<Residue 184 (LEU) of chain 0>: [<Atom 3 (CG) of chain 0 residue 0 (LEU)>, <Atom 4 \u001b[0m\n",
       "\u001b[38;5;208m(CD1) of chain 0 residue 0 (LEU)>, <Atom 5 (CD2) of chain 0 residue 0 (LEU)>]}!\u001b[0m\n"
      ]
     },
     "metadata": {},
     "output_type": "display_data"
    },
    {
     "data": {
      "text/html": [
       "<pre style=\"white-space:pre;overflow-x:auto;line-height:normal;font-family:Menlo,'DejaVu Sans Mono',consolas,'Courier New',monospace;margin:0px\">fixer.<span style=\"color: #808000; text-decoration-color: #808000\">missingTerminals</span>=<span style=\"font-weight: bold\">{&lt;</span><span style=\"color: #ff00ff; text-decoration-color: #ff00ff; font-weight: bold\">Residue</span><span style=\"color: #000000; text-decoration-color: #000000\"> </span><span style=\"color: #008080; text-decoration-color: #008080; font-weight: bold\">184</span><span style=\"color: #000000; text-decoration-color: #000000\"> </span><span style=\"color: #000000; text-decoration-color: #000000; font-weight: bold\">(</span><span style=\"color: #000000; text-decoration-color: #000000\">LEU</span><span style=\"color: #000000; text-decoration-color: #000000; font-weight: bold\">)</span><span style=\"color: #000000; text-decoration-color: #000000\"> of chain </span><span style=\"color: #008080; text-decoration-color: #008080; font-weight: bold\">0</span><span style=\"font-weight: bold\">&gt;</span>: <span style=\"font-weight: bold\">[</span><span style=\"color: #008000; text-decoration-color: #008000\">'OXT'</span><span style=\"font-weight: bold\">]}</span>\n",
       "</pre>\n"
      ],
      "text/plain": [
       "fixer.\u001b[33mmissingTerminals\u001b[0m=\u001b[1m{\u001b[0m\u001b[1m<\u001b[0m\u001b[1;95mResidue\u001b[0m\u001b[39m \u001b[0m\u001b[1;36m184\u001b[0m\u001b[39m \u001b[0m\u001b[1;39m(\u001b[0m\u001b[39mLEU\u001b[0m\u001b[1;39m)\u001b[0m\u001b[39m of chain \u001b[0m\u001b[1;36m0\u001b[0m\u001b[1m>\u001b[0m: \u001b[1m[\u001b[0m\u001b[32m'OXT'\u001b[0m\u001b[1m]\u001b[0m\u001b[1m}\u001b[0m\n"
      ]
     },
     "metadata": {},
     "output_type": "display_data"
    },
    {
     "data": {
      "text/html": [
       "<pre style=\"white-space:pre;overflow-x:auto;line-height:normal;font-family:Menlo,'DejaVu Sans Mono',consolas,'Courier New',monospace;margin:0px\"><span style=\"background-color: #d7af00; font-weight: bold\"> DISK </span> Writing <span style=\"color: #d7af00; text-decoration-color: #d7af00\">../aligned_files/m0642a/m0642a_apo-desolv-Hs.pdb</span>...\n",
       "</pre>\n"
      ],
      "text/plain": [
       "\u001b[1;7;38;5;178m DISK \u001b[0m Writing \u001b[38;5;178m../aligned_files/m0642a/m0642a_apo-desolv-Hs.pdb\u001b[0m...\n"
      ]
     },
     "metadata": {},
     "output_type": "display_data"
    },
    {
     "data": {
      "text/html": [
       "<pre style=\"white-space:pre;overflow-x:auto;line-height:normal;font-family:Menlo,'DejaVu Sans Mono',consolas,'Courier New',monospace;margin:0px\"><span style=\"background-color: #ff8700; font-weight: bold\"> Warning </span><span style=\"color: #ff8700; text-decoration-color: #ff8700\"> fixer.missingAtoms={&lt;Residue 184 (LEU) of chain 0&gt;: [&lt;Atom 3 (CG) of chain 0 residue 0 (LEU)&gt;, &lt;Atom 4 </span>\n",
       "<span style=\"color: #ff8700; text-decoration-color: #ff8700\">(CD1) of chain 0 residue 0 (LEU)&gt;, &lt;Atom 5 (CD2) of chain 0 residue 0 (LEU)&gt;]}!</span>\n",
       "</pre>\n"
      ],
      "text/plain": [
       "\u001b[1;7;38;5;208m Warning \u001b[0m\u001b[38;5;208m fixer.missingAtoms={<Residue 184 (LEU) of chain 0>: [<Atom 3 (CG) of chain 0 residue 0 (LEU)>, <Atom 4 \u001b[0m\n",
       "\u001b[38;5;208m(CD1) of chain 0 residue 0 (LEU)>, <Atom 5 (CD2) of chain 0 residue 0 (LEU)>]}!\u001b[0m\n"
      ]
     },
     "metadata": {},
     "output_type": "display_data"
    },
    {
     "data": {
      "text/html": [
       "<pre style=\"white-space:pre;overflow-x:auto;line-height:normal;font-family:Menlo,'DejaVu Sans Mono',consolas,'Courier New',monospace;margin:0px\">fixer.<span style=\"color: #808000; text-decoration-color: #808000\">missingTerminals</span>=<span style=\"font-weight: bold\">{&lt;</span><span style=\"color: #ff00ff; text-decoration-color: #ff00ff; font-weight: bold\">Residue</span><span style=\"color: #000000; text-decoration-color: #000000\"> </span><span style=\"color: #008080; text-decoration-color: #008080; font-weight: bold\">184</span><span style=\"color: #000000; text-decoration-color: #000000\"> </span><span style=\"color: #000000; text-decoration-color: #000000; font-weight: bold\">(</span><span style=\"color: #000000; text-decoration-color: #000000\">LEU</span><span style=\"color: #000000; text-decoration-color: #000000; font-weight: bold\">)</span><span style=\"color: #000000; text-decoration-color: #000000\"> of chain </span><span style=\"color: #008080; text-decoration-color: #008080; font-weight: bold\">0</span><span style=\"font-weight: bold\">&gt;</span>: <span style=\"font-weight: bold\">[</span><span style=\"color: #008000; text-decoration-color: #008000\">'OXT'</span><span style=\"font-weight: bold\">]}</span>\n",
       "</pre>\n"
      ],
      "text/plain": [
       "fixer.\u001b[33mmissingTerminals\u001b[0m=\u001b[1m{\u001b[0m\u001b[1m<\u001b[0m\u001b[1;95mResidue\u001b[0m\u001b[39m \u001b[0m\u001b[1;36m184\u001b[0m\u001b[39m \u001b[0m\u001b[1;39m(\u001b[0m\u001b[39mLEU\u001b[0m\u001b[1;39m)\u001b[0m\u001b[39m of chain \u001b[0m\u001b[1;36m0\u001b[0m\u001b[1m>\u001b[0m: \u001b[1m[\u001b[0m\u001b[32m'OXT'\u001b[0m\u001b[1m]\u001b[0m\u001b[1m}\u001b[0m\n"
      ]
     },
     "metadata": {},
     "output_type": "display_data"
    },
    {
     "data": {
      "text/html": [
       "<pre style=\"white-space:pre;overflow-x:auto;line-height:normal;font-family:Menlo,'DejaVu Sans Mono',consolas,'Courier New',monospace;margin:0px\"><span style=\"background-color: #d7af00; font-weight: bold\"> DISK </span> Writing <span style=\"color: #d7af00; text-decoration-color: #d7af00\">../aligned_files/m0658a/m0658a_apo-desolv-Hs.pdb</span>...\n",
       "</pre>\n"
      ],
      "text/plain": [
       "\u001b[1;7;38;5;178m DISK \u001b[0m Writing \u001b[38;5;178m../aligned_files/m0658a/m0658a_apo-desolv-Hs.pdb\u001b[0m...\n"
      ]
     },
     "metadata": {},
     "output_type": "display_data"
    },
    {
     "data": {
      "text/html": [
       "<pre style=\"white-space:pre;overflow-x:auto;line-height:normal;font-family:Menlo,'DejaVu Sans Mono',consolas,'Courier New',monospace;margin:0px\"><span style=\"background-color: #ff8700; font-weight: bold\"> Warning </span><span style=\"color: #ff8700; text-decoration-color: #ff8700\"> fixer.missingAtoms={&lt;Residue 184 (LEU) of chain 0&gt;: [&lt;Atom 3 (CG) of chain 0 residue 0 (LEU)&gt;, &lt;Atom 4 </span>\n",
       "<span style=\"color: #ff8700; text-decoration-color: #ff8700\">(CD1) of chain 0 residue 0 (LEU)&gt;, &lt;Atom 5 (CD2) of chain 0 residue 0 (LEU)&gt;]}!</span>\n",
       "</pre>\n"
      ],
      "text/plain": [
       "\u001b[1;7;38;5;208m Warning \u001b[0m\u001b[38;5;208m fixer.missingAtoms={<Residue 184 (LEU) of chain 0>: [<Atom 3 (CG) of chain 0 residue 0 (LEU)>, <Atom 4 \u001b[0m\n",
       "\u001b[38;5;208m(CD1) of chain 0 residue 0 (LEU)>, <Atom 5 (CD2) of chain 0 residue 0 (LEU)>]}!\u001b[0m\n"
      ]
     },
     "metadata": {},
     "output_type": "display_data"
    },
    {
     "data": {
      "text/html": [
       "<pre style=\"white-space:pre;overflow-x:auto;line-height:normal;font-family:Menlo,'DejaVu Sans Mono',consolas,'Courier New',monospace;margin:0px\">fixer.<span style=\"color: #808000; text-decoration-color: #808000\">missingTerminals</span>=<span style=\"font-weight: bold\">{&lt;</span><span style=\"color: #ff00ff; text-decoration-color: #ff00ff; font-weight: bold\">Residue</span><span style=\"color: #000000; text-decoration-color: #000000\"> </span><span style=\"color: #008080; text-decoration-color: #008080; font-weight: bold\">184</span><span style=\"color: #000000; text-decoration-color: #000000\"> </span><span style=\"color: #000000; text-decoration-color: #000000; font-weight: bold\">(</span><span style=\"color: #000000; text-decoration-color: #000000\">LEU</span><span style=\"color: #000000; text-decoration-color: #000000; font-weight: bold\">)</span><span style=\"color: #000000; text-decoration-color: #000000\"> of chain </span><span style=\"color: #008080; text-decoration-color: #008080; font-weight: bold\">0</span><span style=\"font-weight: bold\">&gt;</span>: <span style=\"font-weight: bold\">[</span><span style=\"color: #008000; text-decoration-color: #008000\">'OXT'</span><span style=\"font-weight: bold\">]}</span>\n",
       "</pre>\n"
      ],
      "text/plain": [
       "fixer.\u001b[33mmissingTerminals\u001b[0m=\u001b[1m{\u001b[0m\u001b[1m<\u001b[0m\u001b[1;95mResidue\u001b[0m\u001b[39m \u001b[0m\u001b[1;36m184\u001b[0m\u001b[39m \u001b[0m\u001b[1;39m(\u001b[0m\u001b[39mLEU\u001b[0m\u001b[1;39m)\u001b[0m\u001b[39m of chain \u001b[0m\u001b[1;36m0\u001b[0m\u001b[1m>\u001b[0m: \u001b[1m[\u001b[0m\u001b[32m'OXT'\u001b[0m\u001b[1m]\u001b[0m\u001b[1m}\u001b[0m\n"
      ]
     },
     "metadata": {},
     "output_type": "display_data"
    },
    {
     "data": {
      "text/html": [
       "<pre style=\"white-space:pre;overflow-x:auto;line-height:normal;font-family:Menlo,'DejaVu Sans Mono',consolas,'Courier New',monospace;margin:0px\"><span style=\"background-color: #d7af00; font-weight: bold\"> DISK </span> Writing <span style=\"color: #d7af00; text-decoration-color: #d7af00\">../aligned_files/m0659a/m0659a_apo-desolv-Hs.pdb</span>...\n",
       "</pre>\n"
      ],
      "text/plain": [
       "\u001b[1;7;38;5;178m DISK \u001b[0m Writing \u001b[38;5;178m../aligned_files/m0659a/m0659a_apo-desolv-Hs.pdb\u001b[0m...\n"
      ]
     },
     "metadata": {},
     "output_type": "display_data"
    },
    {
     "data": {
      "text/html": [
       "<pre style=\"white-space:pre;overflow-x:auto;line-height:normal;font-family:Menlo,'DejaVu Sans Mono',consolas,'Courier New',monospace;margin:0px\"><span style=\"background-color: #ff8700; font-weight: bold\"> Warning </span><span style=\"color: #ff8700; text-decoration-color: #ff8700\"> fixer.missingAtoms={&lt;Residue 184 (LEU) of chain 0&gt;: [&lt;Atom 3 (CG) of chain 0 residue 0 (LEU)&gt;, &lt;Atom 4 </span>\n",
       "<span style=\"color: #ff8700; text-decoration-color: #ff8700\">(CD1) of chain 0 residue 0 (LEU)&gt;, &lt;Atom 5 (CD2) of chain 0 residue 0 (LEU)&gt;]}!</span>\n",
       "</pre>\n"
      ],
      "text/plain": [
       "\u001b[1;7;38;5;208m Warning \u001b[0m\u001b[38;5;208m fixer.missingAtoms={<Residue 184 (LEU) of chain 0>: [<Atom 3 (CG) of chain 0 residue 0 (LEU)>, <Atom 4 \u001b[0m\n",
       "\u001b[38;5;208m(CD1) of chain 0 residue 0 (LEU)>, <Atom 5 (CD2) of chain 0 residue 0 (LEU)>]}!\u001b[0m\n"
      ]
     },
     "metadata": {},
     "output_type": "display_data"
    },
    {
     "data": {
      "text/html": [
       "<pre style=\"white-space:pre;overflow-x:auto;line-height:normal;font-family:Menlo,'DejaVu Sans Mono',consolas,'Courier New',monospace;margin:0px\">fixer.<span style=\"color: #808000; text-decoration-color: #808000\">missingTerminals</span>=<span style=\"font-weight: bold\">{&lt;</span><span style=\"color: #ff00ff; text-decoration-color: #ff00ff; font-weight: bold\">Residue</span><span style=\"color: #000000; text-decoration-color: #000000\"> </span><span style=\"color: #008080; text-decoration-color: #008080; font-weight: bold\">184</span><span style=\"color: #000000; text-decoration-color: #000000\"> </span><span style=\"color: #000000; text-decoration-color: #000000; font-weight: bold\">(</span><span style=\"color: #000000; text-decoration-color: #000000\">LEU</span><span style=\"color: #000000; text-decoration-color: #000000; font-weight: bold\">)</span><span style=\"color: #000000; text-decoration-color: #000000\"> of chain </span><span style=\"color: #008080; text-decoration-color: #008080; font-weight: bold\">0</span><span style=\"font-weight: bold\">&gt;</span>: <span style=\"font-weight: bold\">[</span><span style=\"color: #008000; text-decoration-color: #008000\">'OXT'</span><span style=\"font-weight: bold\">]}</span>\n",
       "</pre>\n"
      ],
      "text/plain": [
       "fixer.\u001b[33mmissingTerminals\u001b[0m=\u001b[1m{\u001b[0m\u001b[1m<\u001b[0m\u001b[1;95mResidue\u001b[0m\u001b[39m \u001b[0m\u001b[1;36m184\u001b[0m\u001b[39m \u001b[0m\u001b[1;39m(\u001b[0m\u001b[39mLEU\u001b[0m\u001b[1;39m)\u001b[0m\u001b[39m of chain \u001b[0m\u001b[1;36m0\u001b[0m\u001b[1m>\u001b[0m: \u001b[1m[\u001b[0m\u001b[32m'OXT'\u001b[0m\u001b[1m]\u001b[0m\u001b[1m}\u001b[0m\n"
      ]
     },
     "metadata": {},
     "output_type": "display_data"
    },
    {
     "data": {
      "text/html": [
       "<pre style=\"white-space:pre;overflow-x:auto;line-height:normal;font-family:Menlo,'DejaVu Sans Mono',consolas,'Courier New',monospace;margin:0px\"><span style=\"background-color: #d7af00; font-weight: bold\"> DISK </span> Writing <span style=\"color: #d7af00; text-decoration-color: #d7af00\">../aligned_files/m0664a/m0664a_apo-desolv-Hs.pdb</span>...\n",
       "</pre>\n"
      ],
      "text/plain": [
       "\u001b[1;7;38;5;178m DISK \u001b[0m Writing \u001b[38;5;178m../aligned_files/m0664a/m0664a_apo-desolv-Hs.pdb\u001b[0m...\n"
      ]
     },
     "metadata": {},
     "output_type": "display_data"
    },
    {
     "data": {
      "text/html": [
       "<pre style=\"white-space:pre;overflow-x:auto;line-height:normal;font-family:Menlo,'DejaVu Sans Mono',consolas,'Courier New',monospace;margin:0px\"><span style=\"background-color: #ff8700; font-weight: bold\"> Warning </span><span style=\"color: #ff8700; text-decoration-color: #ff8700\"> fixer.missingAtoms={&lt;Residue 184 (LEU) of chain 0&gt;: [&lt;Atom 3 (CG) of chain 0 residue 0 (LEU)&gt;, &lt;Atom 4 </span>\n",
       "<span style=\"color: #ff8700; text-decoration-color: #ff8700\">(CD1) of chain 0 residue 0 (LEU)&gt;, &lt;Atom 5 (CD2) of chain 0 residue 0 (LEU)&gt;]}!</span>\n",
       "</pre>\n"
      ],
      "text/plain": [
       "\u001b[1;7;38;5;208m Warning \u001b[0m\u001b[38;5;208m fixer.missingAtoms={<Residue 184 (LEU) of chain 0>: [<Atom 3 (CG) of chain 0 residue 0 (LEU)>, <Atom 4 \u001b[0m\n",
       "\u001b[38;5;208m(CD1) of chain 0 residue 0 (LEU)>, <Atom 5 (CD2) of chain 0 residue 0 (LEU)>]}!\u001b[0m\n"
      ]
     },
     "metadata": {},
     "output_type": "display_data"
    },
    {
     "data": {
      "text/html": [
       "<pre style=\"white-space:pre;overflow-x:auto;line-height:normal;font-family:Menlo,'DejaVu Sans Mono',consolas,'Courier New',monospace;margin:0px\">fixer.<span style=\"color: #808000; text-decoration-color: #808000\">missingTerminals</span>=<span style=\"font-weight: bold\">{&lt;</span><span style=\"color: #ff00ff; text-decoration-color: #ff00ff; font-weight: bold\">Residue</span><span style=\"color: #000000; text-decoration-color: #000000\"> </span><span style=\"color: #008080; text-decoration-color: #008080; font-weight: bold\">184</span><span style=\"color: #000000; text-decoration-color: #000000\"> </span><span style=\"color: #000000; text-decoration-color: #000000; font-weight: bold\">(</span><span style=\"color: #000000; text-decoration-color: #000000\">LEU</span><span style=\"color: #000000; text-decoration-color: #000000; font-weight: bold\">)</span><span style=\"color: #000000; text-decoration-color: #000000\"> of chain </span><span style=\"color: #008080; text-decoration-color: #008080; font-weight: bold\">0</span><span style=\"font-weight: bold\">&gt;</span>: <span style=\"font-weight: bold\">[</span><span style=\"color: #008000; text-decoration-color: #008000\">'OXT'</span><span style=\"font-weight: bold\">]}</span>\n",
       "</pre>\n"
      ],
      "text/plain": [
       "fixer.\u001b[33mmissingTerminals\u001b[0m=\u001b[1m{\u001b[0m\u001b[1m<\u001b[0m\u001b[1;95mResidue\u001b[0m\u001b[39m \u001b[0m\u001b[1;36m184\u001b[0m\u001b[39m \u001b[0m\u001b[1;39m(\u001b[0m\u001b[39mLEU\u001b[0m\u001b[1;39m)\u001b[0m\u001b[39m of chain \u001b[0m\u001b[1;36m0\u001b[0m\u001b[1m>\u001b[0m: \u001b[1m[\u001b[0m\u001b[32m'OXT'\u001b[0m\u001b[1m]\u001b[0m\u001b[1m}\u001b[0m\n"
      ]
     },
     "metadata": {},
     "output_type": "display_data"
    },
    {
     "data": {
      "text/html": [
       "<pre style=\"white-space:pre;overflow-x:auto;line-height:normal;font-family:Menlo,'DejaVu Sans Mono',consolas,'Courier New',monospace;margin:0px\"><span style=\"background-color: #d7af00; font-weight: bold\"> DISK </span> Writing <span style=\"color: #d7af00; text-decoration-color: #d7af00\">../aligned_files/m0666a/m0666a_apo-desolv-Hs.pdb</span>...\n",
       "</pre>\n"
      ],
      "text/plain": [
       "\u001b[1;7;38;5;178m DISK \u001b[0m Writing \u001b[38;5;178m../aligned_files/m0666a/m0666a_apo-desolv-Hs.pdb\u001b[0m...\n"
      ]
     },
     "metadata": {},
     "output_type": "display_data"
    },
    {
     "data": {
      "text/html": [
       "<pre style=\"white-space:pre;overflow-x:auto;line-height:normal;font-family:Menlo,'DejaVu Sans Mono',consolas,'Courier New',monospace;margin:0px\"><span style=\"background-color: #ff8700; font-weight: bold\"> Warning </span><span style=\"color: #ff8700; text-decoration-color: #ff8700\"> fixer.missingAtoms={&lt;Residue 184 (LEU) of chain 0&gt;: [&lt;Atom 3 (CG) of chain 0 residue 0 (LEU)&gt;, &lt;Atom 4 </span>\n",
       "<span style=\"color: #ff8700; text-decoration-color: #ff8700\">(CD1) of chain 0 residue 0 (LEU)&gt;, &lt;Atom 5 (CD2) of chain 0 residue 0 (LEU)&gt;]}!</span>\n",
       "</pre>\n"
      ],
      "text/plain": [
       "\u001b[1;7;38;5;208m Warning \u001b[0m\u001b[38;5;208m fixer.missingAtoms={<Residue 184 (LEU) of chain 0>: [<Atom 3 (CG) of chain 0 residue 0 (LEU)>, <Atom 4 \u001b[0m\n",
       "\u001b[38;5;208m(CD1) of chain 0 residue 0 (LEU)>, <Atom 5 (CD2) of chain 0 residue 0 (LEU)>]}!\u001b[0m\n"
      ]
     },
     "metadata": {},
     "output_type": "display_data"
    },
    {
     "data": {
      "text/html": [
       "<pre style=\"white-space:pre;overflow-x:auto;line-height:normal;font-family:Menlo,'DejaVu Sans Mono',consolas,'Courier New',monospace;margin:0px\">fixer.<span style=\"color: #808000; text-decoration-color: #808000\">missingTerminals</span>=<span style=\"font-weight: bold\">{&lt;</span><span style=\"color: #ff00ff; text-decoration-color: #ff00ff; font-weight: bold\">Residue</span><span style=\"color: #000000; text-decoration-color: #000000\"> </span><span style=\"color: #008080; text-decoration-color: #008080; font-weight: bold\">184</span><span style=\"color: #000000; text-decoration-color: #000000\"> </span><span style=\"color: #000000; text-decoration-color: #000000; font-weight: bold\">(</span><span style=\"color: #000000; text-decoration-color: #000000\">LEU</span><span style=\"color: #000000; text-decoration-color: #000000; font-weight: bold\">)</span><span style=\"color: #000000; text-decoration-color: #000000\"> of chain </span><span style=\"color: #008080; text-decoration-color: #008080; font-weight: bold\">0</span><span style=\"font-weight: bold\">&gt;</span>: <span style=\"font-weight: bold\">[</span><span style=\"color: #008000; text-decoration-color: #008000\">'OXT'</span><span style=\"font-weight: bold\">]}</span>\n",
       "</pre>\n"
      ],
      "text/plain": [
       "fixer.\u001b[33mmissingTerminals\u001b[0m=\u001b[1m{\u001b[0m\u001b[1m<\u001b[0m\u001b[1;95mResidue\u001b[0m\u001b[39m \u001b[0m\u001b[1;36m184\u001b[0m\u001b[39m \u001b[0m\u001b[1;39m(\u001b[0m\u001b[39mLEU\u001b[0m\u001b[1;39m)\u001b[0m\u001b[39m of chain \u001b[0m\u001b[1;36m0\u001b[0m\u001b[1m>\u001b[0m: \u001b[1m[\u001b[0m\u001b[32m'OXT'\u001b[0m\u001b[1m]\u001b[0m\u001b[1m}\u001b[0m\n"
      ]
     },
     "metadata": {},
     "output_type": "display_data"
    },
    {
     "data": {
      "text/html": [
       "<pre style=\"white-space:pre;overflow-x:auto;line-height:normal;font-family:Menlo,'DejaVu Sans Mono',consolas,'Courier New',monospace;margin:0px\"><span style=\"background-color: #d7af00; font-weight: bold\"> DISK </span> Writing <span style=\"color: #d7af00; text-decoration-color: #d7af00\">../aligned_files/m0677a/m0677a_apo-desolv-Hs.pdb</span>...\n",
       "</pre>\n"
      ],
      "text/plain": [
       "\u001b[1;7;38;5;178m DISK \u001b[0m Writing \u001b[38;5;178m../aligned_files/m0677a/m0677a_apo-desolv-Hs.pdb\u001b[0m...\n"
      ]
     },
     "metadata": {},
     "output_type": "display_data"
    },
    {
     "data": {
      "text/html": [
       "<pre style=\"white-space:pre;overflow-x:auto;line-height:normal;font-family:Menlo,'DejaVu Sans Mono',consolas,'Courier New',monospace;margin:0px\"><span style=\"background-color: #ff8700; font-weight: bold\"> Warning </span><span style=\"color: #ff8700; text-decoration-color: #ff8700\"> fixer.missingAtoms={&lt;Residue 184 (LEU) of chain 0&gt;: [&lt;Atom 3 (CG) of chain 0 residue 0 (LEU)&gt;, &lt;Atom 4 </span>\n",
       "<span style=\"color: #ff8700; text-decoration-color: #ff8700\">(CD1) of chain 0 residue 0 (LEU)&gt;, &lt;Atom 5 (CD2) of chain 0 residue 0 (LEU)&gt;]}!</span>\n",
       "</pre>\n"
      ],
      "text/plain": [
       "\u001b[1;7;38;5;208m Warning \u001b[0m\u001b[38;5;208m fixer.missingAtoms={<Residue 184 (LEU) of chain 0>: [<Atom 3 (CG) of chain 0 residue 0 (LEU)>, <Atom 4 \u001b[0m\n",
       "\u001b[38;5;208m(CD1) of chain 0 residue 0 (LEU)>, <Atom 5 (CD2) of chain 0 residue 0 (LEU)>]}!\u001b[0m\n"
      ]
     },
     "metadata": {},
     "output_type": "display_data"
    },
    {
     "data": {
      "text/html": [
       "<pre style=\"white-space:pre;overflow-x:auto;line-height:normal;font-family:Menlo,'DejaVu Sans Mono',consolas,'Courier New',monospace;margin:0px\">fixer.<span style=\"color: #808000; text-decoration-color: #808000\">missingTerminals</span>=<span style=\"font-weight: bold\">{&lt;</span><span style=\"color: #ff00ff; text-decoration-color: #ff00ff; font-weight: bold\">Residue</span><span style=\"color: #000000; text-decoration-color: #000000\"> </span><span style=\"color: #008080; text-decoration-color: #008080; font-weight: bold\">184</span><span style=\"color: #000000; text-decoration-color: #000000\"> </span><span style=\"color: #000000; text-decoration-color: #000000; font-weight: bold\">(</span><span style=\"color: #000000; text-decoration-color: #000000\">LEU</span><span style=\"color: #000000; text-decoration-color: #000000; font-weight: bold\">)</span><span style=\"color: #000000; text-decoration-color: #000000\"> of chain </span><span style=\"color: #008080; text-decoration-color: #008080; font-weight: bold\">0</span><span style=\"font-weight: bold\">&gt;</span>: <span style=\"font-weight: bold\">[</span><span style=\"color: #008000; text-decoration-color: #008000\">'OXT'</span><span style=\"font-weight: bold\">]}</span>\n",
       "</pre>\n"
      ],
      "text/plain": [
       "fixer.\u001b[33mmissingTerminals\u001b[0m=\u001b[1m{\u001b[0m\u001b[1m<\u001b[0m\u001b[1;95mResidue\u001b[0m\u001b[39m \u001b[0m\u001b[1;36m184\u001b[0m\u001b[39m \u001b[0m\u001b[1;39m(\u001b[0m\u001b[39mLEU\u001b[0m\u001b[1;39m)\u001b[0m\u001b[39m of chain \u001b[0m\u001b[1;36m0\u001b[0m\u001b[1m>\u001b[0m: \u001b[1m[\u001b[0m\u001b[32m'OXT'\u001b[0m\u001b[1m]\u001b[0m\u001b[1m}\u001b[0m\n"
      ]
     },
     "metadata": {},
     "output_type": "display_data"
    },
    {
     "data": {
      "text/html": [
       "<pre style=\"white-space:pre;overflow-x:auto;line-height:normal;font-family:Menlo,'DejaVu Sans Mono',consolas,'Courier New',monospace;margin:0px\"><span style=\"background-color: #d7af00; font-weight: bold\"> DISK </span> Writing <span style=\"color: #d7af00; text-decoration-color: #d7af00\">../aligned_files/m0678a/m0678a_apo-desolv-Hs.pdb</span>...\n",
       "</pre>\n"
      ],
      "text/plain": [
       "\u001b[1;7;38;5;178m DISK \u001b[0m Writing \u001b[38;5;178m../aligned_files/m0678a/m0678a_apo-desolv-Hs.pdb\u001b[0m...\n"
      ]
     },
     "metadata": {},
     "output_type": "display_data"
    },
    {
     "data": {
      "text/html": [
       "<pre style=\"white-space:pre;overflow-x:auto;line-height:normal;font-family:Menlo,'DejaVu Sans Mono',consolas,'Courier New',monospace;margin:0px\"><span style=\"background-color: #ff8700; font-weight: bold\"> Warning </span><span style=\"color: #ff8700; text-decoration-color: #ff8700\"> fixer.missingAtoms={&lt;Residue 184 (LEU) of chain 0&gt;: [&lt;Atom 3 (CG) of chain 0 residue 0 (LEU)&gt;, &lt;Atom 4 </span>\n",
       "<span style=\"color: #ff8700; text-decoration-color: #ff8700\">(CD1) of chain 0 residue 0 (LEU)&gt;, &lt;Atom 5 (CD2) of chain 0 residue 0 (LEU)&gt;]}!</span>\n",
       "</pre>\n"
      ],
      "text/plain": [
       "\u001b[1;7;38;5;208m Warning \u001b[0m\u001b[38;5;208m fixer.missingAtoms={<Residue 184 (LEU) of chain 0>: [<Atom 3 (CG) of chain 0 residue 0 (LEU)>, <Atom 4 \u001b[0m\n",
       "\u001b[38;5;208m(CD1) of chain 0 residue 0 (LEU)>, <Atom 5 (CD2) of chain 0 residue 0 (LEU)>]}!\u001b[0m\n"
      ]
     },
     "metadata": {},
     "output_type": "display_data"
    },
    {
     "data": {
      "text/html": [
       "<pre style=\"white-space:pre;overflow-x:auto;line-height:normal;font-family:Menlo,'DejaVu Sans Mono',consolas,'Courier New',monospace;margin:0px\">fixer.<span style=\"color: #808000; text-decoration-color: #808000\">missingTerminals</span>=<span style=\"font-weight: bold\">{&lt;</span><span style=\"color: #ff00ff; text-decoration-color: #ff00ff; font-weight: bold\">Residue</span><span style=\"color: #000000; text-decoration-color: #000000\"> </span><span style=\"color: #008080; text-decoration-color: #008080; font-weight: bold\">184</span><span style=\"color: #000000; text-decoration-color: #000000\"> </span><span style=\"color: #000000; text-decoration-color: #000000; font-weight: bold\">(</span><span style=\"color: #000000; text-decoration-color: #000000\">LEU</span><span style=\"color: #000000; text-decoration-color: #000000; font-weight: bold\">)</span><span style=\"color: #000000; text-decoration-color: #000000\"> of chain </span><span style=\"color: #008080; text-decoration-color: #008080; font-weight: bold\">0</span><span style=\"font-weight: bold\">&gt;</span>: <span style=\"font-weight: bold\">[</span><span style=\"color: #008000; text-decoration-color: #008000\">'OXT'</span><span style=\"font-weight: bold\">]}</span>\n",
       "</pre>\n"
      ],
      "text/plain": [
       "fixer.\u001b[33mmissingTerminals\u001b[0m=\u001b[1m{\u001b[0m\u001b[1m<\u001b[0m\u001b[1;95mResidue\u001b[0m\u001b[39m \u001b[0m\u001b[1;36m184\u001b[0m\u001b[39m \u001b[0m\u001b[1;39m(\u001b[0m\u001b[39mLEU\u001b[0m\u001b[1;39m)\u001b[0m\u001b[39m of chain \u001b[0m\u001b[1;36m0\u001b[0m\u001b[1m>\u001b[0m: \u001b[1m[\u001b[0m\u001b[32m'OXT'\u001b[0m\u001b[1m]\u001b[0m\u001b[1m}\u001b[0m\n"
      ]
     },
     "metadata": {},
     "output_type": "display_data"
    },
    {
     "data": {
      "text/html": [
       "<pre style=\"white-space:pre;overflow-x:auto;line-height:normal;font-family:Menlo,'DejaVu Sans Mono',consolas,'Courier New',monospace;margin:0px\"><span style=\"background-color: #d7af00; font-weight: bold\"> DISK </span> Writing <span style=\"color: #d7af00; text-decoration-color: #d7af00\">../aligned_files/m0717a/m0717a_apo-desolv-Hs.pdb</span>...\n",
       "</pre>\n"
      ],
      "text/plain": [
       "\u001b[1;7;38;5;178m DISK \u001b[0m Writing \u001b[38;5;178m../aligned_files/m0717a/m0717a_apo-desolv-Hs.pdb\u001b[0m...\n"
      ]
     },
     "metadata": {},
     "output_type": "display_data"
    },
    {
     "data": {
      "text/html": [
       "<pre style=\"white-space:pre;overflow-x:auto;line-height:normal;font-family:Menlo,'DejaVu Sans Mono',consolas,'Courier New',monospace;margin:0px\"><span style=\"background-color: #ff8700; font-weight: bold\"> Warning </span><span style=\"color: #ff8700; text-decoration-color: #ff8700\"> fixer.missingAtoms={&lt;Residue 184 (LEU) of chain 0&gt;: [&lt;Atom 3 (CG) of chain 0 residue 0 (LEU)&gt;, &lt;Atom 4 </span>\n",
       "<span style=\"color: #ff8700; text-decoration-color: #ff8700\">(CD1) of chain 0 residue 0 (LEU)&gt;, &lt;Atom 5 (CD2) of chain 0 residue 0 (LEU)&gt;]}!</span>\n",
       "</pre>\n"
      ],
      "text/plain": [
       "\u001b[1;7;38;5;208m Warning \u001b[0m\u001b[38;5;208m fixer.missingAtoms={<Residue 184 (LEU) of chain 0>: [<Atom 3 (CG) of chain 0 residue 0 (LEU)>, <Atom 4 \u001b[0m\n",
       "\u001b[38;5;208m(CD1) of chain 0 residue 0 (LEU)>, <Atom 5 (CD2) of chain 0 residue 0 (LEU)>]}!\u001b[0m\n"
      ]
     },
     "metadata": {},
     "output_type": "display_data"
    },
    {
     "data": {
      "text/html": [
       "<pre style=\"white-space:pre;overflow-x:auto;line-height:normal;font-family:Menlo,'DejaVu Sans Mono',consolas,'Courier New',monospace;margin:0px\">fixer.<span style=\"color: #808000; text-decoration-color: #808000\">missingTerminals</span>=<span style=\"font-weight: bold\">{&lt;</span><span style=\"color: #ff00ff; text-decoration-color: #ff00ff; font-weight: bold\">Residue</span><span style=\"color: #000000; text-decoration-color: #000000\"> </span><span style=\"color: #008080; text-decoration-color: #008080; font-weight: bold\">184</span><span style=\"color: #000000; text-decoration-color: #000000\"> </span><span style=\"color: #000000; text-decoration-color: #000000; font-weight: bold\">(</span><span style=\"color: #000000; text-decoration-color: #000000\">LEU</span><span style=\"color: #000000; text-decoration-color: #000000; font-weight: bold\">)</span><span style=\"color: #000000; text-decoration-color: #000000\"> of chain </span><span style=\"color: #008080; text-decoration-color: #008080; font-weight: bold\">0</span><span style=\"font-weight: bold\">&gt;</span>: <span style=\"font-weight: bold\">[</span><span style=\"color: #008000; text-decoration-color: #008000\">'OXT'</span><span style=\"font-weight: bold\">]}</span>\n",
       "</pre>\n"
      ],
      "text/plain": [
       "fixer.\u001b[33mmissingTerminals\u001b[0m=\u001b[1m{\u001b[0m\u001b[1m<\u001b[0m\u001b[1;95mResidue\u001b[0m\u001b[39m \u001b[0m\u001b[1;36m184\u001b[0m\u001b[39m \u001b[0m\u001b[1;39m(\u001b[0m\u001b[39mLEU\u001b[0m\u001b[1;39m)\u001b[0m\u001b[39m of chain \u001b[0m\u001b[1;36m0\u001b[0m\u001b[1m>\u001b[0m: \u001b[1m[\u001b[0m\u001b[32m'OXT'\u001b[0m\u001b[1m]\u001b[0m\u001b[1m}\u001b[0m\n"
      ]
     },
     "metadata": {},
     "output_type": "display_data"
    },
    {
     "data": {
      "text/html": [
       "<pre style=\"white-space:pre;overflow-x:auto;line-height:normal;font-family:Menlo,'DejaVu Sans Mono',consolas,'Courier New',monospace;margin:0px\"><span style=\"background-color: #d7af00; font-weight: bold\"> DISK </span> Writing <span style=\"color: #d7af00; text-decoration-color: #d7af00\">../aligned_files/m0718a/m0718a_apo-desolv-Hs.pdb</span>...\n",
       "</pre>\n"
      ],
      "text/plain": [
       "\u001b[1;7;38;5;178m DISK \u001b[0m Writing \u001b[38;5;178m../aligned_files/m0718a/m0718a_apo-desolv-Hs.pdb\u001b[0m...\n"
      ]
     },
     "metadata": {},
     "output_type": "display_data"
    },
    {
     "data": {
      "text/html": [
       "<pre style=\"white-space:pre;overflow-x:auto;line-height:normal;font-family:Menlo,'DejaVu Sans Mono',consolas,'Courier New',monospace;margin:0px\"><span style=\"background-color: #ff8700; font-weight: bold\"> Warning </span><span style=\"color: #ff8700; text-decoration-color: #ff8700\"> fixer.missingAtoms={&lt;Residue 184 (LEU) of chain 0&gt;: [&lt;Atom 3 (CG) of chain 0 residue 0 (LEU)&gt;, &lt;Atom 4 </span>\n",
       "<span style=\"color: #ff8700; text-decoration-color: #ff8700\">(CD1) of chain 0 residue 0 (LEU)&gt;, &lt;Atom 5 (CD2) of chain 0 residue 0 (LEU)&gt;]}!</span>\n",
       "</pre>\n"
      ],
      "text/plain": [
       "\u001b[1;7;38;5;208m Warning \u001b[0m\u001b[38;5;208m fixer.missingAtoms={<Residue 184 (LEU) of chain 0>: [<Atom 3 (CG) of chain 0 residue 0 (LEU)>, <Atom 4 \u001b[0m\n",
       "\u001b[38;5;208m(CD1) of chain 0 residue 0 (LEU)>, <Atom 5 (CD2) of chain 0 residue 0 (LEU)>]}!\u001b[0m\n"
      ]
     },
     "metadata": {},
     "output_type": "display_data"
    },
    {
     "data": {
      "text/html": [
       "<pre style=\"white-space:pre;overflow-x:auto;line-height:normal;font-family:Menlo,'DejaVu Sans Mono',consolas,'Courier New',monospace;margin:0px\">fixer.<span style=\"color: #808000; text-decoration-color: #808000\">missingTerminals</span>=<span style=\"font-weight: bold\">{&lt;</span><span style=\"color: #ff00ff; text-decoration-color: #ff00ff; font-weight: bold\">Residue</span><span style=\"color: #000000; text-decoration-color: #000000\"> </span><span style=\"color: #008080; text-decoration-color: #008080; font-weight: bold\">184</span><span style=\"color: #000000; text-decoration-color: #000000\"> </span><span style=\"color: #000000; text-decoration-color: #000000; font-weight: bold\">(</span><span style=\"color: #000000; text-decoration-color: #000000\">LEU</span><span style=\"color: #000000; text-decoration-color: #000000; font-weight: bold\">)</span><span style=\"color: #000000; text-decoration-color: #000000\"> of chain </span><span style=\"color: #008080; text-decoration-color: #008080; font-weight: bold\">0</span><span style=\"font-weight: bold\">&gt;</span>: <span style=\"font-weight: bold\">[</span><span style=\"color: #008000; text-decoration-color: #008000\">'OXT'</span><span style=\"font-weight: bold\">]}</span>\n",
       "</pre>\n"
      ],
      "text/plain": [
       "fixer.\u001b[33mmissingTerminals\u001b[0m=\u001b[1m{\u001b[0m\u001b[1m<\u001b[0m\u001b[1;95mResidue\u001b[0m\u001b[39m \u001b[0m\u001b[1;36m184\u001b[0m\u001b[39m \u001b[0m\u001b[1;39m(\u001b[0m\u001b[39mLEU\u001b[0m\u001b[1;39m)\u001b[0m\u001b[39m of chain \u001b[0m\u001b[1;36m0\u001b[0m\u001b[1m>\u001b[0m: \u001b[1m[\u001b[0m\u001b[32m'OXT'\u001b[0m\u001b[1m]\u001b[0m\u001b[1m}\u001b[0m\n"
      ]
     },
     "metadata": {},
     "output_type": "display_data"
    },
    {
     "data": {
      "text/html": [
       "<pre style=\"white-space:pre;overflow-x:auto;line-height:normal;font-family:Menlo,'DejaVu Sans Mono',consolas,'Courier New',monospace;margin:0px\"><span style=\"background-color: #d7af00; font-weight: bold\"> DISK </span> Writing <span style=\"color: #d7af00; text-decoration-color: #d7af00\">../aligned_files/m0728a/m0728a_apo-desolv-Hs.pdb</span>...\n",
       "</pre>\n"
      ],
      "text/plain": [
       "\u001b[1;7;38;5;178m DISK \u001b[0m Writing \u001b[38;5;178m../aligned_files/m0728a/m0728a_apo-desolv-Hs.pdb\u001b[0m...\n"
      ]
     },
     "metadata": {},
     "output_type": "display_data"
    },
    {
     "data": {
      "text/html": [
       "<pre style=\"white-space:pre;overflow-x:auto;line-height:normal;font-family:Menlo,'DejaVu Sans Mono',consolas,'Courier New',monospace;margin:0px\"><span style=\"background-color: #ff8700; font-weight: bold\"> Warning </span><span style=\"color: #ff8700; text-decoration-color: #ff8700\"> fixer.missingAtoms={&lt;Residue 184 (LEU) of chain 0&gt;: [&lt;Atom 3 (CG) of chain 0 residue 0 (LEU)&gt;, &lt;Atom 4 </span>\n",
       "<span style=\"color: #ff8700; text-decoration-color: #ff8700\">(CD1) of chain 0 residue 0 (LEU)&gt;, &lt;Atom 5 (CD2) of chain 0 residue 0 (LEU)&gt;]}!</span>\n",
       "</pre>\n"
      ],
      "text/plain": [
       "\u001b[1;7;38;5;208m Warning \u001b[0m\u001b[38;5;208m fixer.missingAtoms={<Residue 184 (LEU) of chain 0>: [<Atom 3 (CG) of chain 0 residue 0 (LEU)>, <Atom 4 \u001b[0m\n",
       "\u001b[38;5;208m(CD1) of chain 0 residue 0 (LEU)>, <Atom 5 (CD2) of chain 0 residue 0 (LEU)>]}!\u001b[0m\n"
      ]
     },
     "metadata": {},
     "output_type": "display_data"
    },
    {
     "data": {
      "text/html": [
       "<pre style=\"white-space:pre;overflow-x:auto;line-height:normal;font-family:Menlo,'DejaVu Sans Mono',consolas,'Courier New',monospace;margin:0px\">fixer.<span style=\"color: #808000; text-decoration-color: #808000\">missingTerminals</span>=<span style=\"font-weight: bold\">{&lt;</span><span style=\"color: #ff00ff; text-decoration-color: #ff00ff; font-weight: bold\">Residue</span><span style=\"color: #000000; text-decoration-color: #000000\"> </span><span style=\"color: #008080; text-decoration-color: #008080; font-weight: bold\">184</span><span style=\"color: #000000; text-decoration-color: #000000\"> </span><span style=\"color: #000000; text-decoration-color: #000000; font-weight: bold\">(</span><span style=\"color: #000000; text-decoration-color: #000000\">LEU</span><span style=\"color: #000000; text-decoration-color: #000000; font-weight: bold\">)</span><span style=\"color: #000000; text-decoration-color: #000000\"> of chain </span><span style=\"color: #008080; text-decoration-color: #008080; font-weight: bold\">0</span><span style=\"font-weight: bold\">&gt;</span>: <span style=\"font-weight: bold\">[</span><span style=\"color: #008000; text-decoration-color: #008000\">'OXT'</span><span style=\"font-weight: bold\">]}</span>\n",
       "</pre>\n"
      ],
      "text/plain": [
       "fixer.\u001b[33mmissingTerminals\u001b[0m=\u001b[1m{\u001b[0m\u001b[1m<\u001b[0m\u001b[1;95mResidue\u001b[0m\u001b[39m \u001b[0m\u001b[1;36m184\u001b[0m\u001b[39m \u001b[0m\u001b[1;39m(\u001b[0m\u001b[39mLEU\u001b[0m\u001b[1;39m)\u001b[0m\u001b[39m of chain \u001b[0m\u001b[1;36m0\u001b[0m\u001b[1m>\u001b[0m: \u001b[1m[\u001b[0m\u001b[32m'OXT'\u001b[0m\u001b[1m]\u001b[0m\u001b[1m}\u001b[0m\n"
      ]
     },
     "metadata": {},
     "output_type": "display_data"
    },
    {
     "data": {
      "text/html": [
       "<pre style=\"white-space:pre;overflow-x:auto;line-height:normal;font-family:Menlo,'DejaVu Sans Mono',consolas,'Courier New',monospace;margin:0px\"><span style=\"background-color: #d7af00; font-weight: bold\"> DISK </span> Writing <span style=\"color: #d7af00; text-decoration-color: #d7af00\">../aligned_files/m0731a/m0731a_apo-desolv-Hs.pdb</span>...\n",
       "</pre>\n"
      ],
      "text/plain": [
       "\u001b[1;7;38;5;178m DISK \u001b[0m Writing \u001b[38;5;178m../aligned_files/m0731a/m0731a_apo-desolv-Hs.pdb\u001b[0m...\n"
      ]
     },
     "metadata": {},
     "output_type": "display_data"
    },
    {
     "data": {
      "text/html": [
       "<pre style=\"white-space:pre;overflow-x:auto;line-height:normal;font-family:Menlo,'DejaVu Sans Mono',consolas,'Courier New',monospace;margin:0px\"><span style=\"background-color: #ff8700; font-weight: bold\"> Warning </span><span style=\"color: #ff8700; text-decoration-color: #ff8700\"> fixer.missingAtoms={&lt;Residue 184 (LEU) of chain 0&gt;: [&lt;Atom 3 (CG) of chain 0 residue 0 (LEU)&gt;, &lt;Atom 4 </span>\n",
       "<span style=\"color: #ff8700; text-decoration-color: #ff8700\">(CD1) of chain 0 residue 0 (LEU)&gt;, &lt;Atom 5 (CD2) of chain 0 residue 0 (LEU)&gt;]}!</span>\n",
       "</pre>\n"
      ],
      "text/plain": [
       "\u001b[1;7;38;5;208m Warning \u001b[0m\u001b[38;5;208m fixer.missingAtoms={<Residue 184 (LEU) of chain 0>: [<Atom 3 (CG) of chain 0 residue 0 (LEU)>, <Atom 4 \u001b[0m\n",
       "\u001b[38;5;208m(CD1) of chain 0 residue 0 (LEU)>, <Atom 5 (CD2) of chain 0 residue 0 (LEU)>]}!\u001b[0m\n"
      ]
     },
     "metadata": {},
     "output_type": "display_data"
    },
    {
     "data": {
      "text/html": [
       "<pre style=\"white-space:pre;overflow-x:auto;line-height:normal;font-family:Menlo,'DejaVu Sans Mono',consolas,'Courier New',monospace;margin:0px\">fixer.<span style=\"color: #808000; text-decoration-color: #808000\">missingTerminals</span>=<span style=\"font-weight: bold\">{&lt;</span><span style=\"color: #ff00ff; text-decoration-color: #ff00ff; font-weight: bold\">Residue</span><span style=\"color: #000000; text-decoration-color: #000000\"> </span><span style=\"color: #008080; text-decoration-color: #008080; font-weight: bold\">184</span><span style=\"color: #000000; text-decoration-color: #000000\"> </span><span style=\"color: #000000; text-decoration-color: #000000; font-weight: bold\">(</span><span style=\"color: #000000; text-decoration-color: #000000\">LEU</span><span style=\"color: #000000; text-decoration-color: #000000; font-weight: bold\">)</span><span style=\"color: #000000; text-decoration-color: #000000\"> of chain </span><span style=\"color: #008080; text-decoration-color: #008080; font-weight: bold\">0</span><span style=\"font-weight: bold\">&gt;</span>: <span style=\"font-weight: bold\">[</span><span style=\"color: #008000; text-decoration-color: #008000\">'OXT'</span><span style=\"font-weight: bold\">]}</span>\n",
       "</pre>\n"
      ],
      "text/plain": [
       "fixer.\u001b[33mmissingTerminals\u001b[0m=\u001b[1m{\u001b[0m\u001b[1m<\u001b[0m\u001b[1;95mResidue\u001b[0m\u001b[39m \u001b[0m\u001b[1;36m184\u001b[0m\u001b[39m \u001b[0m\u001b[1;39m(\u001b[0m\u001b[39mLEU\u001b[0m\u001b[1;39m)\u001b[0m\u001b[39m of chain \u001b[0m\u001b[1;36m0\u001b[0m\u001b[1m>\u001b[0m: \u001b[1m[\u001b[0m\u001b[32m'OXT'\u001b[0m\u001b[1m]\u001b[0m\u001b[1m}\u001b[0m\n"
      ]
     },
     "metadata": {},
     "output_type": "display_data"
    },
    {
     "data": {
      "text/html": [
       "<pre style=\"white-space:pre;overflow-x:auto;line-height:normal;font-family:Menlo,'DejaVu Sans Mono',consolas,'Courier New',monospace;margin:0px\"><span style=\"background-color: #d7af00; font-weight: bold\"> DISK </span> Writing <span style=\"color: #d7af00; text-decoration-color: #d7af00\">../aligned_files/m0733a/m0733a_apo-desolv-Hs.pdb</span>...\n",
       "</pre>\n"
      ],
      "text/plain": [
       "\u001b[1;7;38;5;178m DISK \u001b[0m Writing \u001b[38;5;178m../aligned_files/m0733a/m0733a_apo-desolv-Hs.pdb\u001b[0m...\n"
      ]
     },
     "metadata": {},
     "output_type": "display_data"
    },
    {
     "data": {
      "text/html": [
       "<pre style=\"white-space:pre;overflow-x:auto;line-height:normal;font-family:Menlo,'DejaVu Sans Mono',consolas,'Courier New',monospace;margin:0px\"><span style=\"background-color: #ff8700; font-weight: bold\"> Warning </span><span style=\"color: #ff8700; text-decoration-color: #ff8700\"> fixer.missingAtoms={&lt;Residue 184 (LEU) of chain 0&gt;: [&lt;Atom 3 (CG) of chain 0 residue 0 (LEU)&gt;, &lt;Atom 4 </span>\n",
       "<span style=\"color: #ff8700; text-decoration-color: #ff8700\">(CD1) of chain 0 residue 0 (LEU)&gt;, &lt;Atom 5 (CD2) of chain 0 residue 0 (LEU)&gt;]}!</span>\n",
       "</pre>\n"
      ],
      "text/plain": [
       "\u001b[1;7;38;5;208m Warning \u001b[0m\u001b[38;5;208m fixer.missingAtoms={<Residue 184 (LEU) of chain 0>: [<Atom 3 (CG) of chain 0 residue 0 (LEU)>, <Atom 4 \u001b[0m\n",
       "\u001b[38;5;208m(CD1) of chain 0 residue 0 (LEU)>, <Atom 5 (CD2) of chain 0 residue 0 (LEU)>]}!\u001b[0m\n"
      ]
     },
     "metadata": {},
     "output_type": "display_data"
    },
    {
     "data": {
      "text/html": [
       "<pre style=\"white-space:pre;overflow-x:auto;line-height:normal;font-family:Menlo,'DejaVu Sans Mono',consolas,'Courier New',monospace;margin:0px\">fixer.<span style=\"color: #808000; text-decoration-color: #808000\">missingTerminals</span>=<span style=\"font-weight: bold\">{&lt;</span><span style=\"color: #ff00ff; text-decoration-color: #ff00ff; font-weight: bold\">Residue</span><span style=\"color: #000000; text-decoration-color: #000000\"> </span><span style=\"color: #008080; text-decoration-color: #008080; font-weight: bold\">184</span><span style=\"color: #000000; text-decoration-color: #000000\"> </span><span style=\"color: #000000; text-decoration-color: #000000; font-weight: bold\">(</span><span style=\"color: #000000; text-decoration-color: #000000\">LEU</span><span style=\"color: #000000; text-decoration-color: #000000; font-weight: bold\">)</span><span style=\"color: #000000; text-decoration-color: #000000\"> of chain </span><span style=\"color: #008080; text-decoration-color: #008080; font-weight: bold\">0</span><span style=\"font-weight: bold\">&gt;</span>: <span style=\"font-weight: bold\">[</span><span style=\"color: #008000; text-decoration-color: #008000\">'OXT'</span><span style=\"font-weight: bold\">]}</span>\n",
       "</pre>\n"
      ],
      "text/plain": [
       "fixer.\u001b[33mmissingTerminals\u001b[0m=\u001b[1m{\u001b[0m\u001b[1m<\u001b[0m\u001b[1;95mResidue\u001b[0m\u001b[39m \u001b[0m\u001b[1;36m184\u001b[0m\u001b[39m \u001b[0m\u001b[1;39m(\u001b[0m\u001b[39mLEU\u001b[0m\u001b[1;39m)\u001b[0m\u001b[39m of chain \u001b[0m\u001b[1;36m0\u001b[0m\u001b[1m>\u001b[0m: \u001b[1m[\u001b[0m\u001b[32m'OXT'\u001b[0m\u001b[1m]\u001b[0m\u001b[1m}\u001b[0m\n"
      ]
     },
     "metadata": {},
     "output_type": "display_data"
    },
    {
     "data": {
      "text/html": [
       "<pre style=\"white-space:pre;overflow-x:auto;line-height:normal;font-family:Menlo,'DejaVu Sans Mono',consolas,'Courier New',monospace;margin:0px\"><span style=\"background-color: #d7af00; font-weight: bold\"> DISK </span> Writing <span style=\"color: #d7af00; text-decoration-color: #d7af00\">../aligned_files/m0743a/m0743a_apo-desolv-Hs.pdb</span>...\n",
       "</pre>\n"
      ],
      "text/plain": [
       "\u001b[1;7;38;5;178m DISK \u001b[0m Writing \u001b[38;5;178m../aligned_files/m0743a/m0743a_apo-desolv-Hs.pdb\u001b[0m...\n"
      ]
     },
     "metadata": {},
     "output_type": "display_data"
    },
    {
     "data": {
      "text/html": [
       "<pre style=\"white-space:pre;overflow-x:auto;line-height:normal;font-family:Menlo,'DejaVu Sans Mono',consolas,'Courier New',monospace;margin:0px\"><span style=\"background-color: #ff8700; font-weight: bold\"> Warning </span><span style=\"color: #ff8700; text-decoration-color: #ff8700\"> fixer.missingAtoms={&lt;Residue 184 (LEU) of chain 0&gt;: [&lt;Atom 3 (CG) of chain 0 residue 0 (LEU)&gt;, &lt;Atom 4 </span>\n",
       "<span style=\"color: #ff8700; text-decoration-color: #ff8700\">(CD1) of chain 0 residue 0 (LEU)&gt;, &lt;Atom 5 (CD2) of chain 0 residue 0 (LEU)&gt;]}!</span>\n",
       "</pre>\n"
      ],
      "text/plain": [
       "\u001b[1;7;38;5;208m Warning \u001b[0m\u001b[38;5;208m fixer.missingAtoms={<Residue 184 (LEU) of chain 0>: [<Atom 3 (CG) of chain 0 residue 0 (LEU)>, <Atom 4 \u001b[0m\n",
       "\u001b[38;5;208m(CD1) of chain 0 residue 0 (LEU)>, <Atom 5 (CD2) of chain 0 residue 0 (LEU)>]}!\u001b[0m\n"
      ]
     },
     "metadata": {},
     "output_type": "display_data"
    },
    {
     "data": {
      "text/html": [
       "<pre style=\"white-space:pre;overflow-x:auto;line-height:normal;font-family:Menlo,'DejaVu Sans Mono',consolas,'Courier New',monospace;margin:0px\">fixer.<span style=\"color: #808000; text-decoration-color: #808000\">missingTerminals</span>=<span style=\"font-weight: bold\">{&lt;</span><span style=\"color: #ff00ff; text-decoration-color: #ff00ff; font-weight: bold\">Residue</span><span style=\"color: #000000; text-decoration-color: #000000\"> </span><span style=\"color: #008080; text-decoration-color: #008080; font-weight: bold\">184</span><span style=\"color: #000000; text-decoration-color: #000000\"> </span><span style=\"color: #000000; text-decoration-color: #000000; font-weight: bold\">(</span><span style=\"color: #000000; text-decoration-color: #000000\">LEU</span><span style=\"color: #000000; text-decoration-color: #000000; font-weight: bold\">)</span><span style=\"color: #000000; text-decoration-color: #000000\"> of chain </span><span style=\"color: #008080; text-decoration-color: #008080; font-weight: bold\">0</span><span style=\"font-weight: bold\">&gt;</span>: <span style=\"font-weight: bold\">[</span><span style=\"color: #008000; text-decoration-color: #008000\">'OXT'</span><span style=\"font-weight: bold\">]}</span>\n",
       "</pre>\n"
      ],
      "text/plain": [
       "fixer.\u001b[33mmissingTerminals\u001b[0m=\u001b[1m{\u001b[0m\u001b[1m<\u001b[0m\u001b[1;95mResidue\u001b[0m\u001b[39m \u001b[0m\u001b[1;36m184\u001b[0m\u001b[39m \u001b[0m\u001b[1;39m(\u001b[0m\u001b[39mLEU\u001b[0m\u001b[1;39m)\u001b[0m\u001b[39m of chain \u001b[0m\u001b[1;36m0\u001b[0m\u001b[1m>\u001b[0m: \u001b[1m[\u001b[0m\u001b[32m'OXT'\u001b[0m\u001b[1m]\u001b[0m\u001b[1m}\u001b[0m\n"
      ]
     },
     "metadata": {},
     "output_type": "display_data"
    },
    {
     "data": {
      "text/html": [
       "<pre style=\"white-space:pre;overflow-x:auto;line-height:normal;font-family:Menlo,'DejaVu Sans Mono',consolas,'Courier New',monospace;margin:0px\"><span style=\"background-color: #d7af00; font-weight: bold\"> DISK </span> Writing <span style=\"color: #d7af00; text-decoration-color: #d7af00\">../aligned_files/m0744a/m0744a_apo-desolv-Hs.pdb</span>...\n",
       "</pre>\n"
      ],
      "text/plain": [
       "\u001b[1;7;38;5;178m DISK \u001b[0m Writing \u001b[38;5;178m../aligned_files/m0744a/m0744a_apo-desolv-Hs.pdb\u001b[0m...\n"
      ]
     },
     "metadata": {},
     "output_type": "display_data"
    },
    {
     "data": {
      "text/html": [
       "<pre style=\"white-space:pre;overflow-x:auto;line-height:normal;font-family:Menlo,'DejaVu Sans Mono',consolas,'Courier New',monospace;margin:0px\"><span style=\"background-color: #ff8700; font-weight: bold\"> Warning </span><span style=\"color: #ff8700; text-decoration-color: #ff8700\"> fixer.missingAtoms={&lt;Residue 184 (LEU) of chain 0&gt;: [&lt;Atom 3 (CG) of chain 0 residue 0 (LEU)&gt;, &lt;Atom 4 </span>\n",
       "<span style=\"color: #ff8700; text-decoration-color: #ff8700\">(CD1) of chain 0 residue 0 (LEU)&gt;, &lt;Atom 5 (CD2) of chain 0 residue 0 (LEU)&gt;]}!</span>\n",
       "</pre>\n"
      ],
      "text/plain": [
       "\u001b[1;7;38;5;208m Warning \u001b[0m\u001b[38;5;208m fixer.missingAtoms={<Residue 184 (LEU) of chain 0>: [<Atom 3 (CG) of chain 0 residue 0 (LEU)>, <Atom 4 \u001b[0m\n",
       "\u001b[38;5;208m(CD1) of chain 0 residue 0 (LEU)>, <Atom 5 (CD2) of chain 0 residue 0 (LEU)>]}!\u001b[0m\n"
      ]
     },
     "metadata": {},
     "output_type": "display_data"
    },
    {
     "data": {
      "text/html": [
       "<pre style=\"white-space:pre;overflow-x:auto;line-height:normal;font-family:Menlo,'DejaVu Sans Mono',consolas,'Courier New',monospace;margin:0px\">fixer.<span style=\"color: #808000; text-decoration-color: #808000\">missingTerminals</span>=<span style=\"font-weight: bold\">{&lt;</span><span style=\"color: #ff00ff; text-decoration-color: #ff00ff; font-weight: bold\">Residue</span><span style=\"color: #000000; text-decoration-color: #000000\"> </span><span style=\"color: #008080; text-decoration-color: #008080; font-weight: bold\">184</span><span style=\"color: #000000; text-decoration-color: #000000\"> </span><span style=\"color: #000000; text-decoration-color: #000000; font-weight: bold\">(</span><span style=\"color: #000000; text-decoration-color: #000000\">LEU</span><span style=\"color: #000000; text-decoration-color: #000000; font-weight: bold\">)</span><span style=\"color: #000000; text-decoration-color: #000000\"> of chain </span><span style=\"color: #008080; text-decoration-color: #008080; font-weight: bold\">0</span><span style=\"font-weight: bold\">&gt;</span>: <span style=\"font-weight: bold\">[</span><span style=\"color: #008000; text-decoration-color: #008000\">'OXT'</span><span style=\"font-weight: bold\">]}</span>\n",
       "</pre>\n"
      ],
      "text/plain": [
       "fixer.\u001b[33mmissingTerminals\u001b[0m=\u001b[1m{\u001b[0m\u001b[1m<\u001b[0m\u001b[1;95mResidue\u001b[0m\u001b[39m \u001b[0m\u001b[1;36m184\u001b[0m\u001b[39m \u001b[0m\u001b[1;39m(\u001b[0m\u001b[39mLEU\u001b[0m\u001b[1;39m)\u001b[0m\u001b[39m of chain \u001b[0m\u001b[1;36m0\u001b[0m\u001b[1m>\u001b[0m: \u001b[1m[\u001b[0m\u001b[32m'OXT'\u001b[0m\u001b[1m]\u001b[0m\u001b[1m}\u001b[0m\n"
      ]
     },
     "metadata": {},
     "output_type": "display_data"
    },
    {
     "data": {
      "text/html": [
       "<pre style=\"white-space:pre;overflow-x:auto;line-height:normal;font-family:Menlo,'DejaVu Sans Mono',consolas,'Courier New',monospace;margin:0px\"><span style=\"background-color: #d7af00; font-weight: bold\"> DISK </span> Writing <span style=\"color: #d7af00; text-decoration-color: #d7af00\">../aligned_files/m0746a/m0746a_apo-desolv-Hs.pdb</span>...\n",
       "</pre>\n"
      ],
      "text/plain": [
       "\u001b[1;7;38;5;178m DISK \u001b[0m Writing \u001b[38;5;178m../aligned_files/m0746a/m0746a_apo-desolv-Hs.pdb\u001b[0m...\n"
      ]
     },
     "metadata": {},
     "output_type": "display_data"
    },
    {
     "data": {
      "text/html": [
       "<pre style=\"white-space:pre;overflow-x:auto;line-height:normal;font-family:Menlo,'DejaVu Sans Mono',consolas,'Courier New',monospace;margin:0px\"><span style=\"background-color: #ff8700; font-weight: bold\"> Warning </span><span style=\"color: #ff8700; text-decoration-color: #ff8700\"> fixer.missingAtoms={&lt;Residue 184 (LEU) of chain 0&gt;: [&lt;Atom 3 (CG) of chain 0 residue 0 (LEU)&gt;, &lt;Atom 4 </span>\n",
       "<span style=\"color: #ff8700; text-decoration-color: #ff8700\">(CD1) of chain 0 residue 0 (LEU)&gt;, &lt;Atom 5 (CD2) of chain 0 residue 0 (LEU)&gt;]}!</span>\n",
       "</pre>\n"
      ],
      "text/plain": [
       "\u001b[1;7;38;5;208m Warning \u001b[0m\u001b[38;5;208m fixer.missingAtoms={<Residue 184 (LEU) of chain 0>: [<Atom 3 (CG) of chain 0 residue 0 (LEU)>, <Atom 4 \u001b[0m\n",
       "\u001b[38;5;208m(CD1) of chain 0 residue 0 (LEU)>, <Atom 5 (CD2) of chain 0 residue 0 (LEU)>]}!\u001b[0m\n"
      ]
     },
     "metadata": {},
     "output_type": "display_data"
    },
    {
     "data": {
      "text/html": [
       "<pre style=\"white-space:pre;overflow-x:auto;line-height:normal;font-family:Menlo,'DejaVu Sans Mono',consolas,'Courier New',monospace;margin:0px\">fixer.<span style=\"color: #808000; text-decoration-color: #808000\">missingTerminals</span>=<span style=\"font-weight: bold\">{&lt;</span><span style=\"color: #ff00ff; text-decoration-color: #ff00ff; font-weight: bold\">Residue</span><span style=\"color: #000000; text-decoration-color: #000000\"> </span><span style=\"color: #008080; text-decoration-color: #008080; font-weight: bold\">184</span><span style=\"color: #000000; text-decoration-color: #000000\"> </span><span style=\"color: #000000; text-decoration-color: #000000; font-weight: bold\">(</span><span style=\"color: #000000; text-decoration-color: #000000\">LEU</span><span style=\"color: #000000; text-decoration-color: #000000; font-weight: bold\">)</span><span style=\"color: #000000; text-decoration-color: #000000\"> of chain </span><span style=\"color: #008080; text-decoration-color: #008080; font-weight: bold\">0</span><span style=\"font-weight: bold\">&gt;</span>: <span style=\"font-weight: bold\">[</span><span style=\"color: #008000; text-decoration-color: #008000\">'OXT'</span><span style=\"font-weight: bold\">]}</span>\n",
       "</pre>\n"
      ],
      "text/plain": [
       "fixer.\u001b[33mmissingTerminals\u001b[0m=\u001b[1m{\u001b[0m\u001b[1m<\u001b[0m\u001b[1;95mResidue\u001b[0m\u001b[39m \u001b[0m\u001b[1;36m184\u001b[0m\u001b[39m \u001b[0m\u001b[1;39m(\u001b[0m\u001b[39mLEU\u001b[0m\u001b[1;39m)\u001b[0m\u001b[39m of chain \u001b[0m\u001b[1;36m0\u001b[0m\u001b[1m>\u001b[0m: \u001b[1m[\u001b[0m\u001b[32m'OXT'\u001b[0m\u001b[1m]\u001b[0m\u001b[1m}\u001b[0m\n"
      ]
     },
     "metadata": {},
     "output_type": "display_data"
    },
    {
     "data": {
      "text/html": [
       "<pre style=\"white-space:pre;overflow-x:auto;line-height:normal;font-family:Menlo,'DejaVu Sans Mono',consolas,'Courier New',monospace;margin:0px\"><span style=\"background-color: #d7af00; font-weight: bold\"> DISK </span> Writing <span style=\"color: #d7af00; text-decoration-color: #d7af00\">../aligned_files/m0770a/m0770a_apo-desolv-Hs.pdb</span>...\n",
       "</pre>\n"
      ],
      "text/plain": [
       "\u001b[1;7;38;5;178m DISK \u001b[0m Writing \u001b[38;5;178m../aligned_files/m0770a/m0770a_apo-desolv-Hs.pdb\u001b[0m...\n"
      ]
     },
     "metadata": {},
     "output_type": "display_data"
    },
    {
     "data": {
      "text/html": [
       "<pre style=\"white-space:pre;overflow-x:auto;line-height:normal;font-family:Menlo,'DejaVu Sans Mono',consolas,'Courier New',monospace;margin:0px\"><span style=\"background-color: #ff8700; font-weight: bold\"> Warning </span><span style=\"color: #ff8700; text-decoration-color: #ff8700\"> fixer.missingAtoms={&lt;Residue 184 (LEU) of chain 0&gt;: [&lt;Atom 3 (CG) of chain 0 residue 0 (LEU)&gt;, &lt;Atom 4 </span>\n",
       "<span style=\"color: #ff8700; text-decoration-color: #ff8700\">(CD1) of chain 0 residue 0 (LEU)&gt;, &lt;Atom 5 (CD2) of chain 0 residue 0 (LEU)&gt;]}!</span>\n",
       "</pre>\n"
      ],
      "text/plain": [
       "\u001b[1;7;38;5;208m Warning \u001b[0m\u001b[38;5;208m fixer.missingAtoms={<Residue 184 (LEU) of chain 0>: [<Atom 3 (CG) of chain 0 residue 0 (LEU)>, <Atom 4 \u001b[0m\n",
       "\u001b[38;5;208m(CD1) of chain 0 residue 0 (LEU)>, <Atom 5 (CD2) of chain 0 residue 0 (LEU)>]}!\u001b[0m\n"
      ]
     },
     "metadata": {},
     "output_type": "display_data"
    },
    {
     "data": {
      "text/html": [
       "<pre style=\"white-space:pre;overflow-x:auto;line-height:normal;font-family:Menlo,'DejaVu Sans Mono',consolas,'Courier New',monospace;margin:0px\">fixer.<span style=\"color: #808000; text-decoration-color: #808000\">missingTerminals</span>=<span style=\"font-weight: bold\">{&lt;</span><span style=\"color: #ff00ff; text-decoration-color: #ff00ff; font-weight: bold\">Residue</span><span style=\"color: #000000; text-decoration-color: #000000\"> </span><span style=\"color: #008080; text-decoration-color: #008080; font-weight: bold\">184</span><span style=\"color: #000000; text-decoration-color: #000000\"> </span><span style=\"color: #000000; text-decoration-color: #000000; font-weight: bold\">(</span><span style=\"color: #000000; text-decoration-color: #000000\">LEU</span><span style=\"color: #000000; text-decoration-color: #000000; font-weight: bold\">)</span><span style=\"color: #000000; text-decoration-color: #000000\"> of chain </span><span style=\"color: #008080; text-decoration-color: #008080; font-weight: bold\">0</span><span style=\"font-weight: bold\">&gt;</span>: <span style=\"font-weight: bold\">[</span><span style=\"color: #008000; text-decoration-color: #008000\">'OXT'</span><span style=\"font-weight: bold\">]}</span>\n",
       "</pre>\n"
      ],
      "text/plain": [
       "fixer.\u001b[33mmissingTerminals\u001b[0m=\u001b[1m{\u001b[0m\u001b[1m<\u001b[0m\u001b[1;95mResidue\u001b[0m\u001b[39m \u001b[0m\u001b[1;36m184\u001b[0m\u001b[39m \u001b[0m\u001b[1;39m(\u001b[0m\u001b[39mLEU\u001b[0m\u001b[1;39m)\u001b[0m\u001b[39m of chain \u001b[0m\u001b[1;36m0\u001b[0m\u001b[1m>\u001b[0m: \u001b[1m[\u001b[0m\u001b[32m'OXT'\u001b[0m\u001b[1m]\u001b[0m\u001b[1m}\u001b[0m\n"
      ]
     },
     "metadata": {},
     "output_type": "display_data"
    },
    {
     "data": {
      "text/html": [
       "<pre style=\"white-space:pre;overflow-x:auto;line-height:normal;font-family:Menlo,'DejaVu Sans Mono',consolas,'Courier New',monospace;margin:0px\"><span style=\"background-color: #d7af00; font-weight: bold\"> DISK </span> Writing <span style=\"color: #d7af00; text-decoration-color: #d7af00\">../aligned_files/m0780a/m0780a_apo-desolv-Hs.pdb</span>...\n",
       "</pre>\n"
      ],
      "text/plain": [
       "\u001b[1;7;38;5;178m DISK \u001b[0m Writing \u001b[38;5;178m../aligned_files/m0780a/m0780a_apo-desolv-Hs.pdb\u001b[0m...\n"
      ]
     },
     "metadata": {},
     "output_type": "display_data"
    },
    {
     "data": {
      "text/html": [
       "<pre style=\"white-space:pre;overflow-x:auto;line-height:normal;font-family:Menlo,'DejaVu Sans Mono',consolas,'Courier New',monospace;margin:0px\"><span style=\"background-color: #ff8700; font-weight: bold\"> Warning </span><span style=\"color: #ff8700; text-decoration-color: #ff8700\"> fixer.missingAtoms={&lt;Residue 184 (LEU) of chain 0&gt;: [&lt;Atom 3 (CG) of chain 0 residue 0 (LEU)&gt;, &lt;Atom 4 </span>\n",
       "<span style=\"color: #ff8700; text-decoration-color: #ff8700\">(CD1) of chain 0 residue 0 (LEU)&gt;, &lt;Atom 5 (CD2) of chain 0 residue 0 (LEU)&gt;]}!</span>\n",
       "</pre>\n"
      ],
      "text/plain": [
       "\u001b[1;7;38;5;208m Warning \u001b[0m\u001b[38;5;208m fixer.missingAtoms={<Residue 184 (LEU) of chain 0>: [<Atom 3 (CG) of chain 0 residue 0 (LEU)>, <Atom 4 \u001b[0m\n",
       "\u001b[38;5;208m(CD1) of chain 0 residue 0 (LEU)>, <Atom 5 (CD2) of chain 0 residue 0 (LEU)>]}!\u001b[0m\n"
      ]
     },
     "metadata": {},
     "output_type": "display_data"
    },
    {
     "data": {
      "text/html": [
       "<pre style=\"white-space:pre;overflow-x:auto;line-height:normal;font-family:Menlo,'DejaVu Sans Mono',consolas,'Courier New',monospace;margin:0px\">fixer.<span style=\"color: #808000; text-decoration-color: #808000\">missingTerminals</span>=<span style=\"font-weight: bold\">{&lt;</span><span style=\"color: #ff00ff; text-decoration-color: #ff00ff; font-weight: bold\">Residue</span><span style=\"color: #000000; text-decoration-color: #000000\"> </span><span style=\"color: #008080; text-decoration-color: #008080; font-weight: bold\">184</span><span style=\"color: #000000; text-decoration-color: #000000\"> </span><span style=\"color: #000000; text-decoration-color: #000000; font-weight: bold\">(</span><span style=\"color: #000000; text-decoration-color: #000000\">LEU</span><span style=\"color: #000000; text-decoration-color: #000000; font-weight: bold\">)</span><span style=\"color: #000000; text-decoration-color: #000000\"> of chain </span><span style=\"color: #008080; text-decoration-color: #008080; font-weight: bold\">0</span><span style=\"font-weight: bold\">&gt;</span>: <span style=\"font-weight: bold\">[</span><span style=\"color: #008000; text-decoration-color: #008000\">'OXT'</span><span style=\"font-weight: bold\">]}</span>\n",
       "</pre>\n"
      ],
      "text/plain": [
       "fixer.\u001b[33mmissingTerminals\u001b[0m=\u001b[1m{\u001b[0m\u001b[1m<\u001b[0m\u001b[1;95mResidue\u001b[0m\u001b[39m \u001b[0m\u001b[1;36m184\u001b[0m\u001b[39m \u001b[0m\u001b[1;39m(\u001b[0m\u001b[39mLEU\u001b[0m\u001b[1;39m)\u001b[0m\u001b[39m of chain \u001b[0m\u001b[1;36m0\u001b[0m\u001b[1m>\u001b[0m: \u001b[1m[\u001b[0m\u001b[32m'OXT'\u001b[0m\u001b[1m]\u001b[0m\u001b[1m}\u001b[0m\n"
      ]
     },
     "metadata": {},
     "output_type": "display_data"
    },
    {
     "data": {
      "text/html": [
       "<pre style=\"white-space:pre;overflow-x:auto;line-height:normal;font-family:Menlo,'DejaVu Sans Mono',consolas,'Courier New',monospace;margin:0px\"><span style=\"background-color: #d7af00; font-weight: bold\"> DISK </span> Writing <span style=\"color: #d7af00; text-decoration-color: #d7af00\">../aligned_files/m0789a/m0789a_apo-desolv-Hs.pdb</span>...\n",
       "</pre>\n"
      ],
      "text/plain": [
       "\u001b[1;7;38;5;178m DISK \u001b[0m Writing \u001b[38;5;178m../aligned_files/m0789a/m0789a_apo-desolv-Hs.pdb\u001b[0m...\n"
      ]
     },
     "metadata": {},
     "output_type": "display_data"
    },
    {
     "data": {
      "text/html": [
       "<pre style=\"white-space:pre;overflow-x:auto;line-height:normal;font-family:Menlo,'DejaVu Sans Mono',consolas,'Courier New',monospace;margin:0px\"><span style=\"background-color: #ff8700; font-weight: bold\"> Warning </span><span style=\"color: #ff8700; text-decoration-color: #ff8700\"> fixer.missingAtoms={&lt;Residue 184 (LEU) of chain 0&gt;: [&lt;Atom 3 (CG) of chain 0 residue 0 (LEU)&gt;, &lt;Atom 4 </span>\n",
       "<span style=\"color: #ff8700; text-decoration-color: #ff8700\">(CD1) of chain 0 residue 0 (LEU)&gt;, &lt;Atom 5 (CD2) of chain 0 residue 0 (LEU)&gt;]}!</span>\n",
       "</pre>\n"
      ],
      "text/plain": [
       "\u001b[1;7;38;5;208m Warning \u001b[0m\u001b[38;5;208m fixer.missingAtoms={<Residue 184 (LEU) of chain 0>: [<Atom 3 (CG) of chain 0 residue 0 (LEU)>, <Atom 4 \u001b[0m\n",
       "\u001b[38;5;208m(CD1) of chain 0 residue 0 (LEU)>, <Atom 5 (CD2) of chain 0 residue 0 (LEU)>]}!\u001b[0m\n"
      ]
     },
     "metadata": {},
     "output_type": "display_data"
    },
    {
     "data": {
      "text/html": [
       "<pre style=\"white-space:pre;overflow-x:auto;line-height:normal;font-family:Menlo,'DejaVu Sans Mono',consolas,'Courier New',monospace;margin:0px\">fixer.<span style=\"color: #808000; text-decoration-color: #808000\">missingTerminals</span>=<span style=\"font-weight: bold\">{&lt;</span><span style=\"color: #ff00ff; text-decoration-color: #ff00ff; font-weight: bold\">Residue</span><span style=\"color: #000000; text-decoration-color: #000000\"> </span><span style=\"color: #008080; text-decoration-color: #008080; font-weight: bold\">184</span><span style=\"color: #000000; text-decoration-color: #000000\"> </span><span style=\"color: #000000; text-decoration-color: #000000; font-weight: bold\">(</span><span style=\"color: #000000; text-decoration-color: #000000\">LEU</span><span style=\"color: #000000; text-decoration-color: #000000; font-weight: bold\">)</span><span style=\"color: #000000; text-decoration-color: #000000\"> of chain </span><span style=\"color: #008080; text-decoration-color: #008080; font-weight: bold\">0</span><span style=\"font-weight: bold\">&gt;</span>: <span style=\"font-weight: bold\">[</span><span style=\"color: #008000; text-decoration-color: #008000\">'OXT'</span><span style=\"font-weight: bold\">]}</span>\n",
       "</pre>\n"
      ],
      "text/plain": [
       "fixer.\u001b[33mmissingTerminals\u001b[0m=\u001b[1m{\u001b[0m\u001b[1m<\u001b[0m\u001b[1;95mResidue\u001b[0m\u001b[39m \u001b[0m\u001b[1;36m184\u001b[0m\u001b[39m \u001b[0m\u001b[1;39m(\u001b[0m\u001b[39mLEU\u001b[0m\u001b[1;39m)\u001b[0m\u001b[39m of chain \u001b[0m\u001b[1;36m0\u001b[0m\u001b[1m>\u001b[0m: \u001b[1m[\u001b[0m\u001b[32m'OXT'\u001b[0m\u001b[1m]\u001b[0m\u001b[1m}\u001b[0m\n"
      ]
     },
     "metadata": {},
     "output_type": "display_data"
    },
    {
     "data": {
      "text/html": [
       "<pre style=\"white-space:pre;overflow-x:auto;line-height:normal;font-family:Menlo,'DejaVu Sans Mono',consolas,'Courier New',monospace;margin:0px\"><span style=\"background-color: #d7af00; font-weight: bold\"> DISK </span> Writing <span style=\"color: #d7af00; text-decoration-color: #d7af00\">../aligned_files/m0790a/m0790a_apo-desolv-Hs.pdb</span>...\n",
       "</pre>\n"
      ],
      "text/plain": [
       "\u001b[1;7;38;5;178m DISK \u001b[0m Writing \u001b[38;5;178m../aligned_files/m0790a/m0790a_apo-desolv-Hs.pdb\u001b[0m...\n"
      ]
     },
     "metadata": {},
     "output_type": "display_data"
    },
    {
     "data": {
      "text/html": [
       "<pre style=\"white-space:pre;overflow-x:auto;line-height:normal;font-family:Menlo,'DejaVu Sans Mono',consolas,'Courier New',monospace;margin:0px\"></pre>\n"
      ],
      "text/plain": []
     },
     "metadata": {},
     "output_type": "display_data"
    }
   ],
   "source": [
    "for nickname, tag in merging_hypotheses.items():\n",
    "    poses = animal.poses(tag=tag)\n",
    "    for pose in mrich.track(poses):\n",
    "        path = pose.apo_path\n",
    "        sys = mp.parse(path,verbosity=False)\n",
    "        sys.add_hydrogens(pH=7)\n",
    "        subdir = Path(\"../aligned_files\")/pose.name\n",
    "        subdir.mkdir(exist_ok=True, parents=True)\n",
    "        sys.write(subdir / str(path.name).replace('_apo-desolv.pdb', '_apo-desolv-Hs.pdb'), verbosity=1)"
   ]
  },
  {
   "cell_type": "markdown",
   "id": "d88906c1-aaf4-4033-a5de-6b3d68c3c109",
   "metadata": {},
   "source": [
    "## Backup and close database"
   ]
  },
  {
   "cell_type": "code",
   "execution_count": 15,
   "id": "ca54fd94-5762-4557-a8f5-62e60eef583e",
   "metadata": {},
   "outputs": [
    {
     "data": {
      "text/html": [
       "<pre style=\"white-space:pre;overflow-x:auto;line-height:normal;font-family:Menlo,'DejaVu Sans Mono',consolas,'Courier New',monospace;margin:0px\"><span style=\"background-color: #d7af00; font-weight: bold\"> DISK </span> Writing <span style=\"color: #d7af00; text-decoration-color: #d7af00\">/opt/xchem-fragalysis-2/maxwin/BulkDock/TARGETS/TRIM21/TRIM21_0FY62SQ.sqlite</span>...\n",
       "</pre>\n"
      ],
      "text/plain": [
       "\u001b[1;7;38;5;178m DISK \u001b[0m Writing \u001b[38;5;178m/opt/xchem-fragalysis-2/maxwin/BulkDock/TARGETS/TRIM21/TRIM21_0FY62SQ.sqlite\u001b[0m...\n"
      ]
     },
     "metadata": {},
     "output_type": "display_data"
    },
    {
     "data": {
      "text/html": [
       "<pre style=\"white-space:pre;overflow-x:auto;line-height:normal;font-family:Menlo,'DejaVu Sans Mono',consolas,'Courier New',monospace;margin:0px\"><span style=\"color: #808080; text-decoration-color: #808080\">DEBUG: Copied 207 of 207 pages...</span>\n",
       "</pre>\n"
      ],
      "text/plain": [
       "\u001b[90mDEBUG: Copied 207 of 207 pages...\u001b[0m\n"
      ]
     },
     "metadata": {},
     "output_type": "display_data"
    },
    {
     "data": {
      "text/html": [
       "<pre style=\"white-space:pre;overflow-x:auto;line-height:normal;font-family:Menlo,'DejaVu Sans Mono',consolas,'Courier New',monospace;margin:0px\"></pre>\n"
      ],
      "text/plain": []
     },
     "metadata": {},
     "output_type": "display_data"
    },
    {
     "data": {
      "text/html": [
       "<pre style=\"white-space:pre;overflow-x:auto;line-height:normal;font-family:Menlo,'DejaVu Sans Mono',consolas,'Courier New',monospace;margin:0px\"><span style=\"color: #808080; text-decoration-color: #808080\">DEBUG: hippo.Database.close()</span>\n",
       "</pre>\n"
      ],
      "text/plain": [
       "\u001b[90mDEBUG: hippo.Database.close()\u001b[0m\n"
      ]
     },
     "metadata": {},
     "output_type": "display_data"
    },
    {
     "name": "stdout",
     "output_type": "stream",
     "text": [
      "\u001b[32;1mClosed connection to /opt/xchem-fragalysis-2/maxwin/BulkDock/TARGETS/TRIM21/TRIM21.sqlite\u001b[0m\u001b[0m\n"
     ]
    }
   ],
   "source": [
    "animal.db.backup()\n",
    "animal.db.close()"
   ]
  },
  {
   "cell_type": "code",
   "execution_count": null,
   "id": "9fe03c4f-b98b-44fa-a0a6-1c71e8f25640",
   "metadata": {},
   "outputs": [],
   "source": []
  }
 ],
 "metadata": {
  "kernelspec": {
   "display_name": "Python 3 (ipykernel)",
   "language": "python",
   "name": "python3"
  },
  "language_info": {
   "codemirror_mode": {
    "name": "ipython",
    "version": 3
   },
   "file_extension": ".py",
   "mimetype": "text/x-python",
   "name": "python",
   "nbconvert_exporter": "python",
   "pygments_lexer": "ipython3",
   "version": "3.12.8"
  }
 },
 "nbformat": 4,
 "nbformat_minor": 5
}
